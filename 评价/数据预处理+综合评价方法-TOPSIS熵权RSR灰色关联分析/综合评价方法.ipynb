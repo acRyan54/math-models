{
 "cells": [
  {
   "cell_type": "markdown",
   "metadata": {},
   "source": [
    "**四种战斗机性能指标数据**\n",
    "\n",
    "|         | 最大速度(马赫) | 飞行范围(km) | 最大负载(磅) | 费用(美元) | 可靠性 | 灵敏度 |\n",
    "| :-----: | :------------: | :----------: | :----------: | :--------: | :----: | :----: |\n",
    "|  $A_1$  |      2.0       |     1500     |    20000     |  5500000   |  一般  |  很高  |\n",
    "|  $A_2$  |      2.5       |     2700     |    18000     |  6500000   |   低   |  一般  |\n",
    "|  $A_3$  |      1.8       |     2000     |    21000     |  4500000   |   高   |   高   |\n",
    "| $A_{4}$ |      2.2       |     1800     |    20000     |  5000000   |  一般  |  一般  |\n",
    "\n",
    "假设将 6 项指标依次记为$x_1,x_2,…,x_6$，首先将$x_5$和$x_6$两项定性指标进行量化处理，量化后的数据如下表所示。\n",
    "\n",
    "**可靠性与灵敏度指标量化值**\n",
    "\n",
    "|         | 最大速度(马赫) | 飞行范围(km) | 最大负载(磅) | 费用(美元) | 可靠性 | 灵敏度 |\n",
    "| :-----: | :------------: | :----------: | :----------: | :--------: | :----: | :----: |\n",
    "|  $A_1$  |      2.0       |     1500     |    20000     |  5500000   |  0.5   |   1    |\n",
    "|  $A_2$  |      2.5       |     2700     |    18000     |  6500000   |  0.3   |  0.5   |\n",
    "|  $A_3$  |      1.8       |     2000     |    21000     |  4500000   |  0.7   |  0.7   |\n",
    "| $A_{4}$ |      2.2       |     1800     |    20000     |  5000000   |  0.5   |  0.5   |"
   ]
  },
  {
   "cell_type": "code",
   "execution_count": 8,
   "metadata": {},
   "outputs": [
    {
     "name": "stdout",
     "output_type": "stream",
     "text": [
      "[[0.8        0.55555556 0.95238095 0.81818182 0.71428571 1.        ]\n",
      " [1.         1.         0.85714286 0.69230769 0.42857143 0.5       ]\n",
      " [0.72       0.74074074 1.         1.         1.         0.7       ]\n",
      " [0.88       0.66666667 0.95238095 0.9        0.71428571 0.5       ]] \n",
      "\n",
      "[[0.46714184 0.36618056 0.50556014 0.49314675 0.48112522 0.70888121]\n",
      " [0.58392729 0.659125   0.45500413 0.40099162 0.28867513 0.3544406 ]\n",
      " [0.42042765 0.48824074 0.53083815 0.58530189 0.67357531 0.49621684]\n",
      " [0.51385602 0.43941667 0.50556014 0.53922432 0.48112522 0.3544406 ]] \n",
      "\n",
      "[[0.28571429 0.         0.66666667 0.5        0.5        1.        ]\n",
      " [1.         1.         0.         0.         0.         0.        ]\n",
      " [0.         0.41666667 1.         1.         1.         0.4       ]\n",
      " [0.57142857 0.25       0.66666667 0.75       0.5        0.        ]] \n",
      "\n"
     ]
    }
   ],
   "source": [
    "\"\"\"\n",
    "一致化与无量纲化处理\n",
    "\"\"\"\n",
    "import numpy as np\n",
    "from scipy.linalg import norm\n",
    "\n",
    "\n",
    "# 0,1,2,4,5极大型指标， 3极小型指标\n",
    "a = np.array([[2.0, 1500, 20000, 5500000, 0.5, 1],\n",
    "              [2.5, 2700, 18000, 6500000, 0.3, 0.5],\n",
    "              [1.8, 2000, 21000, 4500000, 0.7, 0.7],\n",
    "              [2.2, 1800, 20000, 5000000, 0.5, 0.5]])\n",
    "\n",
    "# 比例变换法\n",
    "b = a / a.max(axis=0)\n",
    "b[:, 3] = a[:, 3].min() / a[:, 3]\n",
    "print(b, '\\n')\n",
    "\n",
    "# 向量归一法\n",
    "b = a / norm(a, ord=2, axis=0)\n",
    "b[:, 3] = 1 - b[:, 3]\n",
    "print(b, '\\n')\n",
    "\n",
    "# 极差变换法（不保持比例）\n",
    "b = (a - a.min(axis=0)) / a.ptp(axis=0)\n",
    "b[:, 3] = (a[:, 3].max() - a[:, 3]) / a[:, 3].ptp()\n",
    "print(b, '\\n')"
   ]
  },
  {
   "cell_type": "code",
   "execution_count": 9,
   "metadata": {},
   "outputs": [
    {
     "name": "stdout",
     "output_type": "stream",
     "text": [
      "[[0.8        0.55555556 0.95238095 0.84615385 0.71428571 1.        ]\n",
      " [1.         1.         0.85714286 1.         0.42857143 0.5       ]\n",
      " [0.72       0.74074074 1.         0.69230769 1.         0.7       ]\n",
      " [0.88       0.66666667 0.95238095 0.76923077 0.71428571 0.5       ]] \n",
      "\n",
      "[[0.46714184 0.36618056 0.50556014 0.50685325 0.48112522 0.70888121]\n",
      " [0.58392729 0.659125   0.45500413 0.59900838 0.28867513 0.3544406 ]\n",
      " [0.42042765 0.48824074 0.53083815 0.41469811 0.67357531 0.49621684]\n",
      " [0.51385602 0.43941667 0.50556014 0.46077568 0.48112522 0.3544406 ]] \n",
      "\n",
      "[[0.28571429 0.         0.66666667 0.5        0.5        1.        ]\n",
      " [1.         1.         0.         1.         0.         0.        ]\n",
      " [0.         0.41666667 1.         0.         1.         0.4       ]\n",
      " [0.57142857 0.25       0.66666667 0.25       0.5        0.        ]] \n",
      "\n"
     ]
    }
   ],
   "source": [
    "\"\"\"\n",
    "一致化与无量纲化处理：利用scipy.preprocessing\n",
    "\"\"\"\n",
    "\n",
    "import numpy as np\n",
    "from sklearn.preprocessing import MinMaxScaler, MaxAbsScaler, normalize\n",
    "\n",
    "a = np.array([[2.0, 1500, 20000, 5500000, 0.5, 1],\n",
    "              [2.5, 2700, 18000, 6500000, 0.3, 0.5],\n",
    "              [1.8, 2000, 21000, 4500000, 0.7, 0.7],\n",
    "              [2.2, 1800, 20000, 5000000, 0.5, 0.5]])\n",
    "\n",
    "# 比例变换法\n",
    "scaler_MaxAbs = MaxAbsScaler().fit(a)\n",
    "print(scaler_MaxAbs.transform(a), '\\n')\n",
    "\n",
    "# 向量归一法\n",
    "print(normalize(a, norm='l2', axis=0), '\\n')\n",
    "\n",
    "# 极差变换法（不保持比例）\n",
    "scaler_MinMax = MinMaxScaler().fit(a)\n",
    "print(scaler_MinMax.transform(a), '\\n')"
   ]
  },
  {
   "cell_type": "code",
   "execution_count": 10,
   "metadata": {},
   "outputs": [
    {
     "name": "stdout",
     "output_type": "stream",
     "text": [
      "[0.05825717 0.18704101 0.01220201 0.07000746 0.32552998 0.34696237]\n"
     ]
    },
    {
     "data": {
      "text/plain": [
       "array([0.05825717, 0.18704101, 0.01220201, 0.07000746, 0.32552998,\n",
       "       0.34696237])"
      ]
     },
     "execution_count": 10,
     "metadata": {},
     "output_type": "execute_result"
    }
   ],
   "source": [
    "\"\"\"\n",
    "熵权法求权重\n",
    "\"\"\"\n",
    "import numpy as np\n",
    "import pandas as pd\n",
    "\n",
    "\n",
    "b = np.array([\n",
    "    [0.8       , 0.55555556, 0.95238095, 0.81818182, 0.71428571, 1.        ],\n",
    "    [1.        , 1.        , 0.85714286, 0.69230769, 0.42857143, 0.5       ],\n",
    "    [0.72      , 0.74074074, 1.        , 1.        , 1.        , 0.7       ],\n",
    "    [0.88      , 0.66666667, 0.95238095, 0.9       , 0.71428571, 0.5       ]])\n",
    "n, m = b.shape\n",
    "\n",
    "\n",
    "p = b / b.sum(axis=0)\n",
    "e = -1/np.log(n) * (p*np.log(p)).sum(axis=0) # 熵值\n",
    "g = 1 - e\n",
    "w = g / g.sum()\n",
    "print(w)\n",
    "w\n",
    "\n",
    "# f = p @ w # 评价值\n",
    "# print(f)\n",
    "# df = pd.DataFrame(f, columns=['score'])\n",
    "# df.index += 1\n",
    "# df['rank'] = df['score'].rank(ascending=False)\n",
    "# print(df)"
   ]
  },
  {
   "cell_type": "code",
   "execution_count": 11,
   "metadata": {},
   "outputs": [
    {
     "name": "stdout",
     "output_type": "stream",
     "text": [
      "      score  rank\n",
      "1  0.502948   2.0\n",
      "2  0.387119   3.0\n",
      "3  0.596731   1.0\n",
      "4  0.376925   4.0\n"
     ]
    }
   ],
   "source": [
    "\"\"\"\n",
    "TOPSIS 权重w_i = 1/m\n",
    "\"\"\"\n",
    "import numpy as np\n",
    "import pandas as pd\n",
    "from scipy.linalg import norm\n",
    "\n",
    "\n",
    "b = np.array([\n",
    "    [0.8       , 0.55555556, 0.95238095, 0.81818182, 0.71428571, 1.        ],\n",
    "    [1.        , 1.        , 0.85714286, 0.69230769, 0.42857143, 0.5       ],\n",
    "    [0.72      , 0.74074074, 1.        , 1.        , 1.        , 0.7       ],\n",
    "    [0.88      , 0.66666667, 0.95238095, 0.9       , 0.71428571, 0.5       ]])\n",
    "\n",
    "\n",
    "c_pos = b.max(axis=0) # 正理想解\n",
    "c_neg = b.min(axis=0) # 负理想解\n",
    "s_pos = norm(b-c_pos, axis=1)\n",
    "s_neg = norm(b-c_neg, axis=1)\n",
    "f = s_neg / (s_pos + s_neg)\n",
    "\n",
    "\n",
    "# print(f)\n",
    "df = pd.DataFrame(f, columns=['score'])\n",
    "df.index += 1\n",
    "df['rank'] = df['score'].rank(ascending=False)\n",
    "print(df)"
   ]
  },
  {
   "cell_type": "code",
   "execution_count": 12,
   "metadata": {},
   "outputs": [
    {
     "name": "stdout",
     "output_type": "stream",
     "text": [
      "      score  rank\n",
      "1  0.564856   2.0\n",
      "2  0.313043   4.0\n",
      "3  0.624225   1.0\n",
      "4  0.331980   3.0\n"
     ]
    }
   ],
   "source": [
    "\"\"\"\n",
    "TOPSIS 含权重\n",
    "\"\"\"\n",
    "import numpy as np\n",
    "import pandas as pd\n",
    "from scipy.linalg import norm\n",
    "\n",
    "\n",
    "b = np.array([\n",
    "    [0.8       , 0.55555556, 0.95238095, 0.81818182, 0.71428571, 1.        ],\n",
    "    [1.        , 1.        , 0.85714286, 0.69230769, 0.42857143, 0.5       ],\n",
    "    [0.72      , 0.74074074, 1.        , 1.        , 1.        , 0.7       ],\n",
    "    [0.88      , 0.66666667, 0.95238095, 0.9       , 0.71428571, 0.5       ]])\n",
    "n, m = b.shape\n",
    "\n",
    "w = np.array([0.05825717, 0.18704101, 0.01220201, 0.07000746, 0.32552998, 0.34696237]) # 熵权\n",
    "# w = np.full(m, 1/m) # 权重相等\n",
    "\n",
    "\n",
    "\n",
    "c_pos = b.max(axis=0) # 正理想解\n",
    "c_neg = b.min(axis=0) # 负理想解\n",
    "s_pos = ((b-c_pos)**2 @ w)**.5\n",
    "s_neg = ((b-c_neg)**2 @ w)**.5\n",
    "f = s_neg / (s_pos + s_neg)\n",
    "\n",
    "\n",
    "# print(f)\n",
    "df = pd.DataFrame(f, columns=['score'])\n",
    "df.index += 1\n",
    "df['rank'] = df['score'].rank(ascending=False)\n",
    "print(df)"
   ]
  },
  {
   "cell_type": "code",
   "execution_count": 13,
   "metadata": {},
   "outputs": [
    {
     "name": "stdout",
     "output_type": "stream",
     "text": [
      "      score  rank\n",
      "1  0.583333   3.0\n",
      "2  0.520833   4.0\n",
      "3  0.791667   1.0\n",
      "4  0.604167   2.0\n"
     ]
    }
   ],
   "source": [
    "\"\"\"\n",
    "秩和比法 含权重\n",
    "\"\"\"\n",
    "import numpy as np\n",
    "import pandas as pd\n",
    "from scipy.stats import rankdata\n",
    "\n",
    "\n",
    "b = np.array([\n",
    "    [0.8       , 0.55555556, 0.95238095, 0.81818182, 0.71428571, 1.        ],\n",
    "    [1.        , 1.        , 0.85714286, 0.69230769, 0.42857143, 0.5       ],\n",
    "    [0.72      , 0.74074074, 1.        , 1.        , 1.        , 0.7       ],\n",
    "    [0.88      , 0.66666667, 0.95238095, 0.9       , 0.71428571, 0.5       ]])\n",
    "n, m = b.shape\n",
    "\n",
    "# w = np.array([0.05825717, 0.18704101, 0.01220201, 0.07000746, 0.32552998, 0.34696237]) # 熵权\n",
    "w = np.full(m, 1/m) # 权重相等\n",
    "\n",
    "\n",
    "\n",
    "R = rankdata(b, axis=0) # 编秩\n",
    "RSR = 1/n * (R @ w)\n",
    "\n",
    "\n",
    "# print(RSR)\n",
    "df = pd.DataFrame(RSR, columns=['score'])\n",
    "df.index += 1\n",
    "df['rank'] = df['score'].rank(ascending=False)\n",
    "print(df)"
   ]
  },
  {
   "cell_type": "code",
   "execution_count": 14,
   "metadata": {},
   "outputs": [
    {
     "name": "stdout",
     "output_type": "stream",
     "text": [
      "      score  rank\n",
      "1  0.657966   2.0\n",
      "2  0.640853   3.0\n",
      "3  0.752855   1.0\n",
      "4  0.604547   4.0\n"
     ]
    }
   ],
   "source": [
    "\"\"\"\n",
    "灰色关联度分析 含权重\n",
    "\"\"\"\n",
    "import numpy as np\n",
    "import pandas as pd\n",
    "\n",
    "\n",
    "b = np.array([\n",
    "    [0.8       , 0.55555556, 0.95238095, 0.81818182, 0.71428571, 1.        ],\n",
    "    [1.        , 1.        , 0.85714286, 0.69230769, 0.42857143, 0.5       ],\n",
    "    [0.72      , 0.74074074, 1.        , 1.        , 1.        , 0.7       ],\n",
    "    [0.88      , 0.66666667, 0.95238095, 0.9       , 0.71428571, 0.5       ]])\n",
    "n, m = b.shape\n",
    "\n",
    "# w = np.array([0.05825717, 0.18704101, 0.01220201, 0.07000746, 0.32552998, 0.34696237]) # 熵权\n",
    "w = np.full(m, 1/m) # 权重相等\n",
    "\n",
    "\n",
    "b_best = b.max(axis=0) # 参考序列\n",
    "d = b - b_best \n",
    "m_min, m_max = np.min(np.abs(d)), np.max(np.abs(d)) # 最小差与最大差\n",
    "rho = 0.5 # 灰色关联系数\n",
    "xi = (m_min + rho*m_max) / (rho*m_max + np.abs(d))\n",
    "f = xi @ w\n",
    "\n",
    "\n",
    "# print(f)\n",
    "df = pd.DataFrame(f, columns=['score'])\n",
    "df.index += 1\n",
    "df['rank'] = df['score'].rank(ascending=False)\n",
    "print(df)"
   ]
  }
 ],
 "metadata": {
  "interpreter": {
   "hash": "aa43cd2ccc1ff393b971fd4a3432410e7b10bb4b6c743baaacc4a3f13fd072bf"
  },
  "kernelspec": {
   "display_name": "Python 3.7.13 ('base')",
   "language": "python",
   "name": "python3"
  },
  "language_info": {
   "codemirror_mode": {
    "name": "ipython",
    "version": 3
   },
   "file_extension": ".py",
   "mimetype": "text/x-python",
   "name": "python",
   "nbconvert_exporter": "python",
   "pygments_lexer": "ipython3",
   "version": "3.7.13"
  },
  "orig_nbformat": 4
 },
 "nbformat": 4,
 "nbformat_minor": 2
}
