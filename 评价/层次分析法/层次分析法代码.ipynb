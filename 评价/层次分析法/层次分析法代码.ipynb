{
 "cells": [
  {
   "cell_type": "markdown",
   "metadata": {},
   "source": [
    "## 层次分析法\n",
    "\n",
    "层次分析法原理及计算过程详解 - 子木的文章 - 知乎  https://zhuanlan.zhihu.com/p/266405027\n",
    "\n",
    "- 注意层次总排序也要一致性检验\n",
    "\n",
    "https://www.bilibili.com/read/cv10175969/ Perron-Frobenius定理-正矩阵最大特征值为正实数\n",
    "\n",
    "https://zhuanlan.zhihu.com/p/518686257 正互反矩阵最大特征值$\\lambda_{max}\\geq n$"
   ]
  },
  {
   "cell_type": "code",
   "execution_count": 2,
   "metadata": {},
   "outputs": [
    {
     "name": "stdout",
     "output_type": "stream",
     "text": [
      "[[ True  True  True  True  True]\n",
      " [ True  True  True  True  True]\n",
      " [ True  True  True  True  True]\n",
      " [ True  True  True  True  True]\n",
      " [ True  True  True  True  True]]\n"
     ]
    },
    {
     "data": {
      "text/plain": [
       "True"
      ]
     },
     "execution_count": 2,
     "metadata": {},
     "output_type": "execute_result"
    }
   ],
   "source": [
    "import numpy as np\n",
    "A = [[1,1,4,1/3,3],\n",
    "     [1,1,4,1/3,3],\n",
    "     [1/4,1/4,1,1/3,1/2],\n",
    "     [3,3,3,1,3],\n",
    "     [1/3,1/3,2,1/3,1]]\n",
    "A = np.asarray(A)\n",
    "# 检验A是否为正互反矩阵\n",
    "print(A.T * A == np.ones_like(A))\n",
    "(np.ones_like(A) != A.T * A).sum() == 0"
   ]
  },
  {
   "cell_type": "code",
   "execution_count": 3,
   "metadata": {},
   "outputs": [
    {
     "name": "stdout",
     "output_type": "stream",
     "text": [
      "初始输入的矩阵为：\n",
      " [[1.         2.         6.        ]\n",
      " [0.5        1.         4.        ]\n",
      " [0.16666667 0.25       1.        ]]\n",
      "判断矩阵的CI值为：0.00460135635713943\n",
      "判断矩阵的CR值为：0.008848762225268134，通过一致性检验\n",
      "算术平均法计算得到的权重向量w为：\n",
      " [0.58694639 0.32377622 0.08927739]\n",
      "几何平均法计算得到的权重向量为：\n",
      " [0.10614613 0.19288031 0.70097357]\n",
      "特征值法计算得到的权重向量为：\n",
      " [0.5876311  0.32338586 0.08898305]\n"
     ]
    }
   ],
   "source": [
    "\"\"\" \n",
    "层次分析法\n",
    "\"\"\"\n",
    "import numpy as np\n",
    "class AHP:\n",
    "  \"\"\"\n",
    "  相关信息的传入和准备\n",
    "  \"\"\"\n",
    "\n",
    "  def __init__(self, array):\n",
    "    ## 记录矩阵相关信息\n",
    "    self.array = array\n",
    "    ## 记录矩阵大小\n",
    "    self.n = array.shape[0]\n",
    "    # 初始化RI值，用于一致性检验\n",
    "    self.RI_list = [np.nan, 0, 0, 0.52, 0.89, 1.12, 1.26, 1.36, 1.41, 1.46, 1.49, 1.52, 1.54, 1.56, 1.58, 1.59]\n",
    "    # 矩阵的特征值和特征向量\n",
    "    self.eig_val, self.eig_vector = np.linalg.eig(self.array)\n",
    "    # 矩阵的最大特征值\n",
    "    # self.max_eig_val = np.max(np.abs(self.eig_val)) # 可以用模长算谱半径，但是由于谱半径为正实数，numpy比较的是实部，故直接比较也可以\n",
    "    self.max_eig_val = np.max(self.eig_val).real\n",
    "    # 矩阵最大特征值对应的特征向量\n",
    "    self.max_eig_vector = self.eig_vector[:, np.argmax(self.eig_val)].real\n",
    "    # 矩阵的一致性指标CI\n",
    "    self.CI_val = (self.max_eig_val - self.n) / (self.n - 1)\n",
    "    # 矩阵的一致性比例CR\n",
    "    self.CR_val = self.CI_val / (self.RI_list[self.n])\n",
    "    # 检验正互反矩阵\n",
    "    assert (np.ones_like(A) != A.T * A).sum() == 0\n",
    "\n",
    "  \"\"\"\n",
    "  一致性判断\n",
    "  \"\"\"\n",
    "\n",
    "  def test_consist(self):\n",
    "    # 打印矩阵的一致性指标CI和一致性比例CR\n",
    "    print(\"判断矩阵的CI值为：\" + str(self.CI_val))\n",
    "    # 进行一致性检验判断\n",
    "    if self.n == 2: # 当只有两个子因素的情况\n",
    "      print(\"仅包含两个子因素，不存在一致性问题\")\n",
    "    else:\n",
    "      if self.CR_val < 0.1: # CR值小于0.1，可以通过一致性检验\n",
    "        print(\"判断矩阵的CR值为：\" + str(self.CR_val) + \"，通过一致性检验\")\n",
    "        return True\n",
    "      else: # CR值大于0.1, 一致性检验不通过\n",
    "        print(\"判断矩阵的CR值为：\" + str(self.CR_val) + \"，未通过一致性检验\")\n",
    "        return False\n",
    "\n",
    "  \"\"\"\n",
    "  算术平均法求权重\n",
    "  \"\"\"\n",
    "\n",
    "  def cal_weight_by_arithmetic_method(self):\n",
    "    # 求矩阵的每列的和\n",
    "    col_sum = np.sum(self.array, axis=0)\n",
    "    # 将判断矩阵按照列归一化\n",
    "    array_normed = self.array / col_sum\n",
    "    # 计算权重向量，对每行取平均值\n",
    "    array_weight = np.mean(array_normed, axis=1)\n",
    "    # 打印权重向量\n",
    "    print(\"算术平均法计算得到的权重向量w为：\\n\", array_weight)\n",
    "    # 返回权重向量的值\n",
    "    return array_weight\n",
    "\n",
    "  \"\"\"\n",
    "  几何平均法求权重\n",
    "  \"\"\"\n",
    "\n",
    "  def cal_weight__by_geometric_method(self):\n",
    "    # 求矩阵的每列的积（归一化建议使用比例变换法（不要出现0））\n",
    "    col_product = np.product(self.array, axis=0)\n",
    "    # 将得到的积向量的每个分量进行开n次方\n",
    "    array_power = np.power(col_product, 1 / self.n)\n",
    "    # 将列向量归一化\n",
    "    array_weight = array_power / np.sum(array_power)\n",
    "    # 打印权重向量\n",
    "    print(\"几何平均法计算得到的权重向量为：\\n\", array_weight)\n",
    "    # 返回权重向量的值\n",
    "    return array_weight\n",
    "\n",
    "  \"\"\"\n",
    "  特征值法求权重\n",
    "  \"\"\"\n",
    "\n",
    "  def cal_weight__by_eigenvalue_method(self):\n",
    "    # 将矩阵最大特征值对应的特征向量进行归一化处理就得到了权重\n",
    "    array_weight = self.max_eig_vector / np.sum(self.max_eig_vector)\n",
    "    # 打印权重向量\n",
    "    print(\"特征值法计算得到的权重向量为：\\n\", array_weight)\n",
    "    # 返回权重向量的值\n",
    "    return array_weight\n",
    "\n",
    "\n",
    "if __name__ == \"__main__\":\n",
    "    # 给出判断矩阵\n",
    "    A = np.array([[1, 2, 6],\n",
    "                [1/2, 1, 4],\n",
    "                [1/6, 1/4, 1]])\n",
    "    print(\"初始输入的矩阵为：\\n\",A)\n",
    "    test = AHP(A).test_consist()\n",
    "    # 算术平均法求权重\n",
    "    weight1 = AHP(A).cal_weight_by_arithmetic_method()\n",
    "    # 几何平均法求权重\n",
    "    weight2 = AHP(A).cal_weight__by_geometric_method()\n",
    "    # 特征值法求权重\n",
    "    weight3 = AHP(A).cal_weight__by_eigenvalue_method()"
   ]
  },
  {
   "cell_type": "code",
   "execution_count": 8,
   "metadata": {},
   "outputs": [
    {
     "data": {
      "text/plain": [
       "3.009202712714279"
      ]
     },
     "execution_count": 8,
     "metadata": {},
     "output_type": "execute_result"
    }
   ],
   "source": [
    "A = np.array([[1, 2, 6],\n",
    "              [1/2, 1, 4],\n",
    "              [1/6, 1/4, 1]])\n",
    "np.max(np.linalg.eig(A)[0]).real"
   ]
  },
  {
   "cell_type": "code",
   "execution_count": null,
   "metadata": {},
   "outputs": [
    {
     "data": {
      "text/plain": [
       "(1.1+0j)"
      ]
     },
     "execution_count": 4,
     "metadata": {},
     "output_type": "execute_result"
    }
   ],
   "source": [
    "np.max([1+1j, 1-2j, 1.1+0j, -2+100j])"
   ]
  },
  {
   "cell_type": "markdown",
   "metadata": {},
   "source": [
    "## 层次分析法+熵权法\n",
    "\n",
    "> https://www.zhihu.com/question/274750701/answer/376687323 \n",
    "> \n",
    "> http://www.huaxuejia.cn/ism/CESAISM/topsis_saism.php\n",
    "\n",
    "- 直接将熵权法计算得到的客观赋权直接作为判断矩阵的**单排序权重**。最后再计算AHP的总排序权重。"
   ]
  },
  {
   "cell_type": "markdown",
   "metadata": {},
   "source": [
    "## 模糊层次分析法 FAHP\n",
    "\n",
    "> 有懂模糊层次分析法的亲吗？ - 疯狂绅士的回答 - 知乎 https://www.zhihu.com/question/31677376/answer/2165760263\n",
    "> \n",
    "> http://www.huaxuejia.cn/ism/dematelism/G-sharpen-dematel.php?data=1\n",
    "\n",
    "\n",
    "- 将多个专家的打分合成一个正互反矩阵"
   ]
  }
 ],
 "metadata": {
  "kernelspec": {
   "display_name": "Python 3",
   "language": "python",
   "name": "python3"
  },
  "language_info": {
   "codemirror_mode": {
    "name": "ipython",
    "version": 3
   },
   "file_extension": ".py",
   "mimetype": "text/x-python",
   "name": "python",
   "nbconvert_exporter": "python",
   "pygments_lexer": "ipython3",
   "version": "3.7.13"
  },
  "varInspector": {
   "cols": {
    "lenName": 16,
    "lenType": 16,
    "lenVar": 40
   },
   "kernels_config": {
    "python": {
     "delete_cmd_postfix": "",
     "delete_cmd_prefix": "del ",
     "library": "var_list.py",
     "varRefreshCmd": "print(var_dic_list())"
    },
    "r": {
     "delete_cmd_postfix": ") ",
     "delete_cmd_prefix": "rm(",
     "library": "var_list.r",
     "varRefreshCmd": "cat(var_dic_list()) "
    }
   },
   "types_to_exclude": [
    "module",
    "function",
    "builtin_function_or_method",
    "instance",
    "_Feature"
   ],
   "window_display": false
  }
 },
 "nbformat": 4,
 "nbformat_minor": 4
}
