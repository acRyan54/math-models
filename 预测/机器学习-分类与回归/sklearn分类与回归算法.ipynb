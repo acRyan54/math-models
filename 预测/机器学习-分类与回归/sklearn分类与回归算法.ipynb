{
 "cells": [
  {
   "cell_type": "markdown",
   "metadata": {},
   "source": [
    "\n",
    "> Machine Learning: 十大机器学习算法 - RiboseYim的文章 - 知乎\n",
    "> https://zhuanlan.zhihu.com/p/33794257\n",
    "\n",
    "> 各种机器学习算法的应用场景分别是什么（比如朴素贝叶斯、决策树、K 近邻、SVM、逻辑回归最大熵模型）？ - xyzh的回答 - 知乎\n",
    "> https://www.zhihu.com/question/26726794/answer/151282052\n",
    "\n",
    "\n",
    "分类与回归：logistics回归，svm，随机森林(bagging)，，adaboost(boosting方法) ，MLP\n"
   ]
  },
  {
   "cell_type": "code",
   "execution_count": null,
   "metadata": {},
   "outputs": [],
   "source": []
  }
 ],
 "metadata": {
  "interpreter": {
   "hash": "aa43cd2ccc1ff393b971fd4a3432410e7b10bb4b6c743baaacc4a3f13fd072bf"
  },
  "kernelspec": {
   "display_name": "Python 3.7.13 ('base')",
   "language": "python",
   "name": "python3"
  },
  "language_info": {
   "name": "python",
   "version": "3.7.13"
  },
  "orig_nbformat": 4
 },
 "nbformat": 4,
 "nbformat_minor": 2
}
