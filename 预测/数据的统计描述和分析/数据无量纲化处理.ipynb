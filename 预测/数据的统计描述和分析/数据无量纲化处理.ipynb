{
 "cells": [
  {
   "cell_type": "markdown",
   "metadata": {},
   "source": [
    "## scipy.stats.zscore 标准样本变换法\n",
    "\n",
    "> https://docs.scipy.org/doc/scipy/reference/generated/scipy.stats.zscore.html?highlight=zscore#scipy.stats.zscore"
   ]
  },
  {
   "cell_type": "code",
   "execution_count": 1,
   "metadata": {},
   "outputs": [
    {
     "data": {
      "text/plain": [
       "array([[-1., -1.],\n",
       "       [-1., -1.],\n",
       "       [ 1.,  1.],\n",
       "       [ 1.,  1.]])"
      ]
     },
     "execution_count": 1,
     "metadata": {},
     "output_type": "execute_result"
    }
   ],
   "source": [
    "import numpy as np\n",
    "from scipy.stats import zscore\n",
    "\n",
    "a = np.array([[0, 0], \n",
    "              [0, 0], \n",
    "              [1, 1], \n",
    "              [1, 1]])\n",
    "zscore(a) # 默认对列数据处理"
   ]
  },
  {
   "cell_type": "code",
   "execution_count": 2,
   "metadata": {},
   "outputs": [
    {
     "data": {
      "text/plain": [
       "array([[-0.19264823, -1.28415119,  1.07259584,  0.40420358],\n",
       "       [ 0.33048416, -1.37380874,  0.04251374,  1.00081084],\n",
       "       [ 0.26796377, -1.12598418,  1.23283094, -0.37481053],\n",
       "       [-0.22095197,  0.24468594,  1.19042819, -1.21416216],\n",
       "       [-0.82780366,  1.4457416 , -0.43867764, -0.1792603 ]])"
      ]
     },
     "execution_count": 2,
     "metadata": {},
     "output_type": "execute_result"
    }
   ],
   "source": [
    "import numpy as np\n",
    "from scipy.stats import zscore\n",
    "\n",
    "b = np.array([[ 0.3148,  0.0478,  0.6243,  0.4608],\n",
    "              [ 0.7149,  0.0775,  0.6072,  0.9656],\n",
    "              [ 0.6341,  0.1403,  0.9759,  0.4064],\n",
    "              [ 0.5918,  0.6948,  0.904 ,  0.3721],\n",
    "              [ 0.0921,  0.2481,  0.1188,  0.1366]])\n",
    "zscore(b, axis=1, ddof=1) # 按每行数据处理， 自由度为n-1"
   ]
  },
  {
   "cell_type": "markdown",
   "metadata": {},
   "source": [
    "## $\\bigstar$ sklearn.preprocessing\n",
    "\n",
    "> https://scikit-learn.org/stable/modules/preprocessing.html#preprocessing\n",
    "\n",
    "- sklearn.preprocessing.StandardScaler 标准样本变换法（==zscore）\n",
    "- sklearn.preprocessing.MinMaxScaler 极差变换法\n",
    "- sklearn.preprocessing.MaxAbsScaler 比例变换法\n",
    "- sklearn.preprocessing.normalize 向量归一化法（不能还原）\n",
    "\n",
    "\n",
    "StandardScaler中， numpy.std(x, ddof=0) 此处自由度为n，均为有偏估计"
   ]
  },
  {
   "cell_type": "code",
   "execution_count": 3,
   "metadata": {},
   "outputs": [
    {
     "name": "stdout",
     "output_type": "stream",
     "text": [
      "[0.5 0.5]\n",
      "[0.5 0.5]\n",
      "[0.25 0.25] \n",
      "\n",
      "[[-1. -1.]\n",
      " [-1. -1.]\n",
      " [ 1.  1.]\n",
      " [ 1.  1.]] \n",
      "\n",
      "[[0. 0.]\n",
      " [0. 0.]\n",
      " [1. 1.]\n",
      " [1. 1.]] \n",
      "\n",
      "[[3. 3.]]\n"
     ]
    }
   ],
   "source": [
    "import numpy as np\n",
    "from sklearn.preprocessing import StandardScaler\n",
    "\n",
    "a = np.array([[0, 0], \n",
    "              [0, 0], \n",
    "              [1, 1], \n",
    "              [1, 1]])\n",
    "scaler = StandardScaler().fit(a)\n",
    "\n",
    "\n",
    "print(scaler.mean_)\n",
    "print(scaler.scale_) # 标准差\n",
    "print(scaler.var_, '\\n') # 方差\n",
    "\n",
    "b = scaler.transform(a) ########## 正向变化\n",
    "print(b, '\\n')\n",
    "print(scaler.inverse_transform(b), '\\n') ########## 反向变化\n",
    "\n",
    "\n",
    "print(scaler.transform([[2, 2]])) # 按照fit得到的均值和标准差处理"
   ]
  },
  {
   "cell_type": "code",
   "execution_count": 4,
   "metadata": {},
   "outputs": [
    {
     "name": "stdout",
     "output_type": "stream",
     "text": [
      "[[0.   0.  ]\n",
      " [0.25 0.25]\n",
      " [0.5  0.5 ]\n",
      " [1.   1.  ]] \n",
      "\n",
      "[[-1.   2. ]\n",
      " [-0.5  6. ]\n",
      " [ 0.  10. ]\n",
      " [ 1.  18. ]] \n",
      "\n"
     ]
    }
   ],
   "source": [
    "import numpy as np\n",
    "from sklearn.preprocessing import MinMaxScaler\n",
    "\n",
    "a = np.array([[-1, 2], \n",
    "              [-0.5, 6], \n",
    "              [0, 10], \n",
    "              [1, 18]])\n",
    "scaler = MinMaxScaler().fit(a)\n",
    "\n",
    "\n",
    "b = scaler.transform(a) ########## 正向变化\n",
    "print(b, '\\n')\n",
    "print(scaler.inverse_transform(b), '\\n') ########## 反向变化"
   ]
  },
  {
   "cell_type": "code",
   "execution_count": 5,
   "metadata": {},
   "outputs": [
    {
     "name": "stdout",
     "output_type": "stream",
     "text": [
      "[[-1.          0.11111111]\n",
      " [-0.5         0.33333333]\n",
      " [ 0.          0.55555556]\n",
      " [ 1.          1.        ]] \n",
      "\n",
      "[[-1.   2. ]\n",
      " [-0.5  6. ]\n",
      " [ 0.  10. ]\n",
      " [ 1.  18. ]] \n",
      "\n"
     ]
    }
   ],
   "source": [
    "import numpy as np\n",
    "from sklearn.preprocessing import MaxAbsScaler\n",
    "\n",
    "a = np.array([[-1, 2], \n",
    "              [-0.5, 6], \n",
    "              [0, 10], \n",
    "              [1, 18]])\n",
    "scaler = MaxAbsScaler().fit(a)\n",
    "\n",
    "\n",
    "b = scaler.transform(a) ########## 正向变化\n",
    "print(b, '\\n')\n",
    "print(scaler.inverse_transform(b), '\\n') ########## 反向变化"
   ]
  },
  {
   "cell_type": "code",
   "execution_count": 6,
   "metadata": {},
   "outputs": [
    {
     "data": {
      "text/plain": [
       "array([[ 0.4472136 , -0.70710678,  0.89442719],\n",
       "       [ 0.89442719,  0.        ,  0.        ],\n",
       "       [ 0.        ,  0.70710678, -0.4472136 ]])"
      ]
     },
     "execution_count": 6,
     "metadata": {},
     "output_type": "execute_result"
    }
   ],
   "source": [
    "import numpy as np\n",
    "from sklearn.preprocessing import normalize\n",
    "\n",
    "X = [[ 1., -1.,  2.],\n",
    "     [ 2.,  0.,  0.],\n",
    "     [ 0.,  1., -1.]]\n",
    "X_normalized = normalize(X, axis=0, norm='l2') # norm: {‘l1’, ‘l2’, ‘max’}\n",
    "\n",
    "X_normalized"
   ]
  }
 ],
 "metadata": {
  "interpreter": {
   "hash": "aa43cd2ccc1ff393b971fd4a3432410e7b10bb4b6c743baaacc4a3f13fd072bf"
  },
  "kernelspec": {
   "display_name": "Python 3.7.13 ('base')",
   "language": "python",
   "name": "python3"
  },
  "language_info": {
   "codemirror_mode": {
    "name": "ipython",
    "version": 3
   },
   "file_extension": ".py",
   "mimetype": "text/x-python",
   "name": "python",
   "nbconvert_exporter": "python",
   "pygments_lexer": "ipython3",
   "version": "3.7.13"
  },
  "orig_nbformat": 4
 },
 "nbformat": 4,
 "nbformat_minor": 2
}
