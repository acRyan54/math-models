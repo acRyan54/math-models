{
 "cells": [
  {
   "cell_type": "markdown",
   "metadata": {},
   "source": []
  },
  {
   "cell_type": "markdown",
   "metadata": {},
   "source": [
    "# **时间序列分析**\n",
    "时间序列是按时间顺序排列的、随时间变化且相互关联的数据序列。对时间序列进行观察研究，找寻它的发展规律，预测它将来的走势就是时间序列分析。\n"
   ]
  },
  {
   "cell_type": "markdown",
   "metadata": {},
   "source": [
    "# 分类\n",
    "（1）移动平均法，根据项数的不同可分为一次移动平均，二次移动平均等。\\\n",
    "（2）指数平滑法，按照时间顺序对数据进行加权平均。\\\n",
    "（3）平稳时间序列和费平稳时间序列"
   ]
  },
  {
   "cell_type": "markdown",
   "metadata": {},
   "source": [
    "# **移动平均法**\n",
    "设观测序列为$y_1,y_2,\\cdots ,y_T$,设移动平均的项数N< T,。一次移动平均值计算公式为：\n",
    "$$M_t^{(1)}(N)=\\dfrac{1}{N}(y_t+y_{t-1}+\\cdots +y_{t-N+1})=\\dfrac{1}{N} \\sum_{i=0}^{N-1} y_{t-i}$$\n",
    "则有\n",
    "$$M_t^{(1)}(N)=M_{t-1}{(1)}(N)+\\dfrac{1}{N} (y_t -y_{t-N})$$\n",
    "t+1期的预测值为$\\hat{y}_{t+1}=M_t^{(1)}(N)$,其预测标准误差为\n",
    "$$S=\\sqrt{\\dfrac{\\sum\\limits_{t=N+1}^{T} (\\hat{y}_t-y_t)^2}{T-N}}$$\n",
    "\\\n",
    "如果将$\\hat{y}_{t+1}$作为t+1期的实际值，那么就可以用$\\hat{y}_{t+1}=M_t^{(1)}(N)$计算第t+2期预测值$\\hat{y}_{t+2}$。一般地，也可相应地求得以后各期的预测值。但由于越远时期的预测，误差越大，因此一次移动平均法一般仅应用于一个时期后的预测值（即预测第t+1期）。\n"
   ]
  },
  {
   "cell_type": "markdown",
   "metadata": {},
   "source": [
    "# <font color=violet>例<font>\n",
    "<img src=\"image/18_1.png\" width='600'>"
   ]
  },
  {
   "cell_type": "code",
   "execution_count": 2,
   "metadata": {},
   "outputs": [
    {
     "name": "stdout",
     "output_type": "stream",
     "text": [
      "N=3时,预测值： ['*', '*', '*', 405.0, 412.3333333333333, 468.6666666666667, 467.0, 460.6666666666667, 452.3333333333333, 469.3333333333333, 455.3333333333333, 430.3333333333333, 419.0] ，预测的标准误差： 56.57519850976887\n",
      "N=5时,预测值： ['*', '*', '*', '*', '*', 437.4, 438.6, 452.2, 465.8, 472.8, 444.2, 443.8, 447.8] ，预测的标准误差： 39.815861878689226\n"
     ]
    }
   ],
   "source": [
    "import numpy as np\n",
    "y=np.array([423,358,434,445,527,429,426,502,480,384,427,446])\n",
    "def MoveAverage(y,N):\n",
    "    Mt=['*']*N #填补空位\n",
    "    for i in range(N+1,len(y)+2):\n",
    "        M=y[i-(N+1):i-1].mean() #求均值\n",
    "        Mt.append(M)\n",
    "    return Mt\n",
    "yt3=MoveAverage(y,3) \n",
    "s3=np.sqrt(((y[3:]-yt3[3:-1])**2).mean()) #求标准差\n",
    "yt5=MoveAverage(y,5)\n",
    "s5=np.sqrt(((y[5:]-yt5[5:-1])**2).mean())\n",
    "print('N=3时,预测值：',yt3,'，预测的标准误差：',s3)\n",
    "print('N=5时,预测值：',yt5,'，预测的标准误差：',s5)"
   ]
  },
  {
   "cell_type": "markdown",
   "metadata": {},
   "source": [
    "另一种写法"
   ]
  },
  {
   "cell_type": "code",
   "execution_count": 12,
   "metadata": {},
   "outputs": [
    {
     "name": "stdout",
     "output_type": "stream",
     "text": [
      "[141.         260.33333333 405.         412.33333333 468.66666667\n",
      " 467.         460.66666667 452.33333333 469.33333333 455.33333333\n",
      " 430.33333333 419.         291.         148.66666667]\n"
     ]
    }
   ],
   "source": [
    "import numpy as np\n",
    "y=np.array([423,358,434,445,527,429,426,502,480,384,427,446])\n",
    "n1=3; \n",
    "yt1=np.convolve(np.ones(n1)/n1,y)[n1-1:-n1+1] #卷积，等量加权，去头尾\n",
    "s1=np.sqrt(((y[n1:]-yt1[:-1])**2).mean())\n",
    "n2=5; \n",
    "yt2=np.convolve(np.ones(n2)/n2,y)[n2-1:-n2+1]\n",
    "s2=np.sqrt(((y[n2:]-yt2[:-1])**2).mean())\n",
    "print('N=3时,预测值：',yt1,'，预测的标准误差：',s1)\n",
    "print('N=5时,预测值：',yt2,'，预测的标准误差：',s2)"
   ]
  },
  {
   "cell_type": "markdown",
   "metadata": {},
   "source": [
    "# 二次移动平均法\n",
    "当预测变量的基本趋势发生变化时，一次移动平均法不能迅速适应这种变化。当时间序列的变化为线性趋势时，一次移动平均法的滞后偏差使预测值偏低，不能进行合理的趋势外推。\\\n",
    "二次移动平均值计算公式为:\n",
    "$$M_t^{(2)}=\\dfrac{1}{N}(M_t^{(1)}+\\cdots+M_{t-N+1}^{(1)})=M_{t-1}^{(2)}+\\dfrac{1}{N}(M_t^{(1)}-M_{t-N}^{(1)})$$\n",
    "当预测目标的基本趋势是在某一水平上下波动时，可用一次移动平均方法建立预测模型。当预测目标的基本趋势与某一线性模型相吻合时，常用二次移动平均法。但序列同时存在线性趋势与周期波动时，可用趋势移动平均法建立预测模型:\n",
    "$$\\hat{y}_{T+m}=a_T+b_T m, m=1,2, \\cdots $$\n",
    "其中$a_T=2M_T^{(1)}-M_T^{(2)},b_T=\\dfrac{2}{N-1}(M_T^{(1)}-M_T^{(2)})$"
   ]
  },
  {
   "cell_type": "markdown",
   "metadata": {},
   "source": [
    "# **指数平滑法**\n",
    "一次移动平均实际上认为最近期数据对未来值影响相同，都加权，而期以前的数据对未来值没有影响，加权为0。但是，二次及更高次移动平均的权数却不是，且次数越高，权数的结构越复杂，但永远保持对称的权数，即两端项权数小，中间项权数大，不符合一般系统的动态性。一般说来历史数据对未来值的影响是随时间间隔的增长而递减的。所以，更切合实际的方法应是对各期观测值依时间顺序进行加权平均作为预测值。指数平滑法可满足这一要求，而且具有简单的递推形式。\\\n",
    "指数平滑法根据平滑次数的不同，又分为一次指数平滑法和二次指数平滑法等。指数平滑最适合用于简单的时间序列分析和中、短期预测。"
   ]
  },
  {
   "cell_type": "markdown",
   "metadata": {},
   "source": [
    "# 一次指数平滑法\n",
    "(1) **公式**\\\n",
    "设时间序列为$y_1,y_2,\\cdots ,y_t,\\cdots ,\\alpha$为加权系数，$0<\\alpha<1$,一次指数平滑的预测公式为：\n",
    "$$\\hat{y}_{t+1}=S_t^{(1)}=\\alpha y_t+(1-\\alpha)S_{t-1}^{(1)}=S_{t-1}^{(1)}+\\alpha (y_t-S_{t-1}^{(1)})$$\n",
    "将上式展开得：\n",
    "$$S_T^{(1)}=\\alpha y_t+(1-\\alpha)[\\alpha y_{t-1}+(1-\\alpha)S_{t-2}^{(1)}]=\\cdots=\\alpha \\sum_{j=1}^{\\infty} (1-\\alpha)^j y_{t-j}$$\n",
    "各项系数和为1，并且加权系数符合指数规律，又具有平滑系数的功能，故称为指数平滑。"
   ]
  },
  {
   "cell_type": "markdown",
   "metadata": {},
   "source": [
    "(2) **加权系数的选择**\\\n",
    "在进行指数平滑时，加权系数的选择是很重要的。$\\alpha$的大小规定了在新预测值中新数据和原预测值所占的比重,$\\alpha$值越大，新数据所占的比重就愈大，原预测值所占的比重就愈小，反之亦然。\n",
    "$$\\hat{y}_{t+1}=\\hat{y}_t+\\alpha(y_t-\\hat{y}_t)$$\n",
    "由上式不难看出，新预测值是根据预测误差对原预测值进行修正而得到的。$\\alpha$的大小则体现了修正的幅度，$\\alpha$值愈大，修正幅度愈大；$\\alpha$值愈小，修正幅度也愈小。\\\n",
    "选择$\\alpha$的值可以遵循以下规则：\\\n",
    "(i）如果时间序列波动不大，比较平稳，则$\\alpha$应取小一点，如0.1～0.5，以减少修正幅度，使预测模型能包含较长时间序列的信息；\\\n",
    "(ii）如果时间序列具有迅速且明显的变动倾向，则$\\alpha$应取大一点，如0.6～0.8，使预测模型灵敏度高一些，以便迅速跟上数据的变化。\\\n",
    "在实用上，类似移动平均法，多取几个值进行试算，看哪个预测误差小，就采用哪个。\n"
   ]
  },
  {
   "cell_type": "markdown",
   "metadata": {},
   "source": [
    "(3) **初始值的确定**\\\n",
    "用一次指数平滑法进行预测，除了选择合适的$\\alpha$外，还要确定初始值$S_0^{(1)}$。初始值是由预测者估计或指定的。当时间序列的数据较多，比如在20个以上时，初始值对以后的预测值影响很少，可选用第一期数据为初始值。如果时间序列的数据较少，在20个以下时，初始值对以后的预测值影响很大，这时，就必须认真研究如何正确确定初始值。一般以最初几期实际值的平均值作为初始值。"
   ]
  },
  {
   "cell_type": "markdown",
   "metadata": {},
   "source": [
    "# <font color=violet> 例 <font>\n",
    "<img src='image/18_2.png' width='600'>"
   ]
  },
  {
   "cell_type": "code",
   "execution_count": 20,
   "metadata": {},
   "outputs": [
    {
     "name": "stdout",
     "output_type": "stream",
     "text": [
      "预测的标准误差分别为： 0.4148362642161784 0.32164247683489516 0.25883473030674825\n"
     ]
    }
   ],
   "source": [
    "import numpy as np\n",
    "import pandas as pd\n",
    "y=np.array([4.81,4.8,4.73,4.7,4.7,4.73,4.75,4.75,5.43,5.78,5.85])\n",
    "def ExpMove(y,a): #计算前n项的预测值\n",
    "    n=len(y); M=np.zeros(n); M[0]=(y[0]+y[1])/2\n",
    "    for i in range(1,len(y)):\n",
    "        M[i]=a*y[i-1]+(1-a)*M[i-1]\n",
    "    return M\n",
    "yt1=ExpMove(y,0.2); yt2=ExpMove(y,0.5)\n",
    "yt3=ExpMove(y,0.8); s1=np.sqrt(((y-yt1)**2).mean())\n",
    "s2=np.sqrt(((y-yt2)**2).mean())\n",
    "s3=np.sqrt(((y-yt3)**2).mean())\n",
    "d=pd.DataFrame(np.c_[yt1,yt2,yt3])\n",
    "f=pd.ExcelWriter(\"Pdata18_2.xlsx\")\n",
    "d.to_excel(f); f.close()  #数据写入Excel文件，便于做表\n",
    "print(\"预测的标准误差分别为：\",s1,s2,s3)  #输出预测的标准误差"
   ]
  },
  {
   "cell_type": "code",
   "execution_count": 7,
   "metadata": {},
   "outputs": [
    {
     "name": "stdout",
     "output_type": "stream",
     "text": [
      "下一期的预测值为： 5.8165517935616\n"
     ]
    }
   ],
   "source": [
    "yh=0.8*y[-1]+0.2*yt3[-1]\n",
    "print(\"下一期的预测值为：\",yh)"
   ]
  },
  {
   "cell_type": "markdown",
   "metadata": {},
   "source": [
    "# 二次指数平滑法\n",
    "一次指数平滑法虽然克服了移动平均法的缺点。但当时间序列的变动出现直线趋势时，用一次指数平滑法进行预测，仍存在明显的滞后偏差。因此，也必须加以修正。再作二次指数平滑，利用滞后偏差的规律建立直线趋势模型，这就是二次指数平滑法。其计算公式为：\n",
    "$$\n",
    "\\begin{cases}\n",
    "   S_t^{(1)}=\\alpha y_t+(1-\\alpha)S_{t-1}{(1)}\\\\\n",
    "   S_t^{(2)}=\\alpha S_t^{(1)}+(1-\\alpha)S_{t-1}^{(2)}\n",
    "\\end{cases}$$"
   ]
  },
  {
   "cell_type": "markdown",
   "metadata": {},
   "source": [
    "当时间序列从某时期开始具有直线趋势时，可用直线趋势模型\n",
    "$$\\hat{y}_{t+m}=a_t+b_t m, m=1,2,\\cdots$$\n",
    "$$\n",
    "\\begin{cases}\n",
    "a_t=2S_t^{(1)}-S_t^{(2)}\\\\\n",
    "b_t=\\dfrac{\\alpha}{1-\\alpha}(S_t^{(1)}-S_t^{(2)})\n",
    "\\end{cases}\n",
    "$$"
   ]
  },
  {
   "cell_type": "markdown",
   "metadata": {},
   "source": [
    "# <font color=violet> 例 <font>\n",
    "<img src='image/18_3.png' width='600'>"
   ]
  },
  {
   "cell_type": "code",
   "execution_count": 2,
   "metadata": {},
   "outputs": [
    {
     "name": "stdout",
     "output_type": "stream",
     "text": [
      "预测值为： [4171.88192538 4362.81543832]\n"
     ]
    }
   ],
   "source": [
    "import numpy as np\n",
    "import pandas as pd\n",
    "y=np.loadtxt('Pdata18_3.txt')\n",
    "n=len(y); alpha=0.3; yh=np.zeros(n)\n",
    "s1=np.zeros(n); s2=np.zeros(n)\n",
    "s1[0]=y[0]; s2[0]=y[0]\n",
    "for i in range(1,n):\n",
    "    s1[i]=alpha*y[i]+(1-alpha)*s1[i-1]\n",
    "    s2[i]=alpha*s1[i]+(1-alpha)*s2[i-1]\n",
    "    yh[i]=2*s1[i-1]-s2[i-1]+alpha/(1-alpha)*(s1[i-1]-s2[i-1])\n",
    "at=2*s1[-1]-s2[-1]; bt=alpha/(1-alpha)*(s1[-1]-s2[-1]) #计算直线趋势方程的a和b\n",
    "m=np.array([1,2])\n",
    "yh2=at+bt*m\n",
    "print(\"预测值为：\",yh2)\n",
    "d=pd.DataFrame(np.c_[s1,s2,yh])\n",
    "f=pd.ExcelWriter(\"Pdata18_3.xlsx\")\n",
    "d.to_excel(f); f.close()\n"
   ]
  },
  {
   "cell_type": "markdown",
   "metadata": {},
   "source": [
    "# **三次指数平滑法**\n",
    "当时间序列的变动表现为二次曲线趋势时，则需要用三次指数平滑法。三次指数平滑实在二次指数平滑的基础上，再进行一次外推，其计算公式为：\n",
    "$$\n",
    "\\begin{cases}\n",
    "    S_t^{(1)}=ay_t+(1-\\alpha)S_{t-1}^{(1)}\\\\\n",
    "    S_t^{(2)}=\\alpha S_t^{(1)}+(1-\\alpha)S_{t-1}^{(2)}\\\\\n",
    "    S_t^{(3)}=\\alpha S_t^{(2)}+(1-\\alpha)S_{t-1}^{(3)}\n",
    "\\end{cases}\n",
    "$$\n",
    "\\\n",
    "其预测模型为：\n",
    "$$\\hat{y}_{t+T}=a_t+b_t T+c_t T^2$$\n",
    "\\\n",
    "其中\n",
    "$$\n",
    "\\begin{cases}\n",
    "    a_t=3S_t^{(1)}-3S_t^(2)+S_t^{(3)}\\\\\n",
    "    b_t=\\dfrac{\\alpha}{2(1-\\alpha)^2}[(6-5\\alpha)S_t^{(1)}+(4-3\\alpha)S_t^{(3)}]\\\\\n",
    "    c_t=\\dfrac{\\alpha^2}{2(1-\\alpha)^2}[S_t^{(1)}-2S_t^{(2)}+S_t^{(3)}]\n",
    "\\end{cases}\n",
    "$$"
   ]
  },
  {
   "cell_type": "markdown",
   "metadata": {},
   "source": [
    "# **平稳时间序列分析**\n",
    "协方差的定义：\n",
    "$$\\gamma_{t,s}=COV(X_t,X_s)=E[(X_t-\\mu_t)(X_s-\\mu_s)]$$\n",
    "对于一个时间序列{X_t},如果它满足以下条件：\\\n",
    "（1）均值$E(X_t)=m$是与时间t无关的函数。\\\n",
    "（2）方差$Var(X_t)=s^2$是与时间t无关的函数。\\\n",
    "（3）协方差$COV(X_t,X_{t+k})$仅与间隔k有关，与时间t无关。\\\n",
    "那么该时间序列是平稳的。"
   ]
  },
  {
   "cell_type": "markdown",
   "metadata": {},
   "source": [
    "# <font color=violet> 例 <font>\n",
    "<img src='image/18_5_1.png' width='600'>"
   ]
  },
  {
   "cell_type": "code",
   "execution_count": 1,
   "metadata": {
    "scrolled": false
   },
   "outputs": [
    {
     "name": "stdout",
     "output_type": "stream",
     "text": [
      "0       0.000000\n",
      "1       5.001566\n",
      "2      14.303536\n",
      "3      18.377551\n",
      "4      26.813732\n",
      "         ...    \n",
      "284    39.073358\n",
      "285    38.986117\n",
      "286     2.089546\n",
      "287    13.990049\n",
      "288    38.826947\n",
      "Name: predicted_mean, Length: 289, dtype: float64\n"
     ]
    },
    {
     "data": {
      "image/png": "[encoded data removed]",
      "text/plain": [
       "<Figure size 432x288 with 1 Axes>"
      ]
     },
     "metadata": {
      "needs_background": "light"
     },
     "output_type": "display_data"
    },
    {
     "name": "stdout",
     "output_type": "stream",
     "text": [
      "289\n",
      "289    141.974527\n",
      "dtype: float64\n"
     ]
    }
   ],
   "source": [
    "import pandas as pd, numpy as np\n",
    "import statsmodels.api as sm\n",
    "import matplotlib.pyplot as plt\n",
    "plt.rc('font',family='SimHei'); plt.rc('font',size=16) #调整图的字体属性\n",
    "d=pd.read_csv('sunspots.csv',usecols=['counts']) #读取csv文件中的某一列\n",
    "\n",
    "md=sm.tsa.arima.ARIMA(d,order=(1,1,1)).fit() #构建ARMA模型\n",
    "\n",
    "years=np.arange(1700,1989)  #已知观测值的年代\n",
    "dhat=md.predict()\n",
    "print(dhat)\n",
    "plt.plot(years[-20:],d.values[-20:],'o-k')\n",
    "plt.plot(years[-20:],dhat.values[-20:],'P--')\n",
    "plt.legend(('原始观测值','预测值')); plt.show()\n",
    "print(d.shape[0])\n",
    "dnext=md.predict(d.shape[0],d.shape[0]) \n",
    "print(dnext)  #显示下一期的预测值"
   ]
  },
  {
   "cell_type": "code",
   "execution_count": null,
   "metadata": {},
   "outputs": [],
   "source": []
  }
 ],
 "metadata": {
  "kernelspec": {
   "display_name": "Python 3 (ipykernel)",
   "language": "python",
   "name": "python3"
  },
  "language_info": {
   "codemirror_mode": {
    "name": "ipython",
    "version": 3
   },
   "file_extension": ".py",
   "mimetype": "text/x-python",
   "name": "python",
   "nbconvert_exporter": "python",
   "pygments_lexer": "ipython3",
   "version": "3.9.12"
  },
  "vscode": {
   "interpreter": {
    "hash": "7758e92e9a61d7a3490898707f7eeb937c85e9d1e8d4e877cc6c187218f226d5"
   }
  }
 },
 "nbformat": 4,
 "nbformat_minor": 2
}
