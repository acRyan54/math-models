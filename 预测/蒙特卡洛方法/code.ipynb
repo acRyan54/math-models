{
 "cells": [
  {
   "cell_type": "markdown",
   "metadata": {},
   "source": [
    "scipy.stats里面的函数可以生成分布数据，也可以是随机变量（功能多）\n",
    "\n",
    "np.random里面只能用于生成随机变量（方便）"
   ]
  },
  {
   "cell_type": "code",
   "execution_count": 2,
   "metadata": {},
   "outputs": [],
   "source": [
    "import numpy as np \n",
    "from scipy.stats import expon\n",
    "import matplotlib.pyplot as plt\n",
    "rng = np.random.default_rng(10)"
   ]
  },
  {
   "cell_type": "code",
   "execution_count": 6,
   "metadata": {},
   "outputs": [
    {
     "data": {
      "text/plain": [
       "[<matplotlib.lines.Line2D at 0x1eaab1ec208>]"
      ]
     },
     "execution_count": 6,
     "metadata": {},
     "output_type": "execute_result"
    },
    {
     "data": {
      "image/png": "[encoded data removed]",
      "text/plain": [
       "<Figure size 432x288 with 1 Axes>"
      ]
     },
     "metadata": {
      "needs_background": "light"
     },
     "output_type": "display_data"
    }
   ],
   "source": [
    "xx = np.linspace(0, 10, 200)\n",
    "yy = expon.pdf(xx, scale=1/10)\n",
    "plt.plot(xx, yy)"
   ]
  },
  {
   "cell_type": "code",
   "execution_count": 4,
   "metadata": {},
   "outputs": [
    {
     "name": "stdout",
     "output_type": "stream",
     "text": [
      "45\n",
      "25.493679846249055\n"
     ]
    }
   ],
   "source": [
    "rng = np.random.default_rng(1)\n",
    "\n",
    "def oneday():\n",
    "    W = [0] # 等待时间\n",
    "    c = 0\n",
    "    g = rng.uniform(4, 15)\n",
    "    while g < 480:\n",
    "        t = rng.exponential(10)\n",
    "        c = c + t\n",
    "        w = max(0, g - c)\n",
    "        g = max(g, c) + rng.uniform(4, 15)\n",
    "        W.append(w)\n",
    "    return len(W), np.mean(W)\n",
    "\n",
    "N_arr = []\n",
    "T_arr = []\n",
    "for _ in range(10000):\n",
    "    N, T = oneday()\n",
    "    N_arr.append(N)\n",
    "    T_arr.append(T)\n",
    "print(round(np.mean(N_arr)))\n",
    "print(np.mean(T_arr))"
   ]
  }
 ],
 "metadata": {
  "interpreter": {
   "hash": "aa43cd2ccc1ff393b971fd4a3432410e7b10bb4b6c743baaacc4a3f13fd072bf"
  },
  "kernelspec": {
   "display_name": "Python 3.7.13 ('base')",
   "language": "python",
   "name": "python3"
  },
  "language_info": {
   "codemirror_mode": {
    "name": "ipython",
    "version": 3
   },
   "file_extension": ".py",
   "mimetype": "text/x-python",
   "name": "python",
   "nbconvert_exporter": "python",
   "pygments_lexer": "ipython3",
   "version": "3.7.13"
  },
  "orig_nbformat": 4
 },
 "nbformat": 4,
 "nbformat_minor": 2
}
