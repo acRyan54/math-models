{
 "cells": [
  {
   "cell_type": "code",
   "execution_count": 14,
   "metadata": {},
   "outputs": [
    {
     "data": {
      "image/png": "[encoded data removed]",
      "text/plain": [
       "<Figure size 576x432 with 1 Axes>"
      ]
     },
     "metadata": {
      "needs_background": "light"
     },
     "output_type": "display_data"
    }
   ],
   "source": [
    "import numpy as np\n",
    "import matplotlib.pyplot as plt\n",
    "rng = np.random.default_rng()\n",
    "\n",
    "def tweedie(n,p,mu,phi):\n",
    "    result = np.full(n, np.nan)\n",
    "    lamda = mu ** (2 - p) / (phi * (2 - p))\n",
    "    alpha = (2 - p) / (1 - p)\n",
    "    gam = phi * (p - 1) * ( mu ** (p - 1))\n",
    "    rs = rng.poisson(lamda, n)\n",
    "    for i in range(n):\n",
    "        result[i] = rng.gamma(rs[i] * np.abs(alpha), gam, 1)\n",
    "    return result\n",
    "\n",
    "x = tweedie(100000, 1.2, 3, 2)\n",
    "fig, ax = plt.subplots(figsize=(8, 6))\n",
    "ax.hist(x, bins=100)\n",
    "plt.show()"
   ]
  }
 ],
 "metadata": {
  "interpreter": {
   "hash": "aa43cd2ccc1ff393b971fd4a3432410e7b10bb4b6c743baaacc4a3f13fd072bf"
  },
  "kernelspec": {
   "display_name": "Python 3.7.13 ('base')",
   "language": "python",
   "name": "python3"
  },
  "language_info": {
   "codemirror_mode": {
    "name": "ipython",
    "version": 3
   },
   "file_extension": ".py",
   "mimetype": "text/x-python",
   "name": "python",
   "nbconvert_exporter": "python",
   "pygments_lexer": "ipython3",
   "version": "3.7.13"
  },
  "orig_nbformat": 4
 },
 "nbformat": 4,
 "nbformat_minor": 2
}
