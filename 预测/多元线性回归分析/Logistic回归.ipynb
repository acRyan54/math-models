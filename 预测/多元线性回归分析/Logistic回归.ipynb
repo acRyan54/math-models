{
 "cells": [
  {
   "cell_type": "markdown",
   "metadata": {},
   "source": [
    "## $\\bigstar$ statsmodels"
   ]
  },
  {
   "cell_type": "code",
   "execution_count": 4,
   "metadata": {},
   "outputs": [
    {
     "name": "stdout",
     "output_type": "stream",
     "text": [
      "[-11.89049529  12.49843864  10.78652134]\n",
      "                          Results: Logit\n",
      "==================================================================\n",
      "Model:              Logit            Pseudo R-squared: 1.000      \n",
      "Dependent Variable: y                AIC:              6.0001     \n",
      "Date:               2022-08-26 22:53 BIC:              3.2959     \n",
      "No. Observations:   3                Log-Likelihood:   -3.8272e-05\n",
      "Df Model:           2                LL-Null:          -1.9095    \n",
      "Df Residuals:       0                LLR p-value:      0.14815    \n",
      "Converged:          1.0000           Scale:            1.0000     \n",
      "No. Iterations:     15.0000                                       \n",
      "-------------------------------------------------------------------\n",
      "         Coef.     Std.Err.     z     P>|z|     [0.025      0.975] \n",
      "-------------------------------------------------------------------\n",
      "const   -11.8905   381.9366  -0.0311  0.9752   -760.4724   736.6914\n",
      "x1       12.4984  4106.7542   0.0030  0.9976  -8036.5919  8061.5887\n",
      "x2       10.7865  4421.3385   0.0024  0.9981  -8654.8777  8676.4508\n",
      "==================================================================\n",
      "\n",
      "[0.00000686 0.00002016 0.99998874]\n"
     ]
    }
   ],
   "source": [
    "import numpy as np\n",
    "import statsmodels.api as sm\n",
    "\n",
    "np.set_printoptions(suppress=True)\n",
    "\n",
    "X = np.array([[0, 0], \n",
    "              [0, 0.1], \n",
    "              [1, 1]])\n",
    "y = np.array([0, 0, 1]) # 只能是1D\n",
    "\n",
    "X = sm.add_constant(X) # 记得加入常数项\n",
    "\n",
    "res = sm.Logit(y, X).fit(method=\"lbfgs\")\n",
    "print(res.params)\n",
    "print(res.summary2())\n",
    "# print(res.summary())\n",
    "\n",
    "print(res.predict(X)) # <0.5为0，>0.5为1"
   ]
  },
  {
   "cell_type": "markdown",
   "metadata": {},
   "source": [
    "## sklearn.linear_model中的LogisticRegression\n",
    "> 一般用来做多分类，不适合用于回归\n",
    "\n",
    "- 检验指标只有$R^2$\n",
    "\n",
    "- penalty惩罚项，类似lasso和ridge\n",
    "\n",
    "penalty{‘l1’, ‘l2’, ‘elasticnet’, ‘none’}, default=’l2’\n",
    "\n",
    "Specify the norm of the penalty:\n",
    "\n",
    "'none': no penalty is added;\n",
    "\n",
    "'l2': add a L2 penalty term and it is the default choice;\n",
    "\n",
    "'l1': add a L1 penalty term;\n",
    "\n",
    "'elasticnet': both L1 and L2 penalty terms are added.\n",
    "\n"
   ]
  },
  {
   "cell_type": "code",
   "execution_count": 2,
   "metadata": {},
   "outputs": [
    {
     "name": "stdout",
     "output_type": "stream",
     "text": [
      "[-10.41511893]\n",
      "[[10.92702622  9.49018677]]\n",
      "------------------------------\n",
      "1.0\n",
      "[0 0 1]\n",
      "[[0.99997003 0.00002997]\n",
      " [0.99992257 0.00007743]\n",
      " [0.0000453  0.9999547 ]]\n"
     ]
    }
   ],
   "source": [
    "import numpy as np\n",
    "from sklearn.linear_model import LogisticRegression\n",
    "\n",
    "np.set_printoptions(suppress=True)\n",
    "\n",
    "X = np.array([[0, 0], \n",
    "              [0, 0.1], \n",
    "              [1, 1]])\n",
    "y = np.array([0, 0, 1])\n",
    "\n",
    "clf = LogisticRegression(random_state=1, solver='lbfgs', penalty='none', tol=1e-4).fit(X, y) # 最简单的形式\n",
    "\n",
    "print(clf.intercept_, clf.coef_, sep='\\n')\n",
    "print('-'*30)\n",
    "\n",
    "print(clf.score(X, y))\n",
    "\n",
    "print(clf.predict(X)) # 直接输出分类的标签\n",
    "print(clf.predict_proba(X)) # 输出对各个标签的概率\n"
   ]
  }
 ],
 "metadata": {
  "interpreter": {
   "hash": "aa43cd2ccc1ff393b971fd4a3432410e7b10bb4b6c743baaacc4a3f13fd072bf"
  },
  "kernelspec": {
   "display_name": "Python 3.7.13 ('base')",
   "language": "python",
   "name": "python3"
  },
  "language_info": {
   "codemirror_mode": {
    "name": "ipython",
    "version": 3
   },
   "file_extension": ".py",
   "mimetype": "text/x-python",
   "name": "python",
   "nbconvert_exporter": "python",
   "pygments_lexer": "ipython3",
   "version": "3.7.13"
  },
  "orig_nbformat": 4
 },
 "nbformat": 4,
 "nbformat_minor": 2
}
