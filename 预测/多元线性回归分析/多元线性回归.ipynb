{
 "cells": [
  {
   "cell_type": "markdown",
   "metadata": {},
   "source": [
    "## sklearn.linear_model中的LinearRegression\n",
    "\n",
    "- 检验指标只有$R^2$\n",
    "\n",
    "- LinearRegression的positive参数可以强制系数为正\n",
    "\n",
    "- fit可以设置sample_weight\n",
    "\n",
    "- fit_intercept=True：是否需要常数项"
   ]
  },
  {
   "cell_type": "code",
   "execution_count": 1,
   "metadata": {},
   "outputs": [
    {
     "data": {
      "text/plain": [
       "array([0.5, 0.5])"
      ]
     },
     "execution_count": 1,
     "metadata": {},
     "output_type": "execute_result"
    }
   ],
   "source": [
    "from sklearn.linear_model import LinearRegression\n",
    "reg = LinearRegression().fit([[0, 0], \n",
    "                              [1, 1], \n",
    "                              [2, 2]], [0, 1, 2])\n",
    "\n",
    "reg.coef_"
   ]
  },
  {
   "cell_type": "code",
   "execution_count": 2,
   "metadata": {},
   "outputs": [
    {
     "name": "stdout",
     "output_type": "stream",
     "text": [
      "1.0\n",
      "3.000000000000001 [1. 2.]\n",
      "[16.]\n"
     ]
    }
   ],
   "source": [
    "import numpy as np\n",
    "from sklearn.linear_model import LinearRegression\n",
    "X = np.array([[1, 1], \n",
    "              [1, 2], \n",
    "              [2, 2], \n",
    "              [2, 3]])\n",
    "# y = 3 + 1 * x_0 + 2 * x_1\n",
    "y = X @ np.array([1, 2]) + 3\n",
    "reg = LinearRegression(fit_intercept=True).fit(X, y)\n",
    "\n",
    "print(reg.score(X, y)) # R^2数值\n",
    "print(reg.intercept_, reg.coef_)\n",
    "# print(reg.get_params())\n",
    "print(reg.predict(np.array([[3, 5]])))"
   ]
  },
  {
   "cell_type": "markdown",
   "metadata": {},
   "source": [
    "## $\\bigstar$ statsmodels\n",
    "\n",
    "> https://www.statsmodels.org/stable/examples/notebooks/generated/ols.html\n",
    "\n",
    "- 数组方法（习惯）\n",
    "\n",
    "- 公式方法"
   ]
  },
  {
   "cell_type": "code",
   "execution_count": 5,
   "metadata": {},
   "outputs": [
    {
     "name": "stdout",
     "output_type": "stream",
     "text": [
      "[3. 1. 2.]\n",
      "                            OLS Regression Results                            \n",
      "==============================================================================\n",
      "Dep. Variable:                      y   R-squared:                       1.000\n",
      "Model:                            OLS   Adj. R-squared:                  1.000\n",
      "Method:                 Least Squares   F-statistic:                 1.194e+29\n",
      "Date:                Mon, 05 Sep 2022   Prob (F-statistic):           2.05e-15\n",
      "Time:                        15:10:19   Log-Likelihood:                 127.26\n",
      "No. Observations:                   4   AIC:                            -248.5\n",
      "Df Residuals:                       1   BIC:                            -250.4\n",
      "Df Model:                           2                                         \n",
      "Covariance Type:            nonrobust                                         \n",
      "==============================================================================\n",
      "                 coef    std err          t      P>|t|      [0.025      0.975]\n",
      "------------------------------------------------------------------------------\n",
      "const          3.0000   1.22e-14   2.45e+14      0.000       3.000       3.000\n",
      "x1             1.0000   1.04e-14   9.58e+13      0.000       1.000       1.000\n",
      "x2             2.0000   7.38e-15   2.71e+14      0.000       2.000       2.000\n",
      "==============================================================================\n",
      "Omnibus:                          nan   Durbin-Watson:                   0.188\n",
      "Prob(Omnibus):                    nan   Jarque-Bera (JB):                0.267\n",
      "Skew:                           0.412   Prob(JB):                        0.875\n",
      "Kurtosis:                       2.038   Cond. No.                         10.4\n",
      "==============================================================================\n",
      "\n",
      "Notes:\n",
      "[1] Standard Errors assume that the covariance matrix of the errors is correctly specified.\n",
      "[16.]\n"
     ]
    },
    {
     "name": "stderr",
     "output_type": "stream",
     "text": [
      "D:\\Softwares\\anaconda3\\lib\\site-packages\\statsmodels\\stats\\stattools.py:75: ValueWarning: omni_normtest is not valid with less than 8 observations; 4 samples were given.\n",
      "  \"samples were given.\" % int(n), ValueWarning)\n"
     ]
    }
   ],
   "source": [
    "# 数组方法\n",
    "\n",
    "import statsmodels.api as sm\n",
    "import statsmodels.formula.api as smf\n",
    "import pandas as pd\n",
    "import numpy as np\n",
    "\n",
    "X = np.array([[1, 1], \n",
    "              [1, 2], \n",
    "              [2, 2], \n",
    "              [2, 3]])\n",
    "# y = 3 + 1 * x_1 + 2 * x_2\n",
    "y = X @ np.array([1, 2]) + 3\n",
    "X = sm.add_constant(X) # 要加上一列常数项1再去回归 ======== 如果没有就是默认齐次\n",
    "res = sm.OLS(y, X).fit() # 自动从1开始给x编号\n",
    "print(res.params)\n",
    "print(res.summary())\n",
    "# print(res.summary())\n",
    "\n",
    "print(res.predict([1, 3, 5]))"
   ]
  },
  {
   "cell_type": "code",
   "execution_count": 4,
   "metadata": {},
   "outputs": [
    {
     "name": "stdout",
     "output_type": "stream",
     "text": [
      "Intercept    3.0\n",
      "x1           1.0\n",
      "x2           2.0\n",
      "dtype: float64\n",
      "                            OLS Regression Results                            \n",
      "==============================================================================\n",
      "Dep. Variable:                      y   R-squared:                       1.000\n",
      "Model:                            OLS   Adj. R-squared:                  1.000\n",
      "Method:                 Least Squares   F-statistic:                 1.194e+29\n",
      "Date:                Mon, 05 Sep 2022   Prob (F-statistic):           2.05e-15\n",
      "Time:                        14:43:10   Log-Likelihood:                 127.26\n",
      "No. Observations:                   4   AIC:                            -248.5\n",
      "Df Residuals:                       1   BIC:                            -250.4\n",
      "Df Model:                           2                                         \n",
      "Covariance Type:            nonrobust                                         \n",
      "==============================================================================\n",
      "                 coef    std err          t      P>|t|      [0.025      0.975]\n",
      "------------------------------------------------------------------------------\n",
      "Intercept      3.0000   1.22e-14   2.45e+14      0.000       3.000       3.000\n",
      "x1             1.0000   1.04e-14   9.58e+13      0.000       1.000       1.000\n",
      "x2             2.0000   7.38e-15   2.71e+14      0.000       2.000       2.000\n",
      "==============================================================================\n",
      "Omnibus:                          nan   Durbin-Watson:                   0.188\n",
      "Prob(Omnibus):                    nan   Jarque-Bera (JB):                0.267\n",
      "Skew:                           0.412   Prob(JB):                        0.875\n",
      "Kurtosis:                       2.038   Cond. No.                         10.4\n",
      "==============================================================================\n",
      "\n",
      "Notes:\n",
      "[1] Standard Errors assume that the covariance matrix of the errors is correctly specified.\n"
     ]
    },
    {
     "name": "stderr",
     "output_type": "stream",
     "text": [
      "D:\\Softwares\\anaconda3\\lib\\site-packages\\statsmodels\\stats\\stattools.py:75: ValueWarning: omni_normtest is not valid with less than 8 observations; 4 samples were given.\n",
      "  \"samples were given.\" % int(n), ValueWarning)\n"
     ]
    }
   ],
   "source": [
    "# 公式方法\n",
    "\n",
    "import statsmodels.api as sm\n",
    "import statsmodels.formula.api as smf\n",
    "import pandas as pd\n",
    "import numpy as np\n",
    "\n",
    "X = np.array([[1, 1], \n",
    "              [1, 2], \n",
    "              [2, 2], \n",
    "              [2, 3]])\n",
    "# y = 3 + 1 * x_1 + 2 * x_2\n",
    "y = X @ np.array([1, 2]) + 3\n",
    "data = pd.DataFrame({\"x1\": X[:, 0], \"x2\": X[:, 1], \"y\": y})\n",
    "# print(data.describe())\n",
    "res = smf.ols(\"y ~ x1 + x2\", data).fit()\n",
    "\n",
    "print(res.params)\n",
    "print(res.summary())\n"
   ]
  }
 ],
 "metadata": {
  "interpreter": {
   "hash": "aa43cd2ccc1ff393b971fd4a3432410e7b10bb4b6c743baaacc4a3f13fd072bf"
  },
  "kernelspec": {
   "display_name": "Python 3.7.13 ('base')",
   "language": "python",
   "name": "python3"
  },
  "language_info": {
   "codemirror_mode": {
    "name": "ipython",
    "version": 3
   },
   "file_extension": ".py",
   "mimetype": "text/x-python",
   "name": "python",
   "nbconvert_exporter": "python",
   "pygments_lexer": "ipython3",
   "version": "3.7.13"
  },
  "orig_nbformat": 4
 },
 "nbformat": 4,
 "nbformat_minor": 2
}
