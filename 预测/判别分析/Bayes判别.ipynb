{
 "cells": [
  {
   "cell_type": "markdown",
   "metadata": {},
   "source": [
    "## Bayes判别\n",
    "\n",
    "> https://scikit-learn.org/stable/modules/generated/sklearn.naive_bayes.GaussianNB.html?highlight=gaussiannb#sklearn.naive_bayes.GaussianNB\n",
    "> \n",
    "> https://scikit-learn.org/stable/modules/naive_bayes.html#gaussian-naive-bayes\n",
    "\n",
    "---\n",
    "\n",
    "> 解析 https://zhuanlan.zhihu.com/p/82402288\n",
    ">\n",
    "> https://zhuanlan.zhihu.com/p/296630090\n",
    "\n",
    "\n",
    "---\n",
    "\n",
    "- priors : array-like of shape (n_classes,) ：可给定分类的**先验概率**（默认是样本频率）\n",
    "\n",
    "    Prior probabilities of the classes. If specified the priors are not adjusted according to the data."
   ]
  },
  {
   "cell_type": "code",
   "execution_count": 17,
   "metadata": {},
   "outputs": [
    {
     "name": "stdout",
     "output_type": "stream",
     "text": [
      "[2. 2. 3.]\n",
      "[[0.12203439 0.87136146 0.00660415]\n",
      " [0.18356162 0.78999271 0.02644566]\n",
      " [0.16404587 0.03210113 0.803853  ]]\n",
      "0.8666666666666667\n",
      "------------------------------\n",
      "[1. 2. 3.]\n",
      "[4. 6. 5.]\n",
      "------------------------------\n",
      "[0.26666667 0.4        0.33333333]\n"
     ]
    }
   ],
   "source": [
    "import numpy as np\n",
    "from sklearn.naive_bayes import GaussianNB\n",
    "\n",
    "X = np.array([[1.24,1.27], \n",
    "              [1.36,1.74], \n",
    "              [1.38,1.64], \n",
    "              [1.38,1.82], \n",
    "              [1.38,1.90], \n",
    "              [1.40,1.70],\n",
    "              [1.48,1.82], \n",
    "              [1.54,1.82], \n",
    "              [1.56,2.08],\n",
    "              [1.14,1.78], \n",
    "              [1.18,1.96], \n",
    "              [1.20,1.86],\n",
    "              [1.26,2.00], \n",
    "              [1.28,2.00], \n",
    "              [1.30,1.96]])\n",
    "# y = np.hstack([np.ones(9), 2*np.ones(6)])\n",
    "y = np.hstack([np.ones(4), 3*np.ones(5), 2*np.ones(6)]) # 多分类也可以做\n",
    "X_test = np.array([[1.24,1.80], \n",
    "                   [1.28,1.84], \n",
    "                   [1.40,2.04]])\n",
    "\n",
    "clf = GaussianNB().fit(X, y)\n",
    "\n",
    "print(clf.predict(X_test))\n",
    "print(clf.predict_proba(X_test))\n",
    "print(clf.score(X, y)) # 准确率\n",
    "print('-'*30)\n",
    "\n",
    "print(clf.classes_) # 分类\n",
    "print(clf.class_count_) # 分类个数统计\n",
    "print('-'*30)\n",
    "\n",
    "print(clf.class_prior_) # 先验概率==默认是clf.class_count_的归一化"
   ]
  },
  {
   "cell_type": "code",
   "execution_count": 18,
   "metadata": {},
   "outputs": [
    {
     "name": "stdout",
     "output_type": "stream",
     "text": [
      "[2. 2. 3.]\n",
      "[[0.17231011 0.82022995 0.00745995]\n",
      " [0.25097984 0.7200933  0.02892687]\n",
      " [0.19799652 0.02582982 0.77617366]]\n",
      "0.8666666666666667\n",
      "------------------------------\n",
      "[1. 2. 3.]\n",
      "[4. 6. 5.]\n",
      "------------------------------\n",
      "[0.33333333 0.33333333 0.33333333]\n"
     ]
    }
   ],
   "source": [
    "import numpy as np\n",
    "from sklearn.naive_bayes import GaussianNB\n",
    "\n",
    "X = np.array([[1.24,1.27], \n",
    "              [1.36,1.74], \n",
    "              [1.38,1.64], \n",
    "              [1.38,1.82], \n",
    "              [1.38,1.90], \n",
    "              [1.40,1.70],\n",
    "              [1.48,1.82], \n",
    "              [1.54,1.82], \n",
    "              [1.56,2.08],\n",
    "              [1.14,1.78], \n",
    "              [1.18,1.96], \n",
    "              [1.20,1.86],\n",
    "              [1.26,2.00], \n",
    "              [1.28,2.00], \n",
    "              [1.30,1.96]])\n",
    "# y = np.hstack([np.ones(9), 2*np.ones(6)])\n",
    "y = np.hstack([np.ones(4), 3*np.ones(5), 2*np.ones(6)]) # 多分类也可以做\n",
    "X_test = np.array([[1.24,1.80], \n",
    "                   [1.28,1.84], \n",
    "                   [1.40,2.04]])\n",
    "\n",
    "clf = GaussianNB(priors=np.ones(np.unique(y).shape) * 1/3).fit(X, y)\n",
    "\n",
    "print(clf.predict(X_test))\n",
    "print(clf.predict_proba(X_test))\n",
    "print(clf.score(X, y)) # 准确率\n",
    "print('-'*30)\n",
    "\n",
    "print(clf.classes_) # 分类\n",
    "print(clf.class_count_) # 分类个数统计\n",
    "print('-'*30)\n",
    "\n",
    "print(clf.class_prior_) # 先验概率==默认是clf.class_count_的归一化"
   ]
  },
  {
   "cell_type": "markdown",
   "metadata": {},
   "source": [
    "- train_test_split() ： 将样本划分为训练集和测试集，便于检验判别效果"
   ]
  },
  {
   "cell_type": "code",
   "execution_count": 19,
   "metadata": {},
   "outputs": [
    {
     "name": "stdout",
     "output_type": "stream",
     "text": [
      "Number of mislabeled points out of a total 105 points : 7\n"
     ]
    }
   ],
   "source": [
    "from sklearn.datasets import load_iris\n",
    "from sklearn.model_selection import train_test_split\n",
    "from sklearn.naive_bayes import GaussianNB\n",
    "\n",
    "\n",
    "X, y = load_iris(return_X_y=True)\n",
    "X_train, X_test, y_train, y_test = train_test_split(X, y, test_size=0.7, random_state=0)\n",
    "gnb = GaussianNB().fit(X_train, y_train)\n",
    "y_pred = gnb.predict(X_test)\n",
    "print(\"Number of mislabeled points out of a total %d points : %d\"\n",
    "      % (X_test.shape[0], (y_test != y_pred).sum()))"
   ]
  }
 ],
 "metadata": {
  "interpreter": {
   "hash": "aa43cd2ccc1ff393b971fd4a3432410e7b10bb4b6c743baaacc4a3f13fd072bf"
  },
  "kernelspec": {
   "display_name": "Python 3.7.13 ('base')",
   "language": "python",
   "name": "python3"
  },
  "language_info": {
   "codemirror_mode": {
    "name": "ipython",
    "version": 3
   },
   "file_extension": ".py",
   "mimetype": "text/x-python",
   "name": "python",
   "nbconvert_exporter": "python",
   "pygments_lexer": "ipython3",
   "version": "3.7.13"
  },
  "orig_nbformat": 4
 },
 "nbformat": 4,
 "nbformat_minor": 2
}
