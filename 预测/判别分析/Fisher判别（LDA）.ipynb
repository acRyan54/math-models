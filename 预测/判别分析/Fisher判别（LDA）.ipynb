{
 "cells": [
  {
   "cell_type": "markdown",
   "metadata": {},
   "source": [
    "## Fisher判别法\n",
    "\n",
    "> https://scikit-learn.org/stable/auto_examples/classification/plot_lda_qda.html\n",
    "\n",
    "问题的初衷在于找到一条线将坐标点向该线上投影，将这条线的方向设为www，并用该www作为假设带入，最后解出最佳www\n",
    "\n",
    "按照我们假设的www，将样本点向该直线中投影，即wTxw^Txw^Tx，求出每一类样本点在投影上的均值和方差（或者说是协方差矩阵）按照类间小，类内大的目标，设立目标函数求解www \n",
    "\n",
    "值得注意的是，我们求得的**w是最终投影的平面（在这里为一维直线）方向**，而不是感知机或逻辑斯蒂回归中的决策边界，这个问题一度让我以为自己的w求错了！！！\n",
    "\n",
    "![](https://pic2.zhimg.com/v2-90f95fe7eb9e43dfb7587816b185bb99_b.jpg)\n",
    "\n",
    "## 线性判别分析 sklearn.discriminant_analysis.LinearDiscriminantAnalysis\n",
    "\n",
    "> https://scikit-learn.org/stable/modules/generated/sklearn.discriminant_analysis.LinearDiscriminantAnalysis.html?highlight=lda\n",
    ">\n",
    "> https://zhuanlan.zhihu.com/p/33742983\n",
    "\n",
    "- Fisher判别分析，利用投影技术进行降维，降维后计算组内偏差（此处可类比到方差分析中的随机误差），同时计算组间偏差（此处可类比方差分析中的各个因素水平之间的组间偏差），利用凸优化方法找到使得组内偏差最小化、组间偏差最大化的直线或者超平面来分割不同的类别。\n",
    "\n",
    "- 不需要设置参数"
   ]
  },
  {
   "cell_type": "code",
   "execution_count": 51,
   "metadata": {},
   "outputs": [
    {
     "name": "stdout",
     "output_type": "stream",
     "text": [
      "[1. 2. 3.]\n",
      "------------------------------\n",
      "[[ 25.68042447 -16.39379925]\n",
      " [-56.47069511  21.83776131]\n",
      " [ 47.22049455 -13.09027417]]\n",
      "[ -7.51223888  30.57098506 -43.32504515]\n",
      "------------------------------\n",
      "[[ -5.17735119  33.27733776 -40.81580136]\n",
      " [-38.22793045  -1.53002386 -77.83498521]\n",
      " [ 27.47868085  66.92711361  -3.92051209]]\n",
      "[2. 2. 3.]\n",
      "[[0.0064775  0.9932468  0.0002757 ]\n",
      " [0.03625682 0.9595745  0.00416867]\n",
      " [0.14598421 0.42307037 0.43094542]]\n",
      "------------------------------\n",
      "0.9333333333333333\n"
     ]
    }
   ],
   "source": [
    "import numpy as np\n",
    "from sklearn.discriminant_analysis import LinearDiscriminantAnalysis as LDA\n",
    "np.set_printoptions(precision=8, suppress=True)\n",
    "\n",
    "X = np.array([[1.24,1.27], \n",
    "              [1.36,1.74], \n",
    "              [1.38,1.64], \n",
    "              [1.38,1.82], \n",
    "              [1.38,1.90], \n",
    "              [1.40,1.70],\n",
    "              [1.48,1.82], \n",
    "              [1.54,1.82], \n",
    "              [1.56,2.08],\n",
    "              [1.14,1.78], \n",
    "              [1.18,1.96], \n",
    "              [1.20,1.86],\n",
    "              [1.26,2.00], \n",
    "              [1.28,2.00], \n",
    "              [1.30,1.96]])\n",
    "# y = np.hstack([np.ones(9), 2*np.ones(6)])\n",
    "y = np.hstack([np.ones(4), 3*np.ones(5), 2*np.ones(6)]) # 多分类也可以做\n",
    "X_test = np.array([[1.24,1.80], \n",
    "                   [1.28,1.84], \n",
    "                   [1.40,2.04]])\n",
    "\n",
    "clf = LDA(tol=1e-8).fit(X, y)\n",
    "\n",
    "print(clf.classes_) # 样本类别\n",
    "print('-'*30)\n",
    "\n",
    "print(clf.coef_) # 投影平面的系数\n",
    "print(clf.intercept_)\n",
    "print('-'*30)\n",
    "\n",
    "print(clf.coef_ @ X_test.T + clf.intercept_ ) # 在判别直线上的投影值，最大的即为预测值 *************************************************\n",
    "\n",
    "print(clf.predict(X_test))\n",
    "print(clf.predict_proba(X_test))\n",
    "print('-'*30)\n",
    "\n",
    "print(clf.score(X, y)) # 准确率\n",
    "\n",
    "# print(clf.explained_variance_ratio_) # 对特征的方差解释百分比---可以作为对变量重要性的某种权重***********************\n"
   ]
  },
  {
   "cell_type": "markdown",
   "metadata": {},
   "source": [
    "## 二次判别分析 sklearn.discriminant_analysis.QuadraticDiscriminantAnalysis\n",
    "\n",
    "> https://scikit-learn.org/stable/modules/generated/sklearn.discriminant_analysis.QuadraticDiscriminantAnalysis.html?highlight=lda"
   ]
  },
  {
   "cell_type": "code",
   "execution_count": 23,
   "metadata": {},
   "outputs": [
    {
     "name": "stdout",
     "output_type": "stream",
     "text": [
      "[1. 2. 3.]\n",
      "------------------------------\n",
      "[2. 2. 3.]\n",
      "[[0.00000001 0.94211519 0.0578848 ]\n",
      " [0.00001481 0.72893759 0.2710476 ]\n",
      " [0.19844083 0.19807925 0.60347992]]\n",
      "1.0\n"
     ]
    }
   ],
   "source": [
    "import numpy as np\n",
    "from sklearn.discriminant_analysis import QuadraticDiscriminantAnalysis as QDA\n",
    "np.set_printoptions(precision=8, suppress=True)\n",
    "\n",
    "X = np.array([[1.24,1.27], \n",
    "              [1.36,1.74], \n",
    "              [1.38,1.64], \n",
    "              [1.38,1.82], \n",
    "              [1.38,1.90], \n",
    "              [1.40,1.70],\n",
    "              [1.48,1.82], \n",
    "              [1.54,1.82], \n",
    "              [1.56,2.08],\n",
    "              [1.14,1.78], \n",
    "              [1.18,1.96], \n",
    "              [1.20,1.86],\n",
    "              [1.26,2.00], \n",
    "              [1.28,2.00], \n",
    "              [1.30,1.96]])\n",
    "# y = np.hstack([np.ones(9), 2*np.ones(6)])\n",
    "y = np.hstack([np.ones(4), 3*np.ones(5), 2*np.ones(6)]) # 多分类也可以做\n",
    "X_test = np.array([[1.24,1.80], \n",
    "                   [1.28,1.84], \n",
    "                   [1.40,2.04]])\n",
    "\n",
    "clf = QDA(tol=1e-8).fit(X, y)\n",
    "\n",
    "print(clf.classes_) # 样本类别\n",
    "print('-'*30)\n",
    "\n",
    "print(clf.predict(X_test))\n",
    "print(clf.predict_proba(X_test))\n",
    "print(clf.score(X, y)) # 准确率"
   ]
  },
  {
   "cell_type": "markdown",
   "metadata": {},
   "source": [
    "## 可视化（超平面分割）\n",
    "\n",
    "> https://scikit-learn.org/stable/auto_examples/classification/plot_lda_qda.html"
   ]
  },
  {
   "cell_type": "markdown",
   "metadata": {},
   "source": [
    "## 模型评价 （交叉验证）sklearn.model_selection.cross_val_score\n",
    "\n",
    "> 介绍 https://scikit-learn.org/stable/modules/cross_validation.html#cross-validation\n",
    "> \n",
    "> API https://scikit-learn.org/stable/modules/generated/sklearn.model_selection.cross_val_score.html?highlight=cross_val_score#sklearn.model_selection.cross_val_score\n",
    "\n",
    "- cv: int, cross-validation generator or an iterable, default=None ：样本分组方法cv=k，分成k组，k-1训练，1组评估"
   ]
  },
  {
   "cell_type": "code",
   "execution_count": 52,
   "metadata": {},
   "outputs": [
    {
     "name": "stdout",
     "output_type": "stream",
     "text": [
      "1.0\n",
      "------------------------------\n",
      "[1. 1. 1. 1. 1.]\n",
      "1.0\n"
     ]
    }
   ],
   "source": [
    "import numpy as np\n",
    "from sklearn.discriminant_analysis import LinearDiscriminantAnalysis as LDA\n",
    "from sklearn.model_selection import cross_val_score\n",
    "np.set_printoptions(precision=8, suppress=True)\n",
    "\n",
    "X = np.array([[1.24,1.27], \n",
    "              [1.36,1.74], \n",
    "              [1.38,1.64], \n",
    "              [1.38,1.82], \n",
    "              [1.38,1.90], \n",
    "              [1.40,1.70],\n",
    "              [1.48,1.82], \n",
    "              [1.54,1.82], \n",
    "              [1.56,2.08],\n",
    "              [1.14,1.78], \n",
    "              [1.18,1.96], \n",
    "              [1.20,1.86],\n",
    "              [1.26,2.00], \n",
    "              [1.28,2.00], \n",
    "              [1.30,1.96]])\n",
    "y = np.hstack([np.ones(9), 2*np.ones(6)])\n",
    "X_test = np.array([[1.24,1.80], \n",
    "                   [1.28,1.84], \n",
    "                   [1.40,2.04]])\n",
    "\n",
    "clf = LDA().fit(X, y)\n",
    "\n",
    "\n",
    "print(clf.score(X, y)) # 准确率\n",
    "print('-'*30)\n",
    "\n",
    "scores = cross_val_score(clf, X, y, cv=5)\n",
    "print(scores)\n",
    "print(scores.mean())\n",
    "\n",
    "\n"
   ]
  }
 ],
 "metadata": {
  "interpreter": {
   "hash": "aa43cd2ccc1ff393b971fd4a3432410e7b10bb4b6c743baaacc4a3f13fd072bf"
  },
  "kernelspec": {
   "display_name": "Python 3.7.13 ('base')",
   "language": "python",
   "name": "python3"
  },
  "language_info": {
   "codemirror_mode": {
    "name": "ipython",
    "version": 3
   },
   "file_extension": ".py",
   "mimetype": "text/x-python",
   "name": "python",
   "nbconvert_exporter": "python",
   "pygments_lexer": "ipython3",
   "version": "3.7.13"
  },
  "orig_nbformat": 4
 },
 "nbformat": 4,
 "nbformat_minor": 2
}
