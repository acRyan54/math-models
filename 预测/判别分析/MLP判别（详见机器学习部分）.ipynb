{
 "cells": [
  {
   "cell_type": "markdown",
   "metadata": {},
   "source": [
    "## MLP判别 sklearn.neural_network.MLPClassifier\n",
    "\n",
    "> https://scikit-learn.org/stable/modules/generated/sklearn.neural_network.MLPClassifier.html?highlight=mlpclass#sklearn.neural_network.MLPClassifier"
   ]
  },
  {
   "cell_type": "code",
   "execution_count": 4,
   "metadata": {},
   "outputs": [
    {
     "name": "stdout",
     "output_type": "stream",
     "text": [
      "[2. 2. 2.]\n",
      "[[3.43737208e-03 9.96562628e-01]\n",
      " [3.72967395e-02 9.62703260e-01]\n",
      " [1.31384047e-04 9.99868616e-01]]\n",
      "1.0\n"
     ]
    }
   ],
   "source": [
    "import numpy as np\n",
    "from sklearn.neural_network import MLPClassifier\n",
    "\n",
    "X = np.array([[1.24,1.27], \n",
    "              [1.36,1.74], \n",
    "              [1.38,1.64], \n",
    "              [1.38,1.82], \n",
    "              [1.38,1.90], \n",
    "              [1.40,1.70],\n",
    "              [1.48,1.82], \n",
    "              [1.54,1.82], \n",
    "              [1.56,2.08],\n",
    "              [1.14,1.78], \n",
    "              [1.18,1.96], \n",
    "              [1.20,1.86],\n",
    "              [1.26,2.00], \n",
    "              [1.28,2.00], \n",
    "              [1.30,1.96]])\n",
    "y = np.hstack([np.ones(9), 2*np.ones(6)])\n",
    "# y = np.hstack([np.ones(4), 3*np.ones(5), 2*np.ones(6)]) # 多分类也可以做\n",
    "X_test = np.array([[1.24,1.80], \n",
    "                   [1.28,1.84], \n",
    "                   [1.40,2.04]])\n",
    "\n",
    "\n",
    "clf = MLPClassifier(solver='lbfgs', alpha=1e-8,\n",
    "                    hidden_layer_sizes=(5, 2, 2), random_state=1).fit(X, y)\n",
    "\n",
    "print(clf.predict(X_test))\n",
    "print(clf.predict_proba(X_test))\n",
    "print(clf.score(X, y)) # 准确率\n"
   ]
  }
 ],
 "metadata": {
  "interpreter": {
   "hash": "aa43cd2ccc1ff393b971fd4a3432410e7b10bb4b6c743baaacc4a3f13fd072bf"
  },
  "kernelspec": {
   "display_name": "Python 3.7.13 ('base')",
   "language": "python",
   "name": "python3"
  },
  "language_info": {
   "codemirror_mode": {
    "name": "ipython",
    "version": 3
   },
   "file_extension": ".py",
   "mimetype": "text/x-python",
   "name": "python",
   "nbconvert_exporter": "python",
   "pygments_lexer": "ipython3",
   "version": "3.7.13"
  },
  "orig_nbformat": 4
 },
 "nbformat": 4,
 "nbformat_minor": 2
}
