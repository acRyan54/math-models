{
 "cells": [
  {
   "cell_type": "markdown",
   "metadata": {},
   "source": [
    "## 因子分析sklearn.decomposition.FactorAnalysis\n",
    "\n",
    "> https://scikit-learn.org/stable/modules/generated/sklearn.decomposition.FactorAnalysis.html#sklearn.decomposition.FactorAnalysis\n",
    "> \n",
    "> 因子分析与主成分分析的选择 https://scikit-learn.org/stable/auto_examples/decomposition/plot_pca_vs_fa_model_selection.html\n",
    "> \n",
    "> https://zhuanlan.zhihu.com/p/37755749\n",
    ">\n",
    "> https://www.zhihu.com/question/402886595/answer/1946697061\n"
   ]
  },
  {
   "cell_type": "code",
   "execution_count": 1,
   "metadata": {},
   "outputs": [
    {
     "name": "stdout",
     "output_type": "stream",
     "text": [
      "[[-1.2286 -1.2569 -1.2781 -1.2956 -1.3103]\n",
      " [-1.0686 -1.0671 -1.067  -1.0674 -1.068 ]\n",
      " [-0.776  -0.7652 -0.7569 -0.75   -0.7442]\n",
      " [-0.3971 -0.3838 -0.3731 -0.3639 -0.3559]\n",
      " [ 0.0516  0.0629  0.0722  0.0803  0.0875]\n",
      " [ 0.5605  0.5664  0.5715  0.5759  0.5798]\n",
      " [ 1.1232  1.1211  1.1194  1.1179  1.1166]\n",
      " [ 1.735   1.7225  1.712   1.7028  1.6945]]\n",
      "------------------------------\n",
      "[0. 0. 0. 0. 0.]\n",
      "------------------------------\n",
      "[[ 0.9997  0.9999  1.      1.      0.9999]\n",
      " [ 0.0258  0.0125  0.0021 -0.0066 -0.0141]\n",
      " [-0.0012 -0.0001  0.0001 -0.     -0.0003]]\n",
      "------------------------------\n",
      "[[-1.2824  2.0161 -1.124 ]\n",
      " [-1.0672  0.0235  1.9403]\n",
      " [-0.7552 -0.7922  0.5867]\n",
      " [-0.3708 -1.0464 -0.4586]\n",
      " [ 0.0742 -0.919  -0.9187]\n",
      " [ 0.5726 -0.4966 -0.8053]\n",
      " [ 1.1191  0.1694 -0.1673]\n",
      " [ 1.7097  1.0452  0.9468]]\n"
     ]
    }
   ],
   "source": [
    "import numpy as np\n",
    "from sklearn.decomposition import FactorAnalysis\n",
    "from sklearn.preprocessing import StandardScaler\n",
    "\n",
    "np.set_printoptions(precision=4, suppress=True)\n",
    "\n",
    "\n",
    "X = (np.arange(40)**1.5).reshape((8, 5))\n",
    "X = StandardScaler().fit_transform(X)\n",
    "print(X)\n",
    "print('-'*30)\n",
    "\n",
    "mod=FactorAnalysis(n_components=3, random_state=0).fit(X)\n",
    "\n",
    "print(mod.noise_variance_) # 每个特征的噪声估计方差\n",
    "print('-'*30)\n",
    "\n",
    "print(mod.components_) # 因子对特征的成分矩阵（因子的表示）\n",
    "print('-'*30)\n",
    "\n",
    "print(mod.transform(X)) # 数据在因子上的投影（转化后的数据）"
   ]
  },
  {
   "cell_type": "code",
   "execution_count": 2,
   "metadata": {},
   "outputs": [
    {
     "name": "stdout",
     "output_type": "stream",
     "text": [
      "[[-1.2286 -1.2569 -1.2781 -1.2956 -1.3103]\n",
      " [-1.0686 -1.0671 -1.067  -1.0674 -1.068 ]\n",
      " [-0.776  -0.7652 -0.7569 -0.75   -0.7442]\n",
      " [-0.3971 -0.3838 -0.3731 -0.3639 -0.3559]\n",
      " [ 0.0516  0.0629  0.0722  0.0803  0.0875]\n",
      " [ 0.5605  0.5664  0.5715  0.5759  0.5798]\n",
      " [ 1.1232  1.1211  1.1194  1.1179  1.1166]\n",
      " [ 1.735   1.7225  1.712   1.7028  1.6945]]\n",
      "------------------------------\n",
      "[[ 0.9903  0.9921  0.9934  0.9943  0.9951]\n",
      " [ 0.1386  0.1254  0.1151  0.1065  0.099 ]\n",
      " [ 0.0001 -0.0006 -0.0006 -0.0003  0.0001]]\n",
      "------------------------------\n",
      "[[-1.504   1.8807  1.0833]\n",
      " [-1.0595 -0.1367 -1.9398]\n",
      " [-0.6598 -0.8842 -0.57  ]\n",
      " [-0.251  -1.0721  0.48  ]\n",
      " [ 0.176  -0.8858  0.9372]\n",
      " [ 0.6236 -0.4122  0.8149]\n",
      " [ 1.0924  0.2982  0.1632]\n",
      " [ 1.5823  1.2123 -0.9688]]\n"
     ]
    }
   ],
   "source": [
    "import numpy as np\n",
    "from sklearn.decomposition import FactorAnalysis\n",
    "from sklearn.preprocessing import StandardScaler\n",
    "\n",
    "np.set_printoptions(precision=4, suppress=True)\n",
    "\n",
    "\n",
    "X = (np.arange(40)**1.5).reshape((8, 5))\n",
    "X = StandardScaler().fit_transform(X)\n",
    "print(X)\n",
    "print('-'*30)\n",
    "\n",
    "mod=FactorAnalysis(n_components=3, random_state=0, rotation='varimax').fit(X) # 加入旋转\n",
    "\n",
    "print(mod.components_) # 因子对特征的成分矩阵（因子的表示）\n",
    "print('-'*30)\n",
    "\n",
    "print(mod.transform(X)) # 数据在因子上的投影（转化后的数据）"
   ]
  },
  {
   "cell_type": "markdown",
   "metadata": {},
   "source": [
    "## $\\bigstar$因子分析factor_analyzer\n",
    "\n",
    "> https://zhuanlan.zhihu.com/p/524913170"
   ]
  },
  {
   "cell_type": "code",
   "execution_count": 3,
   "metadata": {},
   "outputs": [
    {
     "name": "stdout",
     "output_type": "stream",
     "text": [
      "[[  0.         1.         2.828427   5.196152   8.      ]\n",
      " [ 11.18034   14.696938  18.520259  22.627417  27.      ]\n",
      " [ 31.622777  36.482873  41.569219  46.872167  52.383203]\n",
      " [ 58.09475   64.        70.092796  76.367532  82.81908 ]\n",
      " [ 89.442719  96.23409  103.189147 110.304125 117.575508]\n",
      " [125.       132.574507 140.296115 148.162073 156.169779]\n",
      " [164.316767 172.600695 181.019336 189.570567 198.252364]\n",
      " [207.062792 216.       225.062214 234.247732 243.554922]]\n",
      "------------------------------\n",
      "[[-1.228609 -1.256875 -1.278131 -1.295564 -1.310338]\n",
      " [-1.068587 -1.067067 -1.066999 -1.067385 -1.067965]\n",
      " [-0.775999 -0.765164 -0.756878 -0.750018 -0.744164]\n",
      " [-0.397112 -0.383839 -0.373096 -0.363919 -0.35591 ]\n",
      " [ 0.051565  0.062851  0.072212  0.080317  0.08746 ]\n",
      " [ 0.560488  0.566446  0.571482  0.575883  0.579788]\n",
      " [ 1.12322   1.121117  1.119409  1.117927  1.116614]\n",
      " [ 1.735034  1.722531  1.712001  1.702758  1.694515]]\n"
     ]
    }
   ],
   "source": [
    "import numpy as np\n",
    "import pandas as pd\n",
    "from sklearn.preprocessing import StandardScaler\n",
    "np.set_printoptions(precision=6, suppress=False)\n",
    "\n",
    "f = (np.arange(40)**1.5).reshape((8, 5))\n",
    "print(f)\n",
    "f = StandardScaler().fit_transform(f) # 数据标准化\n",
    "print('-'*30)\n",
    "print(f)"
   ]
  },
  {
   "cell_type": "code",
   "execution_count": 4,
   "metadata": {},
   "outputs": [
    {
     "name": "stdout",
     "output_type": "stream",
     "text": [
      "因子分析适用性检验未通过\n",
      "kmo:0.5001086557384752\n",
      "bartlett:8.434888926373686e-66\n"
     ]
    },
    {
     "name": "stderr",
     "output_type": "stream",
     "text": [
      "D:\\Softwares\\anaconda3\\lib\\site-packages\\factor_analyzer\\utils.py:249: UserWarning: The inverse of the variance-covariance matrix was calculated using the Moore-Penrose generalized matrix inversion, due to its determinant being at or very close to zero.\n",
      "  warnings.warn('The inverse of the variance-covariance matrix '\n"
     ]
    }
   ],
   "source": [
    "from factor_analyzer import FactorAnalyzer, calculate_kmo, calculate_bartlett_sphericity \n",
    "\n",
    "kmo = calculate_kmo(f) \n",
    "bartlett = calculate_bartlett_sphericity(f) \n",
    "if kmo[1] >= 0.7 and bartlett[1] <= 0.05:  # kmo值要大于0.7 bartlett球形度检验p值要小于0.05\n",
    "    print(\"因子分析适用性检验通过\")\n",
    "else:     \n",
    "    print(\"因子分析适用性检验未通过\")\n",
    "  \n",
    "print('kmo:{}\\nbartlett:{}'.format(kmo[1], bartlett[1]))  "
   ]
  },
  {
   "cell_type": "code",
   "execution_count": 5,
   "metadata": {},
   "outputs": [
    {
     "name": "stdout",
     "output_type": "stream",
     "text": [
      "旋转前的成分矩阵\n",
      "[[ 9.997611e-01  2.185272e-02  3.925419e-04 -2.476089e-06  2.722762e-10]\n",
      " [ 9.999633e-01  8.560152e-03 -3.649342e-04  8.719861e-06  3.192757e-08]\n",
      " [ 9.999983e-01 -1.824282e-03 -3.430723e-04 -5.011854e-06 -6.522268e-08]\n",
      " [ 9.999445e-01 -1.053705e-02 -5.106491e-05 -6.909504e-06  7.140154e-08]\n",
      " [ 9.998370e-01 -1.804953e-02  3.666661e-04  5.677870e-06 -1.959661e-08]]\n",
      "------------------------------\n"
     ]
    },
    {
     "name": "stderr",
     "output_type": "stream",
     "text": [
      "D:\\Softwares\\anaconda3\\lib\\site-packages\\sklearn\\utils\\extmath.py:376: FutureWarning: If 'random_state' is not supplied, the current default is to use 0 as a fixed seed. This will change to  None in version 1.2 leading to non-deterministic results that better reflect nature of the randomized_svd solver. If you want to silence this warning, set 'random_state' to an integer seed or to None explicitly depending if you want your code to be deterministic or not.\n",
      "  FutureWarning,\n"
     ]
    },
    {
     "data": {
      "text/html": [
       "<div>\n",
       "<style scoped>\n",
       "    .dataframe tbody tr th:only-of-type {\n",
       "        vertical-align: middle;\n",
       "    }\n",
       "\n",
       "    .dataframe tbody tr th {\n",
       "        vertical-align: top;\n",
       "    }\n",
       "\n",
       "    .dataframe thead th {\n",
       "        text-align: right;\n",
       "    }\n",
       "</style>\n",
       "<table border=\"1\" class=\"dataframe\">\n",
       "  <thead>\n",
       "    <tr style=\"text-align: right;\">\n",
       "      <th></th>\n",
       "      <th>旋转前特征值</th>\n",
       "      <th>旋转前方差贡献率</th>\n",
       "      <th>旋转前方差累计贡献率</th>\n",
       "    </tr>\n",
       "  </thead>\n",
       "  <tbody>\n",
       "    <tr>\n",
       "      <th>0</th>\n",
       "      <td>4.999008e+00</td>\n",
       "      <td>9.998017e-01</td>\n",
       "      <td>0.999802</td>\n",
       "    </tr>\n",
       "    <tr>\n",
       "      <th>1</th>\n",
       "      <td>9.909606e-04</td>\n",
       "      <td>1.981921e-04</td>\n",
       "      <td>1.000000</td>\n",
       "    </tr>\n",
       "    <tr>\n",
       "      <th>2</th>\n",
       "      <td>5.420163e-07</td>\n",
       "      <td>1.084033e-07</td>\n",
       "      <td>1.000000</td>\n",
       "    </tr>\n",
       "    <tr>\n",
       "      <th>3</th>\n",
       "      <td>1.872651e-10</td>\n",
       "      <td>3.745302e-11</td>\n",
       "      <td>1.000000</td>\n",
       "    </tr>\n",
       "    <tr>\n",
       "      <th>4</th>\n",
       "      <td>1.075565e-14</td>\n",
       "      <td>2.151130e-15</td>\n",
       "      <td>1.000000</td>\n",
       "    </tr>\n",
       "  </tbody>\n",
       "</table>\n",
       "</div>"
      ],
      "text/plain": [
       "         旋转前特征值      旋转前方差贡献率  旋转前方差累计贡献率\n",
       "0  4.999008e+00  9.998017e-01    0.999802\n",
       "1  9.909606e-04  1.981921e-04    1.000000\n",
       "2  5.420163e-07  1.084033e-07    1.000000\n",
       "3  1.872651e-10  3.745302e-11    1.000000\n",
       "4  1.075565e-14  2.151130e-15    1.000000"
      ]
     },
     "execution_count": 5,
     "metadata": {},
     "output_type": "execute_result"
    }
   ],
   "source": [
    "Load_Matrix = FactorAnalyzer(rotation=None, n_factors=len(f.T), method='principal') \n",
    "Load_Matrix.fit(f) \n",
    "\n",
    "f_contribution_var = Load_Matrix.get_factor_variance() \n",
    "\n",
    "matrices_var = pd.DataFrame() \n",
    "matrices_var[\"旋转前特征值\"] = f_contribution_var[0] \n",
    "matrices_var[\"旋转前方差贡献率\"] = f_contribution_var[1] \n",
    "matrices_var[\"旋转前方差累计贡献率\"] = f_contribution_var[2] \n",
    "\n",
    "print(\"旋转前的成分矩阵\") \n",
    "print(Load_Matrix.loadings_) # 旋转前的成分矩阵\n",
    "print('-'*30)\n",
    "matrices_var # 旋转前的特征值、方差贡献等 "
   ]
  },
  {
   "cell_type": "code",
   "execution_count": 6,
   "metadata": {},
   "outputs": [
    {
     "name": "stdout",
     "output_type": "stream",
     "text": [
      "\n",
      "选择了1个因子累计贡献率为0.9998016994426855\n",
      "\n"
     ]
    }
   ],
   "source": [
    "# 对于公因子的个数选择一般会按照特征根大于1的标准或者累计贡献率设置一个值\n",
    "eigenvalues = 1 \n",
    "N = 0 \n",
    "for c in matrices_var[\"旋转前特征值\"]:     \n",
    "  if c >= eigenvalues:        \n",
    "    N += 1 \n",
    "  else:         \n",
    "    s = matrices_var[\"旋转前方差累计贡献率\"][N-1]         \n",
    "    print(\"\\n选择了\" + str(N) + \"个因子累计贡献率为\" + str(s)+\"\\n\")         \n",
    "    break"
   ]
  },
  {
   "cell_type": "code",
   "execution_count": 7,
   "metadata": {},
   "outputs": [
    {
     "name": "stdout",
     "output_type": "stream",
     "text": [
      "相关矩阵特征值： [4.999008e+00 9.909606e-04 5.420163e-07 1.872648e-10 1.058918e-14]\n"
     ]
    },
    {
     "data": {
      "image/png": "[encoded data removed]",
      "text/plain": [
       "<Figure size 576x468 with 1 Axes>"
      ]
     },
     "metadata": {
      "needs_background": "light"
     },
     "output_type": "display_data"
    }
   ],
   "source": [
    "import matplotlib.pyplot as plt\n",
    "\n",
    "plt.rcParams[\"font.family\"] = \"SimHei\" # 主要用来看取多少因子合适，一般是取到平滑处左右，当然还要需要结合贡献率 \n",
    "ev, v = Load_Matrix.get_eigenvalues()\n",
    "\n",
    "print('相关矩阵特征值：', ev) \n",
    "\n",
    "plt.figure(figsize=(8, 6.5))\n",
    "plt.scatter(range(1, f.shape[1] + 1), ev) \n",
    "plt.plot(range(1, f.shape[1] + 1), ev) \n",
    "plt.title('特征值和因子个数的变化') \n",
    "plt.xlabel('因子') \n",
    "plt.ylabel('特征值') \n",
    "plt.grid()\n",
    "plt.show()"
   ]
  },
  {
   "cell_type": "code",
   "execution_count": 8,
   "metadata": {},
   "outputs": [
    {
     "name": "stdout",
     "output_type": "stream",
     "text": [
      "旋转后的载荷矩阵的贡献率\n",
      "            特征值         方差贡献率   方差累计贡献率\n",
      "0  4.670806e+00  9.341611e-01  0.934161\n",
      "1  3.291936e-01  6.583871e-02  1.000000\n",
      "2  9.264920e-07  1.852984e-07  1.000000\n",
      "旋转后的成分矩阵\n",
      "[[ 9.607786e-01  2.773165e-01 -1.258227e-04]\n",
      " [ 9.643800e-01  2.645199e-01  6.380719e-04]\n",
      " [ 9.670749e-01  2.544912e-01  6.211903e-04]\n",
      " [ 9.692557e-01  2.460555e-01  3.333385e-04]\n",
      " [ 9.710771e-01  2.387661e-01 -8.082628e-05]]\n"
     ]
    },
    {
     "name": "stderr",
     "output_type": "stream",
     "text": [
      "D:\\Softwares\\anaconda3\\lib\\site-packages\\sklearn\\utils\\extmath.py:376: FutureWarning: If 'random_state' is not supplied, the current default is to use 0 as a fixed seed. This will change to  None in version 1.2 leading to non-deterministic results that better reflect nature of the randomized_svd solver. If you want to silence this warning, set 'random_state' to an integer seed or to None explicitly depending if you want your code to be deterministic or not.\n",
      "  FutureWarning,\n"
     ]
    }
   ],
   "source": [
    "# 因子旋转\n",
    "# 目的：消除原始因子之间的相关性，使得各因子具有差异化的特征\n",
    "# 使用方法：最大方差法（正交旋转）、斜交旋转（多使用前者）\n",
    "\n",
    "N = 3 # 设定因子个数\n",
    "\n",
    "Load_Matrix_rotated = FactorAnalyzer(rotation='varimax', n_factors=N, method='principal')\n",
    "Load_Matrix_rotated.fit(f)\n",
    "\n",
    "f_contribution_var_rotated = Load_Matrix_rotated.get_factor_variance() \n",
    "matrices_var_rotated = pd.DataFrame() \n",
    "matrices_var_rotated[\"特征值\"] = f_contribution_var_rotated[0] \n",
    "matrices_var_rotated[\"方差贡献率\"] = f_contribution_var_rotated[1]\n",
    "matrices_var_rotated[\"方差累计贡献率\"] = f_contribution_var_rotated[2] \n",
    "print(\"旋转后的载荷矩阵的贡献率\")\n",
    "print(matrices_var_rotated) \n",
    "print(\"旋转后的成分矩阵\") \n",
    "print(Load_Matrix_rotated.loadings_)"
   ]
  },
  {
   "cell_type": "code",
   "execution_count": 9,
   "metadata": {},
   "outputs": [
    {
     "data": {
      "image/png": "[encoded data removed]",
      "text/plain": [
       "<Figure size 360x576 with 2 Axes>"
      ]
     },
     "metadata": {
      "needs_background": "light"
     },
     "output_type": "display_data"
    }
   ],
   "source": [
    "# 热力图可视化因子成分矩阵\n",
    "\n",
    "import seaborn as sns \n",
    "\n",
    "Load_Matrix = Load_Matrix_rotated.loadings_ \n",
    "df = pd.DataFrame(np.abs(Load_Matrix))\n",
    "plt.figure(figsize=(5, 8)) \n",
    "\n",
    "ax = sns.heatmap(df, annot=True, cmap=\"BuPu\") \n",
    "ax.yaxis.set_tick_params(labelsize=15) # 设置y轴字体大小 \n",
    "plt.title(\"Factor Analysis\", fontsize=\"xx-large\") \n",
    "plt.ylabel(\"variables\", fontsize=\"xx-large\")\n",
    "plt.xlabel(\"factors\", fontsize=\"xx-large\")\n",
    "plt.show()# 显示图片"
   ]
  },
  {
   "cell_type": "code",
   "execution_count": 11,
   "metadata": {},
   "outputs": [
    {
     "name": "stdout",
     "output_type": "stream",
     "text": [
      "第一列为第一个因子得分函数的对应系数\n",
      "因子得分权重：\n",
      "     factor1    factor2     factor3\n",
      "0 -5.154541  21.083740 -724.201775\n",
      "1 -2.332031   8.692383  673.011670\n",
      "2  0.462891  -1.567383  633.626053\n",
      "3  2.845703 -10.103516   93.562436\n",
      "4  5.138672 -17.849365 -676.250320\n",
      "------------------------------\n",
      "          0         1         2      综合得分\n",
      "7  1.385273  1.420673  0.935080  1.387603\n",
      "6  1.033203  0.446464 -0.141125  0.994573\n",
      "5  0.672639 -0.322079 -0.776461  0.607148\n",
      "4  0.299052 -0.852278 -0.918983  0.223249\n",
      "3 -0.095156 -1.094676 -0.507988 -0.160963\n",
      "2 -0.524393 -0.965059  0.506343 -0.553405\n",
      "1 -1.022780 -0.285921  1.990402 -0.974266\n",
      "0 -1.747838  1.652874 -1.087268 -1.523940\n"
     ]
    }
   ],
   "source": [
    "# 计算因子得分（回归方法）（系数矩阵的逆乘以因子载荷矩阵）\n",
    "\n",
    "f_corr = np.corrcoef(f, rowvar=False)# 皮尔逊相关系数\n",
    "X1 = np.linalg.inv(f_corr)\n",
    "factor_score_weight = np.dot(X1, Load_Matrix_rotated.loadings_)\n",
    "factor_score_weight = pd.DataFrame(factor_score_weight)\n",
    "col = []\n",
    "for i in range(N):\n",
    "    col.append(\"factor\" + str(i + 1))\n",
    "factor_score_weight.columns = col\n",
    "print(\"第一列为第一个因子得分函数的对应系数\")\n",
    "print(\"因子得分权重：\\n\", factor_score_weight)\n",
    "print('-'*30)\n",
    "\n",
    "factor_score = pd.DataFrame(np.dot(np.mat(f), np.mat(factor_score_weight)))  # 指标 * 对应权重，计算出因子的分数\n",
    "\n",
    "i = 0\n",
    "factor_score[\"综合得分\"] = 0\n",
    "for factor_score_weight in matrices_var_rotated[\"方差贡献率\"]:\n",
    "    factor_score[\"综合得分\"] += factor_score_weight * factor_score[i]  # 因子贡献率 * 因子的分数 用于计算综合得分\n",
    "    i += 1\n",
    "    if i == N:\n",
    "        break\n",
    "factor_score[\"综合得分\"] = factor_score[\"综合得分\"] / matrices_var_rotated[\"方差贡献率\"].sum()  # 计算综合得分\n",
    "print(factor_score.sort_values(by=[\"综合得分\"], ascending=False))  # 排个序"
   ]
  },
  {
   "cell_type": "markdown",
   "metadata": {},
   "source": [
    "其中综合得分一般用于在对应权重后选择靠前后者综合排名靠后的数\n",
    "\n",
    "同样可以使用因子得分来对数据进行分类，在数据中把在因子得分中最高的得分因子提取出来，比如编号是527的数据得分最高的是因子1，因此为因子的特征，以此来进行数据分类。"
   ]
  }
 ],
 "metadata": {
  "interpreter": {
   "hash": "aa43cd2ccc1ff393b971fd4a3432410e7b10bb4b6c743baaacc4a3f13fd072bf"
  },
  "kernelspec": {
   "display_name": "Python 3.7.13 ('base')",
   "language": "python",
   "name": "python3"
  },
  "language_info": {
   "codemirror_mode": {
    "name": "ipython",
    "version": 3
   },
   "file_extension": ".py",
   "mimetype": "text/x-python",
   "name": "python",
   "nbconvert_exporter": "python",
   "pygments_lexer": "ipython3",
   "version": "3.7.13"
  },
  "orig_nbformat": 4
 },
 "nbformat": 4,
 "nbformat_minor": 2
}
