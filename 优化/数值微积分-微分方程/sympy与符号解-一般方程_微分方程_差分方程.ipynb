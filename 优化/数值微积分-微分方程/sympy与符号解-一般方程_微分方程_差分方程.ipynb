{
 "cells": [
  {
   "cell_type": "markdown",
   "metadata": {},
   "source": [
    "## sympy与方程求根\n",
    "\n",
    "- solve：返回值list，求解等式\n",
    "- solveset：返回值为集合，求解等式/不等式"
   ]
  },
  {
   "cell_type": "code",
   "execution_count": 6,
   "metadata": {},
   "outputs": [
    {
     "name": "stdout",
     "output_type": "stream",
     "text": [
      "{1, -1/2 - sqrt(3)*I/2, -1/2 + sqrt(3)*I/2}\n",
      "<class 'sympy.sets.sets.FiniteSet'>\n"
     ]
    },
    {
     "data": {
      "text/latex": [
       "$\\displaystyle - \\frac{1}{2} + \\frac{\\sqrt{3} i}{2}$"
      ],
      "text/plain": [
       "-1/2 + sqrt(3)*I/2"
      ]
     },
     "execution_count": 6,
     "metadata": {},
     "output_type": "execute_result"
    }
   ],
   "source": [
    "from sympy import Eq, solveset, solve\n",
    "from sympy.abc import x\n",
    "\n",
    "res = solveset(Eq(x**3, 1), x)\n",
    "print(res, type(res), sep='\\n')\n",
    "res.args[2] # 取出res(set)中的元素"
   ]
  },
  {
   "cell_type": "code",
   "execution_count": 7,
   "metadata": {},
   "outputs": [
    {
     "name": "stdout",
     "output_type": "stream",
     "text": [
      "[1, -1/2 - sqrt(3)*I/2, -1/2 + sqrt(3)*I/2]\n",
      "<class 'list'>\n"
     ]
    }
   ],
   "source": [
    "from sympy import Eq, solveset, solve\n",
    "from sympy.abc import x\n",
    "\n",
    "res = solve(Eq(x**3, 1), x)\n",
    "print(res, type(res), sep='\\n')"
   ]
  },
  {
   "cell_type": "code",
   "execution_count": 8,
   "metadata": {},
   "outputs": [
    {
     "data": {
      "text/latex": [
       "$\\displaystyle \\left\\{2 n \\pi + \\frac{\\pi}{2}\\; \\middle|\\; n \\in \\mathbb{Z}\\right\\}$"
      ],
      "text/plain": [
       "ImageSet(Lambda(_n, 2*_n*pi + pi/2), Integers)"
      ]
     },
     "execution_count": 8,
     "metadata": {},
     "output_type": "execute_result"
    }
   ],
   "source": [
    "from sympy import *\n",
    "from sympy.abc import x\n",
    "\n",
    "solveset(sin(x) - 1, x, domain=S.Reals)"
   ]
  },
  {
   "cell_type": "code",
   "execution_count": 9,
   "metadata": {},
   "outputs": [
    {
     "name": "stdout",
     "output_type": "stream",
     "text": [
      "{0, 3}\n",
      "{3: 2, 0: 1}\n"
     ]
    }
   ],
   "source": [
    "from sympy import *\n",
    "from sympy.abc import x\n",
    "\n",
    "print(solveset(x**3 - 6*x**2 + 9*x, x))\n",
    "print(roots(x**3 - 6*x**2 + 9*x, x))"
   ]
  },
  {
   "cell_type": "markdown",
   "metadata": {},
   "source": [
    "## sympy与微分方程\n",
    "\n",
    "- ODE: https://docs.sympy.org/latest/modules/solvers/ode.html?highlight=dsolve\n",
    "- PDE: https://docs.sympy.org/latest/modules/solvers/pde.html?highlight=pdsolve"
   ]
  },
  {
   "cell_type": "code",
   "execution_count": 10,
   "metadata": {},
   "outputs": [
    {
     "name": "stdout",
     "output_type": "stream",
     "text": [
      "Eq(f(x), (3*x/2 - 1/2)*exp(x) + cos(x)/2)\n",
      "f(x)\n",
      "(3*x/2 - 1/2)*exp(x) + cos(x)/2\n"
     ]
    },
    {
     "data": {
      "text/latex": [
       "$\\displaystyle f{\\left(x \\right)} = \\left(\\frac{3 x}{2} - \\frac{1}{2}\\right) e^{x} + \\frac{\\cos{\\left(x \\right)}}{2}$"
      ],
      "text/plain": [
       "Eq(f(x), (3*x/2 - 1/2)*exp(x) + cos(x)/2)"
      ]
     },
     "execution_count": 10,
     "metadata": {},
     "output_type": "execute_result"
    }
   ],
   "source": [
    "from sympy import dsolve, Function, Eq, sin\n",
    "from sympy.abc import x\n",
    "\n",
    "f = Function('f')\n",
    "diffeq = Eq(f(x).diff(x, 2) - 2*f(x).diff(x) + f(x), sin(x))\n",
    "cons = {f(0): 0, f(x).diff(x).subs(x, 0): 1}\n",
    "res = dsolve(diffeq, f(x), ics=cons)\n",
    "print(res, res.args[0], res.args[1], sep='\\n')\n",
    "res"
   ]
  },
  {
   "cell_type": "code",
   "execution_count": 11,
   "metadata": {},
   "outputs": [
    {
     "data": {
      "text/plain": [
       "(-sqrt(C1 - t**2), sqrt(C1 - t**2))"
      ]
     },
     "execution_count": 11,
     "metadata": {},
     "output_type": "execute_result"
    }
   ],
   "source": [
    "from sympy import dsolve, Function, Eq, sin\n",
    "from sympy.abc import t\n",
    "\n",
    "x = Function('x')\n",
    "diffeq = Eq(2*x(t)*x(t).diff(t) + 2*t, 0)\n",
    "res = dsolve(diffeq, x(t))\n",
    "res[0].args[1], res[1].args[1]"
   ]
  },
  {
   "cell_type": "code",
   "execution_count": 12,
   "metadata": {},
   "outputs": [
    {
     "data": {
      "text/latex": [
       "$\\displaystyle f{\\left(x,y \\right)} = F{\\left(3 x - 2 y \\right)} e^{- \\frac{2 x}{13} - \\frac{3 y}{13}}$"
      ],
      "text/plain": [
       "Eq(f(x, y), F(3*x - 2*y)*exp(-2*x/13 - 3*y/13))"
      ]
     },
     "execution_count": 12,
     "metadata": {},
     "output_type": "execute_result"
    }
   ],
   "source": [
    "from sympy.solvers.pde import pdsolve\n",
    "from sympy import Function, Eq, Derivative\n",
    "from sympy.abc import x, y\n",
    "\n",
    "f = Function('f')(x, y)\n",
    "# fx = f.diff(x)\n",
    "# fy = f.diff(y)\n",
    "fx = Derivative(f, x)\n",
    "fy = Derivative(f, y)\n",
    "eq = Eq(1 + (2*(fx/f)) + (3*(fy/f)), 0)\n",
    "res = pdsolve(eq)\n",
    "res"
   ]
  },
  {
   "cell_type": "markdown",
   "metadata": {},
   "source": [
    "## sympy与差分方程\n",
    "\n",
    "- 常系数线性齐次差分方程\n",
    "- 常系数非齐次线性差分方程"
   ]
  },
  {
   "cell_type": "code",
   "execution_count": 13,
   "metadata": {},
   "outputs": [
    {
     "data": {
      "text/latex": [
       "$\\displaystyle - \\frac{\\sqrt{5} \\left(\\frac{1}{2} - \\frac{\\sqrt{5}}{2}\\right)^{n}}{5} + \\frac{\\sqrt{5} \\left(\\frac{1}{2} + \\frac{\\sqrt{5}}{2}\\right)^{n}}{5}$"
      ],
      "text/plain": [
       "-sqrt(5)*(1/2 - sqrt(5)/2)**n/5 + sqrt(5)*(1/2 + sqrt(5)/2)**n/5"
      ]
     },
     "execution_count": 13,
     "metadata": {},
     "output_type": "execute_result"
    }
   ],
   "source": [
    "from sympy import Function, rsolve\n",
    "from sympy.abc import n\n",
    "\n",
    "y = Function('y')\n",
    "f = y(n+2) - y(n+1) - y(n)\n",
    "res = rsolve(f, y(n), {y(1): 1, y(2): 1})\n",
    "# res.simplify()\n",
    "res"
   ]
  },
  {
   "cell_type": "code",
   "execution_count": 14,
   "metadata": {},
   "outputs": [
    {
     "name": "stdout",
     "output_type": "stream",
     "text": [
      "C0 + k**2 + 2*k + 3/4\n",
      "k**2 + 2*k - 2\n"
     ]
    }
   ],
   "source": [
    "from sympy import Function, rsolve\n",
    "from sympy.abc import k\n",
    "\n",
    "x = Function('x')\n",
    "f = x(k+1) - x(k) - 3 - 2*k\n",
    "res = rsolve(f, x(k)).simplify()\n",
    "print(res)\n",
    "res = rsolve(f, x(k), {x(1): 1}).simplify()\n",
    "print(res)"
   ]
  }
 ],
 "metadata": {
  "interpreter": {
   "hash": "aa43cd2ccc1ff393b971fd4a3432410e7b10bb4b6c743baaacc4a3f13fd072bf"
  },
  "kernelspec": {
   "display_name": "Python 3 (ipykernel)",
   "language": "python",
   "name": "python3"
  },
  "language_info": {
   "codemirror_mode": {
    "name": "ipython",
    "version": 3
   },
   "file_extension": ".py",
   "mimetype": "text/x-python",
   "name": "python",
   "nbconvert_exporter": "python",
   "pygments_lexer": "ipython3",
   "version": "3.7.13"
  }
 },
 "nbformat": 4,
 "nbformat_minor": 2
}
