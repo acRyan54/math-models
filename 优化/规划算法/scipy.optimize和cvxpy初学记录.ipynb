{
 "cells": [
  {
   "cell_type": "markdown",
   "metadata": {},
   "source": [
    "## scipy.optimize中的非线性规划算法\n",
    "\n",
    "单变量无约束优化：optimize.minimize_scaler()\n",
    "- 'brute'\n",
    "- 'bounded': 可加范围\n",
    "<!-- 举任意例子 -->\n",
    "\n",
    "\n",
    "多变量局部优化：optimize.minimize()\n",
    "- 有jac, hess可以写上去\n",
    "    - 'Newton-CG'\n",
    "    - 'BFGS'\n",
    "    - 'L-BFGS-B'\n",
    "- constraint用list，规范写\n",
    "    - 'SLSQP'\n",
    "- 可以加上bounds\n",
    "    - 'Nelder-Mead': 不依赖导数\n",
    "<!-- 举rosenbrock例子 -->\n",
    "\n",
    "\n",
    "多变量全局优化：\n",
    "- optimize.shgo: 单纯同调全局优化\n",
    "- optimize.dual_annealing: 模拟退火，避免局部最优解\n",
    "- optimize.differential_evolution: 差分进化\n",
    "- optimize.basinhopping: 盆地跳跃.\n",
    "<!-- 举eggholder例子 -->\n",
    "\n",
    "\n",
    "https://docs.scipy.org/doc/scipy/reference/generated/scipy.optimize.shgo.html?highlight=shgo#scipy.optimize.shgo\n",
    "\n",
    "https://docs.scipy.org/doc/scipy/tutorial/optimize.html#global-optimization\n",
    "\n",
    "\n",
    "## cvxpy中的优化算法\n",
    "\n",
    "凸优化问题\n",
    "最大最小问题\n",
    "混合整数规划问题"
   ]
  },
  {
   "cell_type": "markdown",
   "metadata": {},
   "source": [
    "prob.status, prob.value\n",
    "\n",
    "curvature、sign计算规则\n",
    "\n",
    "DCP规则:记忆为保持单纯形\n",
    "\n",
    "*,@,cp.multiply()\n",
    "\n",
    "**==cp.power() 针对元素\n",
    "\n",
    "cp.sum()只针对矩阵，lambda相关函数需要S\n",
    "\n",
    "cp.sum(axis=0,1)中的keepdims=False默认squeeze\n",
    "\n",
    "cp.conv(x)卷积，cp.vec(X)按列展成向量，cp.reshape(X, (m,n), order='C','F')\n",
    "\n",
    "DGP: prob.solve(gp=True) 把乘法看成log-long affine\n",
    "\n",
    "DQCP: quasiconvex定义域和sublevel sets为凸集; 规则加入quasiconvex<=constant, quasiconcave>=constant; prob.solve(qcp=True); 取整，标量乘除法；prob.solve(qcp=True, low=, high=); 有时候会error,可以考虑更换求解器\n",
    "\n",
    "求解器cp.installed_solvers()    ['CVXOPT', 'ECOS', 'ECOS_BB', 'GLPK', 'GLPK_MI', 'OSQP', 'SCIPY', 'SCS']\n",
    "\n",
    "半正定 x=cp.Variable((3, 3), PSD=True)\n",
    "\n",
    "01规划 boolean=True, 混合整数规划 integer=True\n",
    "\n"
   ]
  },
  {
   "cell_type": "markdown",
   "metadata": {},
   "source": [
    "关于求解器\n",
    "\n",
    "- 整数规划\n",
    "\n",
    "The preferred open source mixed-integer solvers in CVXPY are GLPK_MI, CBC and SCIP. \n",
    "\n",
    "SCIP supports nonlinear models, but **GLPK_MI** and CBC do not.\n",
    "\n",
    "CVXPY comes with ECOS_BB – an open source mixed-integer nonlinear solver – by default. However ECOS_BB will not be called automatically; you must explicitly call prob.solve(solver='ECOS_BB') if you want to use it (changed in CVXPY 1.1.6). This policy stems from the fact that there are recurring correctness issues with ECOS_BB. If you rely on this solver for some application then you need to be aware of the increased risks that come with using it. If you need to use an open-source mixed-integer nonlinear solver from CVXPY, then we recommend you install SCIP.\n",
    "\n",
    "- 参数\n",
    "\n",
    "solve(solver=None, verbose=False, gp=False, qcp=False, requries_grad=False, enforce_dpp=False, **kwargs)\n",
    "\n",
    "Gradients are only supported for DCP and DGP problems, not quasiconvex problems. When computing gradients (i.e., when this argument is True), the problem must satisfy the DPP rules.\n",
    "\n",
    "- 默认求解器\n",
    "\n",
    "By default CVXPY calls the solver most specialized to the problem type. For example, ECOS is called for SOCPs. SCS can handle all problems (except mixed-integer programs). If the problem is a QP, CVXPY will use OSQP.\n",
    "\n",
    "\n",
    "![](https://cdn.jsdelivr.net/gh/acryan54/images@main/pic/202207230228877.png)\n",
    "LP线性规划 QP二次规划 SOCP二阶锥规划 SDP半正定规划 EXP POW MIP混合整数规划"
   ]
  },
  {
   "cell_type": "code",
   "execution_count": 59,
   "metadata": {},
   "outputs": [
    {
     "data": {
      "text/plain": [
       "['CVXOPT', 'ECOS', 'ECOS_BB', 'GLPK', 'GLPK_MI', 'OSQP', 'SCIPY', 'SCS']"
      ]
     },
     "execution_count": 59,
     "metadata": {},
     "output_type": "execute_result"
    }
   ],
   "source": [
    "import numpy as np\n",
    "import cvxpy as cp\n",
    "cp.installed_solvers()"
   ]
  },
  {
   "cell_type": "code",
   "execution_count": 57,
   "metadata": {},
   "outputs": [
    {
     "data": {
      "text/plain": [
       "'QUASICONVEX'"
      ]
     },
     "execution_count": 57,
     "metadata": {},
     "output_type": "execute_result"
    }
   ],
   "source": [
    "import numpy as np\n",
    "import cvxpy as cp\n",
    "\n",
    "x = cp.Variable()\n",
    "a = cp.Parameter(nonneg=True)\n",
    "# x**3\n",
    "# cp.sqrt(1 + x**2).curvature\n",
    "# cp.norm2(cp.hstack([1, x])).curvature\n",
    "# cp.sqrt(x).curvature\n",
    "# x.is_concave()\n"
   ]
  },
  {
   "cell_type": "code",
   "execution_count": 37,
   "metadata": {},
   "outputs": [
    {
     "name": "stdout",
     "output_type": "stream",
     "text": [
      "prob1 is DCP: True\n",
      "prob2 is DCP: True\n",
      "prob3 is DCP: False\n",
      "Maximize(square(x)) is DCP: False\n",
      "prob4 is DCP: False\n",
      "sqrt(x) <= 2 is DCP: False\n"
     ]
    }
   ],
   "source": [
    "x = cp.Variable()\n",
    "y = cp.Variable()\n",
    "\n",
    "# DCP problems.\n",
    "prob1 = cp.Problem(cp.Minimize(cp.square(x - y)),\n",
    "                    [x + y >= 0])\n",
    "prob2 = cp.Problem(cp.Maximize(cp.sqrt(x - y)),\n",
    "                [2*x - 3 == y,\n",
    "                 cp.square(x) <= 2])\n",
    "\n",
    "print(\"prob1 is DCP:\", prob1.is_dcp())\n",
    "print(\"prob2 is DCP:\", prob2.is_dcp())\n",
    "\n",
    "# Non-DCP problems.\n",
    "\n",
    "# A non-DCP objective.\n",
    "obj = cp.Maximize(cp.square(x))\n",
    "prob3 = cp.Problem(obj)\n",
    "\n",
    "print(\"prob3 is DCP:\", prob3.is_dcp())\n",
    "print(\"Maximize(square(x)) is DCP:\", obj.is_dcp())\n",
    "\n",
    "# A non-DCP constraint.\n",
    "prob4 = cp.Problem(cp.Minimize(cp.square(x)),\n",
    "                    [cp.sqrt(x) <= 2])\n",
    "\n",
    "print(\"prob4 is DCP:\", prob4.is_dcp())\n",
    "print(\"sqrt(x) <= 2 is DCP:\", (cp.sqrt(x) <= 2).is_dcp())"
   ]
  },
  {
   "cell_type": "code",
   "execution_count": 47,
   "metadata": {},
   "outputs": [
    {
     "name": "stdout",
     "output_type": "stream",
     "text": [
      "0 dimensional ()\n",
      "1 dimensional (1,)\n"
     ]
    }
   ],
   "source": [
    "x = cp.Variable(5)\n",
    "print(\"0 dimensional\", x[0].shape)\n",
    "print(\"1 dimensional\", x[0:1].shape)"
   ]
  },
  {
   "cell_type": "code",
   "execution_count": 48,
   "metadata": {},
   "outputs": [
    {
     "data": {
      "text/plain": [
       "[1, 2, 3, 4, 5]"
      ]
     },
     "execution_count": 48,
     "metadata": {},
     "output_type": "execute_result"
    }
   ],
   "source": []
  },
  {
   "cell_type": "code",
   "execution_count": 50,
   "metadata": {},
   "outputs": [],
   "source": [
    "X = cp.Variable((5, 4))\n",
    "col_sums = cp.sum(X, axis=0, keepdims=True) # Has size (1, 4)\n",
    "col_sums = cp.sum(X, axis=0) # Has size (4,)\n",
    "row_sums = cp.sum(X, axis=1) # Has size (5,)"
   ]
  },
  {
   "cell_type": "code",
   "execution_count": 55,
   "metadata": {},
   "outputs": [
    {
     "ename": "DCPError",
     "evalue": "Problem does not follow DCP rules. Specifically:\nThe objective is not DCP. Its following subexpressions are not:\nvar385 @ var386\nHowever, the problem does follow DGP rules. Consider calling solve() with `gp=True`.",
     "output_type": "error",
     "traceback": [
      "\u001b[1;31m---------------------------------------------------------------------------\u001b[0m",
      "\u001b[1;31mDCPError\u001b[0m                                  Traceback (most recent call last)",
      "\u001b[1;32m<ipython-input-55-cfd0355bc232>\u001b[0m in \u001b[0;36m<module>\u001b[1;34m()\u001b[0m\n\u001b[0;32m     10\u001b[0m   4 * x * y * z + 2 * x * z <= 10, x <= 2*y, y <= 2*x, z >= 1]\n\u001b[0;32m     11\u001b[0m \u001b[0mproblem\u001b[0m \u001b[1;33m=\u001b[0m \u001b[0mcp\u001b[0m\u001b[1;33m.\u001b[0m\u001b[0mProblem\u001b[0m\u001b[1;33m(\u001b[0m\u001b[0mcp\u001b[0m\u001b[1;33m.\u001b[0m\u001b[0mMaximize\u001b[0m\u001b[1;33m(\u001b[0m\u001b[0mobjective_fn\u001b[0m\u001b[1;33m)\u001b[0m\u001b[1;33m,\u001b[0m \u001b[0mconstraints\u001b[0m\u001b[1;33m)\u001b[0m\u001b[1;33m\u001b[0m\u001b[0m\n\u001b[1;32m---> 12\u001b[1;33m \u001b[0mproblem\u001b[0m\u001b[1;33m.\u001b[0m\u001b[0msolve\u001b[0m\u001b[1;33m(\u001b[0m\u001b[1;33m)\u001b[0m\u001b[1;33m\u001b[0m\u001b[0m\n\u001b[0m\u001b[0;32m     13\u001b[0m \u001b[0mprint\u001b[0m\u001b[1;33m(\u001b[0m\u001b[1;34m\"Optimal value: \"\u001b[0m\u001b[1;33m,\u001b[0m \u001b[0mproblem\u001b[0m\u001b[1;33m.\u001b[0m\u001b[0mvalue\u001b[0m\u001b[1;33m)\u001b[0m\u001b[1;33m\u001b[0m\u001b[0m\n\u001b[0;32m     14\u001b[0m \u001b[0mprint\u001b[0m\u001b[1;33m(\u001b[0m\u001b[1;34m\"x: \"\u001b[0m\u001b[1;33m,\u001b[0m \u001b[0mx\u001b[0m\u001b[1;33m.\u001b[0m\u001b[0mvalue\u001b[0m\u001b[1;33m)\u001b[0m\u001b[1;33m\u001b[0m\u001b[0m\n",
      "\u001b[1;32mD:\\Softwares\\anaconda3\\lib\\site-packages\\cvxpy\\problems\\problem.py\u001b[0m in \u001b[0;36msolve\u001b[1;34m(self, *args, **kwargs)\u001b[0m\n\u001b[0;32m    479\u001b[0m         \u001b[1;32melse\u001b[0m\u001b[1;33m:\u001b[0m\u001b[1;33m\u001b[0m\u001b[0m\n\u001b[0;32m    480\u001b[0m             \u001b[0msolve_func\u001b[0m \u001b[1;33m=\u001b[0m \u001b[0mProblem\u001b[0m\u001b[1;33m.\u001b[0m\u001b[0m_solve\u001b[0m\u001b[1;33m\u001b[0m\u001b[0m\n\u001b[1;32m--> 481\u001b[1;33m         \u001b[1;32mreturn\u001b[0m \u001b[0msolve_func\u001b[0m\u001b[1;33m(\u001b[0m\u001b[0mself\u001b[0m\u001b[1;33m,\u001b[0m \u001b[1;33m*\u001b[0m\u001b[0margs\u001b[0m\u001b[1;33m,\u001b[0m \u001b[1;33m**\u001b[0m\u001b[0mkwargs\u001b[0m\u001b[1;33m)\u001b[0m\u001b[1;33m\u001b[0m\u001b[0m\n\u001b[0m\u001b[0;32m    482\u001b[0m \u001b[1;33m\u001b[0m\u001b[0m\n\u001b[0;32m    483\u001b[0m     \u001b[1;33m@\u001b[0m\u001b[0mclassmethod\u001b[0m\u001b[1;33m\u001b[0m\u001b[0m\n",
      "\u001b[1;32mD:\\Softwares\\anaconda3\\lib\\site-packages\\cvxpy\\problems\\problem.py\u001b[0m in \u001b[0;36m_solve\u001b[1;34m(self, solver, warm_start, verbose, gp, qcp, requires_grad, enforce_dpp, ignore_dpp, **kwargs)\u001b[0m\n\u001b[0;32m   1006\u001b[0m \u001b[1;33m\u001b[0m\u001b[0m\n\u001b[0;32m   1007\u001b[0m         data, solving_chain, inverse_data = self.get_problem_data(\n\u001b[1;32m-> 1008\u001b[1;33m             solver, gp, enforce_dpp, ignore_dpp, verbose)\n\u001b[0m\u001b[0;32m   1009\u001b[0m \u001b[1;33m\u001b[0m\u001b[0m\n\u001b[0;32m   1010\u001b[0m         \u001b[1;32mif\u001b[0m \u001b[0mverbose\u001b[0m\u001b[1;33m:\u001b[0m\u001b[1;33m\u001b[0m\u001b[0m\n",
      "\u001b[1;32mD:\\Softwares\\anaconda3\\lib\\site-packages\\cvxpy\\problems\\problem.py\u001b[0m in \u001b[0;36mget_problem_data\u001b[1;34m(self, solver, gp, enforce_dpp, ignore_dpp, verbose)\u001b[0m\n\u001b[0;32m    608\u001b[0m                 \u001b[0msolver\u001b[0m\u001b[1;33m=\u001b[0m\u001b[0msolver\u001b[0m\u001b[1;33m,\u001b[0m \u001b[0mgp\u001b[0m\u001b[1;33m=\u001b[0m\u001b[0mgp\u001b[0m\u001b[1;33m,\u001b[0m\u001b[1;33m\u001b[0m\u001b[0m\n\u001b[0;32m    609\u001b[0m                 \u001b[0menforce_dpp\u001b[0m\u001b[1;33m=\u001b[0m\u001b[0menforce_dpp\u001b[0m\u001b[1;33m,\u001b[0m\u001b[1;33m\u001b[0m\u001b[0m\n\u001b[1;32m--> 610\u001b[1;33m                 ignore_dpp=ignore_dpp)\n\u001b[0m\u001b[0;32m    611\u001b[0m             \u001b[0mself\u001b[0m\u001b[1;33m.\u001b[0m\u001b[0m_cache\u001b[0m\u001b[1;33m.\u001b[0m\u001b[0mkey\u001b[0m \u001b[1;33m=\u001b[0m \u001b[0mkey\u001b[0m\u001b[1;33m\u001b[0m\u001b[0m\n\u001b[0;32m    612\u001b[0m             \u001b[0mself\u001b[0m\u001b[1;33m.\u001b[0m\u001b[0m_cache\u001b[0m\u001b[1;33m.\u001b[0m\u001b[0msolving_chain\u001b[0m \u001b[1;33m=\u001b[0m \u001b[0msolving_chain\u001b[0m\u001b[1;33m\u001b[0m\u001b[0m\n",
      "\u001b[1;32mD:\\Softwares\\anaconda3\\lib\\site-packages\\cvxpy\\problems\\problem.py\u001b[0m in \u001b[0;36m_construct_chain\u001b[1;34m(self, solver, gp, enforce_dpp, ignore_dpp)\u001b[0m\n\u001b[0;32m    845\u001b[0m         return construct_solving_chain(self, candidate_solvers, gp=gp,\n\u001b[0;32m    846\u001b[0m                                        \u001b[0menforce_dpp\u001b[0m\u001b[1;33m=\u001b[0m\u001b[0menforce_dpp\u001b[0m\u001b[1;33m,\u001b[0m\u001b[1;33m\u001b[0m\u001b[0m\n\u001b[1;32m--> 847\u001b[1;33m                                        ignore_dpp=ignore_dpp)\n\u001b[0m\u001b[0;32m    848\u001b[0m \u001b[1;33m\u001b[0m\u001b[0m\n\u001b[0;32m    849\u001b[0m     \u001b[1;33m@\u001b[0m\u001b[0mstaticmethod\u001b[0m\u001b[1;33m\u001b[0m\u001b[0m\n",
      "\u001b[1;32mD:\\Softwares\\anaconda3\\lib\\site-packages\\cvxpy\\reductions\\solvers\\solving_chain.py\u001b[0m in \u001b[0;36mconstruct_solving_chain\u001b[1;34m(problem, candidates, gp, enforce_dpp, ignore_dpp)\u001b[0m\n\u001b[0;32m    160\u001b[0m     \u001b[1;32mif\u001b[0m \u001b[0mlen\u001b[0m\u001b[1;33m(\u001b[0m\u001b[0mproblem\u001b[0m\u001b[1;33m.\u001b[0m\u001b[0mvariables\u001b[0m\u001b[1;33m(\u001b[0m\u001b[1;33m)\u001b[0m\u001b[1;33m)\u001b[0m \u001b[1;33m==\u001b[0m \u001b[1;36m0\u001b[0m\u001b[1;33m:\u001b[0m\u001b[1;33m\u001b[0m\u001b[0m\n\u001b[0;32m    161\u001b[0m         \u001b[1;32mreturn\u001b[0m \u001b[0mSolvingChain\u001b[0m\u001b[1;33m(\u001b[0m\u001b[0mreductions\u001b[0m\u001b[1;33m=\u001b[0m\u001b[1;33m[\u001b[0m\u001b[0mConstantSolver\u001b[0m\u001b[1;33m(\u001b[0m\u001b[1;33m)\u001b[0m\u001b[1;33m]\u001b[0m\u001b[1;33m)\u001b[0m\u001b[1;33m\u001b[0m\u001b[0m\n\u001b[1;32m--> 162\u001b[1;33m     \u001b[0mreductions\u001b[0m \u001b[1;33m=\u001b[0m \u001b[0m_reductions_for_problem_class\u001b[0m\u001b[1;33m(\u001b[0m\u001b[0mproblem\u001b[0m\u001b[1;33m,\u001b[0m \u001b[0mcandidates\u001b[0m\u001b[1;33m,\u001b[0m \u001b[0mgp\u001b[0m\u001b[1;33m)\u001b[0m\u001b[1;33m\u001b[0m\u001b[0m\n\u001b[0m\u001b[0;32m    163\u001b[0m \u001b[1;33m\u001b[0m\u001b[0m\n\u001b[0;32m    164\u001b[0m     \u001b[1;31m# Process DPP status of the problem.\u001b[0m\u001b[1;33m\u001b[0m\u001b[1;33m\u001b[0m\u001b[0m\n",
      "\u001b[1;32mD:\\Softwares\\anaconda3\\lib\\site-packages\\cvxpy\\reductions\\solvers\\solving_chain.py\u001b[0m in \u001b[0;36m_reductions_for_problem_class\u001b[1;34m(problem, candidates, gp)\u001b[0m\n\u001b[0;32m     93\u001b[0m                        \"Consider calling solve() with `qcp=True`.\")\n\u001b[0;32m     94\u001b[0m         raise DCPError(\n\u001b[1;32m---> 95\u001b[1;33m             \"Problem does not follow DCP rules. Specifically:\\n\" + append)\n\u001b[0m\u001b[0;32m     96\u001b[0m     \u001b[1;32melif\u001b[0m \u001b[0mgp\u001b[0m \u001b[1;32mand\u001b[0m \u001b[1;32mnot\u001b[0m \u001b[0mproblem\u001b[0m\u001b[1;33m.\u001b[0m\u001b[0mis_dgp\u001b[0m\u001b[1;33m(\u001b[0m\u001b[1;33m)\u001b[0m\u001b[1;33m:\u001b[0m\u001b[1;33m\u001b[0m\u001b[0m\n\u001b[0;32m     97\u001b[0m         \u001b[0mappend\u001b[0m \u001b[1;33m=\u001b[0m \u001b[0mbuild_non_disciplined_error_msg\u001b[0m\u001b[1;33m(\u001b[0m\u001b[0mproblem\u001b[0m\u001b[1;33m,\u001b[0m \u001b[1;34m'DGP'\u001b[0m\u001b[1;33m)\u001b[0m\u001b[1;33m\u001b[0m\u001b[0m\n",
      "\u001b[1;31mDCPError\u001b[0m: Problem does not follow DCP rules. Specifically:\nThe objective is not DCP. Its following subexpressions are not:\nvar385 @ var386\nHowever, the problem does follow DGP rules. Consider calling solve() with `gp=True`."
     ]
    }
   ],
   "source": [
    "import cvxpy as cp\n",
    "\n",
    "# DGP requires Variables to be declared positive via `pos=True`.\n",
    "x = cp.Variable(pos=True)\n",
    "y = cp.Variable(pos=True)\n",
    "z = cp.Variable(pos=True)\n",
    "\n",
    "objective_fn = x * y * z\n",
    "constraints = [\n",
    "  4 * x * y * z + 2 * x * z <= 10, x <= 2*y, y <= 2*x, z >= 1]\n",
    "problem = cp.Problem(cp.Maximize(objective_fn), constraints)\n",
    "problem.solve()\n",
    "print(\"Optimal value: \", problem.value)\n",
    "print(\"x: \", x.value)\n",
    "print(\"y: \", y.value)\n",
    "print(\"z: \", z.value)"
   ]
  },
  {
   "cell_type": "code",
   "execution_count": 58,
   "metadata": {},
   "outputs": [
    {
     "data": {
      "text/plain": [
       "['CVXOPT', 'ECOS', 'ECOS_BB', 'GLPK', 'GLPK_MI', 'OSQP', 'SCIPY', 'SCS']"
      ]
     },
     "execution_count": 58,
     "metadata": {},
     "output_type": "execute_result"
    }
   ],
   "source": [
    "cp.installed_solvers()"
   ]
  }
 ],
 "metadata": {
  "interpreter": {
   "hash": "aa43cd2ccc1ff393b971fd4a3432410e7b10bb4b6c743baaacc4a3f13fd072bf"
  },
  "kernelspec": {
   "display_name": "Python 3.7.0 ('base')",
   "language": "python",
   "name": "python3"
  },
  "language_info": {
   "name": "python",
   "version": "3.7.0"
  },
  "orig_nbformat": 4
 },
 "nbformat": 4,
 "nbformat_minor": 2
}
