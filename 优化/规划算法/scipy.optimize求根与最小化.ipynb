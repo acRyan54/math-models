{
 "cells": [
  {
   "cell_type": "markdown",
   "metadata": {},
   "source": [
    "## 线性规划\n",
    "\n",
    "$$\n",
    "\\begin{aligned}\n",
    "&\\max \\quad z = x_1 - 2x_2 - 3x_3,\\\\\n",
    "&s.t. \\quad\n",
    "\\begin{cases}\n",
    "-2x_1 + x_2 + x_3 \\leq 9,\\\\\n",
    "-3x_1 + x_2 + 2x_3 \\geq 4,\\\\\n",
    "4x_1 - 2x_2 - x_3 = -6,\\\\\n",
    "x_1 \\geq -10, x_2 \\geq 0, x_3\\text{取值无约束}.\n",
    "\\end{cases}\n",
    "\\end{aligned}\n",
    "$$\n",
    "\n",
    "书P179"
   ]
  },
  {
   "cell_type": "code",
   "execution_count": 1,
   "metadata": {},
   "outputs": [
    {
     "data": {
      "text/plain": [
       "     con: array([2.38733922e-09])\n",
       "     fun: -0.4000000006525579\n",
       " message: 'Optimization terminated successfully.'\n",
       "     nit: 4\n",
       "   slack: array([6.20000000e+00, 1.71777259e-09])\n",
       "  status: 0\n",
       " success: True\n",
       "       x: array([-1.60000000e+00,  8.29738643e-11, -4.00000000e-01])"
      ]
     },
     "execution_count": 1,
     "metadata": {},
     "output_type": "execute_result"
    }
   ],
   "source": [
    "import numpy as np\n",
    "from scipy.optimize import linprog\n",
    "\n",
    "c = np.array([1, -2, -3])\n",
    "A = [[-2, 1, 1],\n",
    "    [3, -1, -2]]\n",
    "b = [9, -4]\n",
    "A_eq = [[4, -2, -1]]\n",
    "b_eq = [-6]\n",
    "bnds = [[-10, None],\n",
    "        [0, None],\n",
    "        [None, None]]\n",
    "\n",
    "res = linprog(-c, A, b, A_eq, b_eq, bounds=bnds)\n",
    "res.fun *= -1\n",
    "res"
   ]
  },
  {
   "cell_type": "code",
   "execution_count": 2,
   "metadata": {},
   "outputs": [
    {
     "name": "stdout",
     "output_type": "stream",
     "text": [
      "-0.3999999999508941\n",
      "[-1.60000000e+00 -2.91490741e-11 -4.00000000e-01]\n"
     ]
    }
   ],
   "source": [
    "import numpy as np\n",
    "import cvxpy as cp \n",
    "\n",
    "c = np.array([1, -2, -3])\n",
    "A = np.array([[-2, 1, 1],\n",
    "              [3, -1, -2]])\n",
    "b = np.array([9, -4])\n",
    "A_eq = np.array([[4, -2, -1]])\n",
    "b_eq = np.array([-6])\n",
    "\n",
    "x = cp.Variable(3)\n",
    "obj = cp.Maximize(c @ x)\n",
    "cons = [A @ x <= b, A_eq @ x == b_eq,\n",
    "        x[0] >= -10, x[1] >= 0]\n",
    "prob = cp.Problem(obj, cons)\n",
    "prob.solve()\n",
    "\n",
    "print(prob.value, x.value, sep='\\n')"
   ]
  },
  {
   "cell_type": "markdown",
   "metadata": {},
   "source": [
    "## 整数规划\n",
    "\n",
    "$$\n",
    "\\begin{aligned}\n",
    "&\\min \\quad z = 40x_1 + 90x_2,\\\\\n",
    "&s.t. \\quad\n",
    "\\begin{cases}\n",
    "9x_1 + 7x_2 \\leq 56,\\\\\n",
    "7x_1 + 20x_2 \\geq 70,\\\\\n",
    "x_1, x_2 \\geq 0 \\text{为整数}.\n",
    "\\end{cases}\n",
    "\\end{aligned}\n",
    "$$\n",
    "\n",
    "书P196"
   ]
  },
  {
   "cell_type": "code",
   "execution_count": 15,
   "metadata": {},
   "outputs": [
    {
     "name": "stdout",
     "output_type": "stream",
     "text": [
      "350.0\n",
      "[2. 3.]\n"
     ]
    }
   ],
   "source": [
    "import numpy as np\n",
    "import cvxpy as cp \n",
    "\n",
    "c = np.array([40, 90])\n",
    "A = np.array([[9, 7],\n",
    "              [-7, -20]])\n",
    "b = np.array([56, -70])\n",
    "\n",
    "x = cp.Variable(2, integer=True) # 声明整数\n",
    "obj = cp.Minimize(c @ x)\n",
    "cons = [A @ x <= b, x >= 0]\n",
    "prob = cp.Problem(obj, cons)\n",
    "prob.solve(solver=\"GLPK_MI\") # 线性整数规划问题\n",
    "# prob.solve(solver=\"ECOS_BB\")\n",
    "# prob.solve(solver=\"SCIP\")\n",
    "\n",
    "print(prob.value, x.value, sep='\\n')"
   ]
  },
  {
   "cell_type": "markdown",
   "metadata": {},
   "source": [
    "<h1 style=\"color: lightblue; text-align: center; font-weight: bold\">非线性规划与模拟退火<h1>\n",
    "\n",
    "\n",
    "## 非线性规划\n",
    "\n",
    "### 一般形式\n",
    "\n",
    "$$\n",
    "\\begin{aligned}\n",
    "&\\min \\quad f(x),\\\\\n",
    "&s.t. \\quad\n",
    "\\begin{cases}\n",
    "g_i(x) \\leq 0, i = 1, 2, \\cdots, m,\\\\\n",
    "h_j(x) = 0, j = 1, 2, \\cdots, l.\n",
    "\\end{cases}\n",
    "\\end{aligned}\n",
    "$$"
   ]
  },
  {
   "cell_type": "markdown",
   "metadata": {},
   "source": [
    "### 无约束非线性规划\n",
    "\n",
    "$$\n",
    "\\begin{aligned}\n",
    "&\\min \\quad \\frac{2 + x_1}{1 + x_2} - 3x_1 + 4x_3,\\\\\n",
    "&s.t. \\quad 0.1 \\leq x_i \\leq 0.9, \\quad i = 1, 2, 3.\n",
    "\\end{aligned}\n",
    "$$\n",
    "\n",
    "书P206"
   ]
  },
  {
   "cell_type": "code",
   "execution_count": 4,
   "metadata": {},
   "outputs": [
    {
     "data": {
      "text/plain": [
       "      fun: -0.7736842105263159\n",
       " hess_inv: <3x3 LbfgsInvHessProduct with dtype=float64>\n",
       "      jac: array([-2.47368422, -0.80332409,  4.        ])\n",
       "  message: 'CONVERGENCE: NORM_OF_PROJECTED_GRADIENT_<=_PGTOL'\n",
       "     nfev: 8\n",
       "      nit: 1\n",
       "     njev: 2\n",
       "   status: 0\n",
       "  success: True\n",
       "        x: array([0.9, 0.9, 0.1])"
      ]
     },
     "execution_count": 4,
     "metadata": {},
     "output_type": "execute_result"
    }
   ],
   "source": [
    "import numpy as np\n",
    "from scipy.optimize import minimize\n",
    "\n",
    "def obj(x): # 推荐这种清晰的写法\n",
    "    x1, x2, x3 = x\n",
    "    return (2+x1)/(1+x2) - 3*x1 + 4*x3\n",
    "\n",
    "bnds = list(zip([.1]*3, [.9]*3))\n",
    "# bnds = np.tile([0.1, 0.9], (3, 1))\n",
    "res = minimize(obj, np.ones(3), bounds=bnds)\n",
    "res"
   ]
  },
  {
   "cell_type": "markdown",
   "metadata": {},
   "source": [
    "### 有约束非线性规划\n",
    "\n",
    "$$\n",
    "\\begin{aligned}\n",
    "&\\max \\quad z = x_1^2 + x_2^2 + 3x_3^2 + 4x_4^2 + 2x_5^2 - 8x_1 -2x_2 -3x_3 - x_4 -2x_5,\\\\\n",
    "&s.t. \\quad\n",
    "\\begin{cases}\n",
    "x_1 + x_2 + x_3 + x_4 + x_5 \\leq 400,\\\\\n",
    "x_1 + 2x_2 + 2x_3 + x_4 + 6x_5 \\leq 800,\\\\\n",
    "2x_1 + x_2 + 6x_3 \\leq 200,\\\\\n",
    "x_3 + x_4 + 5x_5 \\leq 200,\\\\\n",
    "0 \\leq x_i \\leq 99, \\quad i = 1, 2, 3, 4, 5.\n",
    "\\end{cases}\n",
    "\\end{aligned}\n",
    "$$\n",
    "\n",
    "书P206"
   ]
  },
  {
   "cell_type": "code",
   "execution_count": 5,
   "metadata": {},
   "outputs": [
    {
     "data": {
      "text/plain": [
       "     fun: 51629.929994628765\n",
       "     jac: array([ -93.        , -196.        ,    3.        , -791.        ,\n",
       "        -78.80029297])\n",
       " message: 'Optimization terminated successfully'\n",
       "    nfev: 15\n",
       "     nit: 2\n",
       "    njev: 2\n",
       "  status: 0\n",
       " success: True\n",
       "       x: array([5.05000000e+01, 9.90000000e+01, 1.46601756e-09, 9.90000000e+01,\n",
       "       2.02000000e+01])"
      ]
     },
     "execution_count": 5,
     "metadata": {},
     "output_type": "execute_result"
    }
   ],
   "source": [
    "import numpy as np\n",
    "from scipy.optimize import minimize\n",
    "\n",
    "def obj(x):\n",
    "    c1 = np.array([1, 1, 3, 4, 2])\n",
    "    c2 = np.array([-8, -2, -3, -1, -2])\n",
    "    return -(lambda x: c1 @ x**2 + c2 @ x)(x) # 记得加负号\n",
    "\n",
    "A = np.array([[1, 1, 1, 1, 1],\n",
    "              [1, 2, 2, 1, 6],\n",
    "              [2, 1, 6, 0, 0],\n",
    "              [0, 0, 1, 1, 5]])\n",
    "b = np.array([400, 800, 200, 200])\n",
    "bnds = list(zip([0]*5, [99]*5))\n",
    "cons = {'type': 'ineq',\n",
    "        'fun': lambda x: b - A @ x} # 保证'fun'>=0\n",
    "res = minimize(obj, np.ones(5)*100, method='SLSQP', constraints=cons, bounds=bnds)\n",
    "# 只能求出局部极值，要多尝试几个初值\n",
    "res.fun *= -1\n",
    "res"
   ]
  },
  {
   "cell_type": "markdown",
   "metadata": {},
   "source": [
    "### 非线性整数规划\n",
    "\n",
    "$$\n",
    "\\begin{aligned}\n",
    "&\\min \\quad z = x_1^2 + x_2^2 + 3x_3^2 + 4x_4^2 + 2x_5^2 - 8x_1 -2x_2 -3x_3 - x_4 -2x_5,\\\\\n",
    "&s.t. \\quad\n",
    "\\begin{cases}\n",
    "x_1 + x_2 + x_3 + x_4 + x_5 \\leq 400,\\\\\n",
    "x_1 + 2x_2 + 2x_3 + x_4 + 6x_5 \\leq 800,\\\\\n",
    "2x_1 + x_2 + 6x_3 \\leq 200,\\\\\n",
    "x_3 + x_4 + 5x_5 \\leq 200,\\\\\n",
    "0 \\leq x_i \\leq 99,\\text{且}x_i\\text{为整数} \\quad i = 1, 2, 3, 4, 5.\n",
    "\\end{cases}\n",
    "\\end{aligned}\n",
    "$$\n",
    "\n",
    "书P206"
   ]
  },
  {
   "cell_type": "code",
   "execution_count": 53,
   "metadata": {},
   "outputs": [
    {
     "name": "stdout",
     "output_type": "stream",
     "text": [
      "-16.999999832133735\n",
      "[3.99999432e+00 9.99960061e-01 5.61070061e-09 7.70566017e-09\n",
      " 1.00000010e+00]\n"
     ]
    }
   ],
   "source": [
    "# FIXME: 若为Maximize则不可以用cvxpy解决，因为该问题非凸，不符合DCP规则？\n",
    "# DEBUG: 要用solver='ECOS_BB'才可以\n",
    "import numpy as np\n",
    "import cvxpy as cp \n",
    "\n",
    "c1 = np.array([1, 1, 3, 4, 2])\n",
    "c2 = np.array([-8, -2, -3, -1, -2])\n",
    "A = np.array([[1, 1, 1, 1, 1],\n",
    "              [1, 2, 2, 1, 6],\n",
    "              [2, 1, 6, 0, 0],\n",
    "              [0, 0, 1, 1, 5]])\n",
    "b = np.array([400, 800, 200, 200])\n",
    "\n",
    "x = cp.Variable(5, integer=True)\n",
    "obj = cp.Minimize(c1 @ cp.square(x) + c2 @ x)\n",
    "cons = [A @ x <= b, 0 <= x, x <= 99]\n",
    "prob = cp.Problem(obj, cons)\n",
    "prob.solve(solver='ECOS_BB') #\n",
    "# prob.solve()\n",
    "print(prob.value, x.value, sep='\\n')"
   ]
  },
  {
   "cell_type": "markdown",
   "metadata": {},
   "source": [
    "### cvxpy求解库的使用\n",
    "\n",
    "适用情形："
   ]
  },
  {
   "cell_type": "code",
   "execution_count": null,
   "metadata": {},
   "outputs": [],
   "source": []
  },
  {
   "cell_type": "markdown",
   "metadata": {},
   "source": [
    "### scipy.optimize求解库的使用"
   ]
  },
  {
   "cell_type": "markdown",
   "metadata": {},
   "source": [
    "#### 一、 minimize_scalar(): 单变量标量函数，不需要给出初始估计\n",
    "\n",
    "![](https://cdn.jsdelivr.net/gh/acryan54/images@main/pic/202207221448271.png)\n",
    "\n",
    "- 'Brent': 无范围约束，局部最小值\n",
    "\n",
    "- **'bounded'**: 有范围约束，局部最小值，是Brent的改进"
   ]
  },
  {
   "cell_type": "code",
   "execution_count": 3,
   "metadata": {},
   "outputs": [
    {
     "data": {
      "image/png": "[encoded data removed]",
      "text/plain": [
       "<Figure size 432x288 with 1 Axes>"
      ]
     },
     "metadata": {
      "needs_background": "light"
     },
     "output_type": "display_data"
    }
   ],
   "source": [
    "import numpy as np\n",
    "import matplotlib.pyplot as plt\n",
    "from scipy.optimize import minimize_scalar\n",
    "\n",
    "def f(x):\n",
    "    return (x - 2) * x * (x + 2)**2\n",
    "\n",
    "X = np.arange(-4, 3, 0.1)\n",
    "plt.plot(X, f(X))\n",
    "plt.show()"
   ]
  },
  {
   "cell_type": "code",
   "execution_count": 4,
   "metadata": {},
   "outputs": [
    {
     "data": {
      "text/plain": [
       "     fun: -9.914949590828147\n",
       "    nfev: 15\n",
       "     nit: 11\n",
       " success: True\n",
       "       x: 1.2807764040333458"
      ]
     },
     "execution_count": 4,
     "metadata": {},
     "output_type": "execute_result"
    }
   ],
   "source": [
    "res = minimize_scalar(f) # brent是默认方法\n",
    "res"
   ]
  },
  {
   "cell_type": "code",
   "execution_count": 10,
   "metadata": {},
   "outputs": [
    {
     "data": {
      "text/plain": [
       "     fun: -9.914949590828147\n",
       "    nfev: 15\n",
       "     nit: 11\n",
       " success: True\n",
       "       x: 1.2807764040333458"
      ]
     },
     "execution_count": 10,
     "metadata": {},
     "output_type": "execute_result"
    }
   ],
   "source": [
    "res = minimize_scalar(f, bounds=[-30, -3]) # method='bounded'\n",
    "res"
   ]
  },
  {
   "cell_type": "markdown",
   "metadata": {},
   "source": [
    "例：Rosenbrock函数\n",
    "$$\n",
    "\\begin{aligned}\n",
    "f(x, y) &= \\frac{1}{2} (1 - x)^2 + (y - x^2)^2\\\\\n",
    "Jf(x, y) &=\n",
    "\\begin{pmatrix}\n",
    "4x^3 - 4xy + x - 1\\\\\n",
    "2y - 2x^2\n",
    "\\end{pmatrix}\\\\\n",
    "Hf(x, y) &=\n",
    "\\begin{pmatrix}\n",
    "12x^2 - 4y + 1 & -4x\\\\\n",
    "-4x & 2\n",
    "\\end{pmatrix}\\\\\n",
    "\\end{aligned}\n",
    "$$"
   ]
  },
  {
   "cell_type": "markdown",
   "metadata": {},
   "source": [
    "#### 二、 minimize(): 单/多变量标量函数，需要给出初始估计\n",
    "\n",
    "![](https://cdn.jsdelivr.net/gh/acryan54/images@main/pic/202207221449088.png)"
   ]
  },
  {
   "cell_type": "code",
   "execution_count": 10,
   "metadata": {},
   "outputs": [
    {
     "data": {
      "image/png": "[encoded data removed]",
      "text/plain": [
       "<Figure size 432x288 with 1 Axes>"
      ]
     },
     "metadata": {
      "needs_background": "light"
     },
     "output_type": "display_data"
    }
   ],
   "source": [
    "import numpy as np\n",
    "import matplotlib.pyplot as plt\n",
    "from scipy.optimize import minimize\n",
    "\n",
    "def F(x, y):   # The rosenbrock function\n",
    "    return 0.5*(1 - x)**2 + (y - x**2)**2\n",
    "X = np.arange(-3, 3, 0.1)\n",
    "Y = np.arange(-3, 3, 0.1)\n",
    "X, Y = np.meshgrid(X, Y)\n",
    "Z = F(X, Y)\n",
    "fig = plt.figure()\n",
    "ax = plt.axes(projection='3d')\n",
    "ax.plot_surface(X, Y, Z, alpha=0.9, cmap='rainbow')\n",
    "plt.show() "
   ]
  },
  {
   "cell_type": "code",
   "execution_count": 11,
   "metadata": {},
   "outputs": [
    {
     "name": "stderr",
     "output_type": "stream",
     "text": [
      "C:\\Users\\rYan\\AppData\\Local\\Temp\\ipykernel_21280\\1601998930.py:2: UserWarning: The following kwargs were not used by contour: 'linewidth'\n",
      "  line = plt.contour(X, Y, Z, 8, colors='black', linewidth=8)\n"
     ]
    },
    {
     "data": {
      "text/plain": [
       "<matplotlib.collections.PathCollection at 0x1d7f5ba5c60>"
      ]
     },
     "execution_count": 11,
     "metadata": {},
     "output_type": "execute_result"
    },
    {
     "data": {
      "image/png": "[encoded data removed]",
      "text/plain": [
       "<Figure size 432x288 with 1 Axes>"
      ]
     },
     "metadata": {
      "needs_background": "light"
     },
     "output_type": "display_data"
    }
   ],
   "source": [
    "plt.contourf(X, Y, Z, 8, alpha=0.75 ,cmap='RdGy')\n",
    "line = plt.contour(X, Y, Z, 8, colors='black', linewidth=8)\n",
    "plt.clabel(line, inline=True, fontsize=10)\n",
    "plt.scatter([1], [1], color='y')"
   ]
  },
  {
   "cell_type": "markdown",
   "metadata": {},
   "source": [
    "#### CASE1: 无约束，局部优化，依赖梯度计算\n",
    "\n",
    "- 'CG': 共轭梯度法，依赖一阶导数，可选给出jacobi矩阵\n",
    "\n",
    "- **'Newton-CG'**: 牛顿法，依赖二阶导数，必选给出jacobi矩阵，可选给出hessian矩阵\n",
    "\n",
    "- **'BFGS'**: 一种拟牛顿法，必选给出jacobi矩阵\n",
    "\n",
    "- **'L-BFGS-B'**: BFGS的内存改进版本，必选给出jacobi矩阵（大规模计算）\n",
    "\n",
    "注：L-BFGS-B可以用bounds限制变量范围"
   ]
  },
  {
   "cell_type": "code",
   "execution_count": 12,
   "metadata": {},
   "outputs": [
    {
     "data": {
      "text/plain": [
       "     fun: 1.6486281937428067e-11\n",
       "     jac: array([-6.15024682e-06,  2.53707854e-07])\n",
       " message: 'Optimization terminated successfully.'\n",
       "    nfev: 81\n",
       "     nit: 13\n",
       "    njev: 27\n",
       "  status: 0\n",
       " success: True\n",
       "       x: array([0.99999426, 0.99998864])"
      ]
     },
     "execution_count": 12,
     "metadata": {},
     "output_type": "execute_result"
    }
   ],
   "source": [
    "import numpy as np\n",
    "from scipy.optimize import minimize\n",
    "\n",
    "def f(x):\n",
    "    x, y = x\n",
    "    return 0.5*(1 - x)**2 + (y - x**2)**2\n",
    "\n",
    "res = minimize(f, [2,-1], method=\"CG\")\n",
    "res"
   ]
  },
  {
   "cell_type": "code",
   "execution_count": 13,
   "metadata": {},
   "outputs": [
    {
     "data": {
      "text/plain": [
       "      fun: 5.77995930732604e-15\n",
       " hess_inv: <2x2 LbfgsInvHessProduct with dtype=float64>\n",
       "      jac: array([ 3.19967228e-07, -1.35805010e-07])\n",
       "  message: 'CONVERGENCE: NORM_OF_PROJECTED_GRADIENT_<=_PGTOL'\n",
       "     nfev: 14\n",
       "      nit: 13\n",
       "     njev: 14\n",
       "   status: 0\n",
       "  success: True\n",
       "        x: array([1.00000005, 1.00000003])"
      ]
     },
     "execution_count": 13,
     "metadata": {},
     "output_type": "execute_result"
    }
   ],
   "source": [
    "import numpy as np\n",
    "from scipy.optimize import minimize\n",
    "\n",
    "def f(x):\n",
    "    x, y = x\n",
    "    return 0.5*(1 - x)**2 + (y - x**2)**2\n",
    "def f_jac(x):\n",
    "    x, y = x \n",
    "    return np.array([4*x**3 - 4*x*y + x - 1,\n",
    "                     2*y - 2*x**2])\n",
    "\n",
    "bnds = np.array([[-10, None], [-5, None]])\n",
    "# bnds = np.array([[-10, -5], [5, 10]])\n",
    "res = minimize(f, [2, 0], method=\"L-BFGS-B\", jac=f_jac, bounds=bnds)\n",
    "res"
   ]
  },
  {
   "cell_type": "code",
   "execution_count": 14,
   "metadata": {},
   "outputs": [
    {
     "data": {
      "text/plain": [
       "     fun: 8.020253358886544e-25\n",
       "     jac: array([-1.45877652e-07, -3.66223772e-07])\n",
       " message: 'Optimization terminated successfully.'\n",
       "    nfev: 15\n",
       "    nhev: 12\n",
       "     nit: 12\n",
       "    njev: 15\n",
       "  status: 0\n",
       " success: True\n",
       "       x: array([1., 1.])"
      ]
     },
     "execution_count": 14,
     "metadata": {},
     "output_type": "execute_result"
    }
   ],
   "source": [
    "import numpy as np\n",
    "from scipy.optimize import minimize\n",
    "\n",
    "def f(x):\n",
    "    x, y = x\n",
    "    return 0.5*(1 - x)**2 + (y - x**2)**2\n",
    "def f_jac(x):\n",
    "    x, y = x \n",
    "    return np.array([4*x**3 - 4*x*y + x - 1,\n",
    "                     2*y - 2*x**2])\n",
    "def f_hess(x):\n",
    "    x, y = x\n",
    "    return np.array([[12*x**2 - 4*y + 1, -4*x],\n",
    "                     [-4*x, 2]])\n",
    "    \n",
    "res = minimize(f, [3, 2], method=\"Newton-CG\", jac=f_jac, hess=f_hess)\n",
    "res"
   ]
  },
  {
   "cell_type": "markdown",
   "metadata": {},
   "source": [
    "#### CASE2: 无约束，局部优化，不依赖梯度计算\n",
    "\n",
    "- 'Powell':\n",
    "- **'Nelder-Mead'**: 不要与Dantzig的线性规划单纯形法混淆，对不光滑函数也有效\n",
    "\n",
    "<!-- ![](https://cdn.jsdelivr.net/gh/acryan54/images@main/pic/202207221430769.png) -->"
   ]
  },
  {
   "cell_type": "code",
   "execution_count": 51,
   "metadata": {},
   "outputs": [
    {
     "data": {
      "text/plain": [
       " final_simplex: (array([[1.00001481, 1.00002828],\n",
       "       [0.9999825 , 0.9999643 ],\n",
       "       [1.00001465, 1.0000095 ]]), array([1.11527916e-10, 1.53677305e-10, 4.98835768e-10]))\n",
       "           fun: 1.11527915993744e-10\n",
       "       message: 'Optimization terminated successfully.'\n",
       "          nfev: 111\n",
       "           nit: 58\n",
       "        status: 0\n",
       "       success: True\n",
       "             x: array([1.00001481, 1.00002828])"
      ]
     },
     "execution_count": 51,
     "metadata": {},
     "output_type": "execute_result"
    }
   ],
   "source": [
    "import numpy as np\n",
    "from scipy.optimize import minimize\n",
    "\n",
    "def f(x):\n",
    "    x, y = x\n",
    "    return 0.5*(1 - x)**2 + (y - x**2)**2\n",
    "\n",
    "res = minimize(f, [2,-1], method=\"Nelder-Mead\", bounds=[[-10, 10], [-10, 10]])\n",
    "res"
   ]
  },
  {
   "cell_type": "markdown",
   "metadata": {},
   "source": [
    "#### 三、 brute(): 单/多变量标量函数，需要给出初始估计"
   ]
  },
  {
   "cell_type": "markdown",
   "metadata": {},
   "source": [
    "\n",
    "#### CASE3: 全局优化，给定范围\n",
    "\n",
    "- **'brute'**: 暴力算法\n",
    "\n",
    "- 以及一系列群体智能算法：如蚁群算法\n",
    "\n",
    "![](https://cdn.jsdelivr.net/gh/acryan54/images@main/pic/202207221454015.png)"
   ]
  },
  {
   "cell_type": "code",
   "execution_count": 2,
   "metadata": {},
   "outputs": [
    {
     "data": {
      "text/plain": [
       "(array([0.78947368, 0.78947368]),\n",
       " 0.04978476224092844,\n",
       " array([[[-5.        , -5.        , -5.        , -5.        ,\n",
       "          -5.        , -5.        , -5.        , -5.        ,\n",
       "          -5.        , -5.        , -5.        , -5.        ,\n",
       "          -5.        , -5.        , -5.        , -5.        ,\n",
       "          -5.        , -5.        , -5.        , -5.        ],\n",
       "         [-4.47368421, -4.47368421, -4.47368421, -4.47368421,\n",
       "          -4.47368421, -4.47368421, -4.47368421, -4.47368421,\n",
       "          -4.47368421, -4.47368421, -4.47368421, -4.47368421,\n",
       "          -4.47368421, -4.47368421, -4.47368421, -4.47368421,\n",
       "          -4.47368421, -4.47368421, -4.47368421, -4.47368421],\n",
       "         [-3.94736842, -3.94736842, -3.94736842, -3.94736842,\n",
       "          -3.94736842, -3.94736842, -3.94736842, -3.94736842,\n",
       "          -3.94736842, -3.94736842, -3.94736842, -3.94736842,\n",
       "          -3.94736842, -3.94736842, -3.94736842, -3.94736842,\n",
       "          -3.94736842, -3.94736842, -3.94736842, -3.94736842],\n",
       "         [-3.42105263, -3.42105263, -3.42105263, -3.42105263,\n",
       "          -3.42105263, -3.42105263, -3.42105263, -3.42105263,\n",
       "          -3.42105263, -3.42105263, -3.42105263, -3.42105263,\n",
       "          -3.42105263, -3.42105263, -3.42105263, -3.42105263,\n",
       "          -3.42105263, -3.42105263, -3.42105263, -3.42105263],\n",
       "         [-2.89473684, -2.89473684, -2.89473684, -2.89473684,\n",
       "          -2.89473684, -2.89473684, -2.89473684, -2.89473684,\n",
       "          -2.89473684, -2.89473684, -2.89473684, -2.89473684,\n",
       "          -2.89473684, -2.89473684, -2.89473684, -2.89473684,\n",
       "          -2.89473684, -2.89473684, -2.89473684, -2.89473684],\n",
       "         [-2.36842105, -2.36842105, -2.36842105, -2.36842105,\n",
       "          -2.36842105, -2.36842105, -2.36842105, -2.36842105,\n",
       "          -2.36842105, -2.36842105, -2.36842105, -2.36842105,\n",
       "          -2.36842105, -2.36842105, -2.36842105, -2.36842105,\n",
       "          -2.36842105, -2.36842105, -2.36842105, -2.36842105],\n",
       "         [-1.84210526, -1.84210526, -1.84210526, -1.84210526,\n",
       "          -1.84210526, -1.84210526, -1.84210526, -1.84210526,\n",
       "          -1.84210526, -1.84210526, -1.84210526, -1.84210526,\n",
       "          -1.84210526, -1.84210526, -1.84210526, -1.84210526,\n",
       "          -1.84210526, -1.84210526, -1.84210526, -1.84210526],\n",
       "         [-1.31578947, -1.31578947, -1.31578947, -1.31578947,\n",
       "          -1.31578947, -1.31578947, -1.31578947, -1.31578947,\n",
       "          -1.31578947, -1.31578947, -1.31578947, -1.31578947,\n",
       "          -1.31578947, -1.31578947, -1.31578947, -1.31578947,\n",
       "          -1.31578947, -1.31578947, -1.31578947, -1.31578947],\n",
       "         [-0.78947368, -0.78947368, -0.78947368, -0.78947368,\n",
       "          -0.78947368, -0.78947368, -0.78947368, -0.78947368,\n",
       "          -0.78947368, -0.78947368, -0.78947368, -0.78947368,\n",
       "          -0.78947368, -0.78947368, -0.78947368, -0.78947368,\n",
       "          -0.78947368, -0.78947368, -0.78947368, -0.78947368],\n",
       "         [-0.26315789, -0.26315789, -0.26315789, -0.26315789,\n",
       "          -0.26315789, -0.26315789, -0.26315789, -0.26315789,\n",
       "          -0.26315789, -0.26315789, -0.26315789, -0.26315789,\n",
       "          -0.26315789, -0.26315789, -0.26315789, -0.26315789,\n",
       "          -0.26315789, -0.26315789, -0.26315789, -0.26315789],\n",
       "         [ 0.26315789,  0.26315789,  0.26315789,  0.26315789,\n",
       "           0.26315789,  0.26315789,  0.26315789,  0.26315789,\n",
       "           0.26315789,  0.26315789,  0.26315789,  0.26315789,\n",
       "           0.26315789,  0.26315789,  0.26315789,  0.26315789,\n",
       "           0.26315789,  0.26315789,  0.26315789,  0.26315789],\n",
       "         [ 0.78947368,  0.78947368,  0.78947368,  0.78947368,\n",
       "           0.78947368,  0.78947368,  0.78947368,  0.78947368,\n",
       "           0.78947368,  0.78947368,  0.78947368,  0.78947368,\n",
       "           0.78947368,  0.78947368,  0.78947368,  0.78947368,\n",
       "           0.78947368,  0.78947368,  0.78947368,  0.78947368],\n",
       "         [ 1.31578947,  1.31578947,  1.31578947,  1.31578947,\n",
       "           1.31578947,  1.31578947,  1.31578947,  1.31578947,\n",
       "           1.31578947,  1.31578947,  1.31578947,  1.31578947,\n",
       "           1.31578947,  1.31578947,  1.31578947,  1.31578947,\n",
       "           1.31578947,  1.31578947,  1.31578947,  1.31578947],\n",
       "         [ 1.84210526,  1.84210526,  1.84210526,  1.84210526,\n",
       "           1.84210526,  1.84210526,  1.84210526,  1.84210526,\n",
       "           1.84210526,  1.84210526,  1.84210526,  1.84210526,\n",
       "           1.84210526,  1.84210526,  1.84210526,  1.84210526,\n",
       "           1.84210526,  1.84210526,  1.84210526,  1.84210526],\n",
       "         [ 2.36842105,  2.36842105,  2.36842105,  2.36842105,\n",
       "           2.36842105,  2.36842105,  2.36842105,  2.36842105,\n",
       "           2.36842105,  2.36842105,  2.36842105,  2.36842105,\n",
       "           2.36842105,  2.36842105,  2.36842105,  2.36842105,\n",
       "           2.36842105,  2.36842105,  2.36842105,  2.36842105],\n",
       "         [ 2.89473684,  2.89473684,  2.89473684,  2.89473684,\n",
       "           2.89473684,  2.89473684,  2.89473684,  2.89473684,\n",
       "           2.89473684,  2.89473684,  2.89473684,  2.89473684,\n",
       "           2.89473684,  2.89473684,  2.89473684,  2.89473684,\n",
       "           2.89473684,  2.89473684,  2.89473684,  2.89473684],\n",
       "         [ 3.42105263,  3.42105263,  3.42105263,  3.42105263,\n",
       "           3.42105263,  3.42105263,  3.42105263,  3.42105263,\n",
       "           3.42105263,  3.42105263,  3.42105263,  3.42105263,\n",
       "           3.42105263,  3.42105263,  3.42105263,  3.42105263,\n",
       "           3.42105263,  3.42105263,  3.42105263,  3.42105263],\n",
       "         [ 3.94736842,  3.94736842,  3.94736842,  3.94736842,\n",
       "           3.94736842,  3.94736842,  3.94736842,  3.94736842,\n",
       "           3.94736842,  3.94736842,  3.94736842,  3.94736842,\n",
       "           3.94736842,  3.94736842,  3.94736842,  3.94736842,\n",
       "           3.94736842,  3.94736842,  3.94736842,  3.94736842],\n",
       "         [ 4.47368421,  4.47368421,  4.47368421,  4.47368421,\n",
       "           4.47368421,  4.47368421,  4.47368421,  4.47368421,\n",
       "           4.47368421,  4.47368421,  4.47368421,  4.47368421,\n",
       "           4.47368421,  4.47368421,  4.47368421,  4.47368421,\n",
       "           4.47368421,  4.47368421,  4.47368421,  4.47368421],\n",
       "         [ 5.        ,  5.        ,  5.        ,  5.        ,\n",
       "           5.        ,  5.        ,  5.        ,  5.        ,\n",
       "           5.        ,  5.        ,  5.        ,  5.        ,\n",
       "           5.        ,  5.        ,  5.        ,  5.        ,\n",
       "           5.        ,  5.        ,  5.        ,  5.        ]],\n",
       " \n",
       "        [[-5.        , -4.47368421, -3.94736842, -3.42105263,\n",
       "          -2.89473684, -2.36842105, -1.84210526, -1.31578947,\n",
       "          -0.78947368, -0.26315789,  0.26315789,  0.78947368,\n",
       "           1.31578947,  1.84210526,  2.36842105,  2.89473684,\n",
       "           3.42105263,  3.94736842,  4.47368421,  5.        ],\n",
       "         [-5.        , -4.47368421, -3.94736842, -3.42105263,\n",
       "          -2.89473684, -2.36842105, -1.84210526, -1.31578947,\n",
       "          -0.78947368, -0.26315789,  0.26315789,  0.78947368,\n",
       "           1.31578947,  1.84210526,  2.36842105,  2.89473684,\n",
       "           3.42105263,  3.94736842,  4.47368421,  5.        ],\n",
       "         [-5.        , -4.47368421, -3.94736842, -3.42105263,\n",
       "          -2.89473684, -2.36842105, -1.84210526, -1.31578947,\n",
       "          -0.78947368, -0.26315789,  0.26315789,  0.78947368,\n",
       "           1.31578947,  1.84210526,  2.36842105,  2.89473684,\n",
       "           3.42105263,  3.94736842,  4.47368421,  5.        ],\n",
       "         [-5.        , -4.47368421, -3.94736842, -3.42105263,\n",
       "          -2.89473684, -2.36842105, -1.84210526, -1.31578947,\n",
       "          -0.78947368, -0.26315789,  0.26315789,  0.78947368,\n",
       "           1.31578947,  1.84210526,  2.36842105,  2.89473684,\n",
       "           3.42105263,  3.94736842,  4.47368421,  5.        ],\n",
       "         [-5.        , -4.47368421, -3.94736842, -3.42105263,\n",
       "          -2.89473684, -2.36842105, -1.84210526, -1.31578947,\n",
       "          -0.78947368, -0.26315789,  0.26315789,  0.78947368,\n",
       "           1.31578947,  1.84210526,  2.36842105,  2.89473684,\n",
       "           3.42105263,  3.94736842,  4.47368421,  5.        ],\n",
       "         [-5.        , -4.47368421, -3.94736842, -3.42105263,\n",
       "          -2.89473684, -2.36842105, -1.84210526, -1.31578947,\n",
       "          -0.78947368, -0.26315789,  0.26315789,  0.78947368,\n",
       "           1.31578947,  1.84210526,  2.36842105,  2.89473684,\n",
       "           3.42105263,  3.94736842,  4.47368421,  5.        ],\n",
       "         [-5.        , -4.47368421, -3.94736842, -3.42105263,\n",
       "          -2.89473684, -2.36842105, -1.84210526, -1.31578947,\n",
       "          -0.78947368, -0.26315789,  0.26315789,  0.78947368,\n",
       "           1.31578947,  1.84210526,  2.36842105,  2.89473684,\n",
       "           3.42105263,  3.94736842,  4.47368421,  5.        ],\n",
       "         [-5.        , -4.47368421, -3.94736842, -3.42105263,\n",
       "          -2.89473684, -2.36842105, -1.84210526, -1.31578947,\n",
       "          -0.78947368, -0.26315789,  0.26315789,  0.78947368,\n",
       "           1.31578947,  1.84210526,  2.36842105,  2.89473684,\n",
       "           3.42105263,  3.94736842,  4.47368421,  5.        ],\n",
       "         [-5.        , -4.47368421, -3.94736842, -3.42105263,\n",
       "          -2.89473684, -2.36842105, -1.84210526, -1.31578947,\n",
       "          -0.78947368, -0.26315789,  0.26315789,  0.78947368,\n",
       "           1.31578947,  1.84210526,  2.36842105,  2.89473684,\n",
       "           3.42105263,  3.94736842,  4.47368421,  5.        ],\n",
       "         [-5.        , -4.47368421, -3.94736842, -3.42105263,\n",
       "          -2.89473684, -2.36842105, -1.84210526, -1.31578947,\n",
       "          -0.78947368, -0.26315789,  0.26315789,  0.78947368,\n",
       "           1.31578947,  1.84210526,  2.36842105,  2.89473684,\n",
       "           3.42105263,  3.94736842,  4.47368421,  5.        ],\n",
       "         [-5.        , -4.47368421, -3.94736842, -3.42105263,\n",
       "          -2.89473684, -2.36842105, -1.84210526, -1.31578947,\n",
       "          -0.78947368, -0.26315789,  0.26315789,  0.78947368,\n",
       "           1.31578947,  1.84210526,  2.36842105,  2.89473684,\n",
       "           3.42105263,  3.94736842,  4.47368421,  5.        ],\n",
       "         [-5.        , -4.47368421, -3.94736842, -3.42105263,\n",
       "          -2.89473684, -2.36842105, -1.84210526, -1.31578947,\n",
       "          -0.78947368, -0.26315789,  0.26315789,  0.78947368,\n",
       "           1.31578947,  1.84210526,  2.36842105,  2.89473684,\n",
       "           3.42105263,  3.94736842,  4.47368421,  5.        ],\n",
       "         [-5.        , -4.47368421, -3.94736842, -3.42105263,\n",
       "          -2.89473684, -2.36842105, -1.84210526, -1.31578947,\n",
       "          -0.78947368, -0.26315789,  0.26315789,  0.78947368,\n",
       "           1.31578947,  1.84210526,  2.36842105,  2.89473684,\n",
       "           3.42105263,  3.94736842,  4.47368421,  5.        ],\n",
       "         [-5.        , -4.47368421, -3.94736842, -3.42105263,\n",
       "          -2.89473684, -2.36842105, -1.84210526, -1.31578947,\n",
       "          -0.78947368, -0.26315789,  0.26315789,  0.78947368,\n",
       "           1.31578947,  1.84210526,  2.36842105,  2.89473684,\n",
       "           3.42105263,  3.94736842,  4.47368421,  5.        ],\n",
       "         [-5.        , -4.47368421, -3.94736842, -3.42105263,\n",
       "          -2.89473684, -2.36842105, -1.84210526, -1.31578947,\n",
       "          -0.78947368, -0.26315789,  0.26315789,  0.78947368,\n",
       "           1.31578947,  1.84210526,  2.36842105,  2.89473684,\n",
       "           3.42105263,  3.94736842,  4.47368421,  5.        ],\n",
       "         [-5.        , -4.47368421, -3.94736842, -3.42105263,\n",
       "          -2.89473684, -2.36842105, -1.84210526, -1.31578947,\n",
       "          -0.78947368, -0.26315789,  0.26315789,  0.78947368,\n",
       "           1.31578947,  1.84210526,  2.36842105,  2.89473684,\n",
       "           3.42105263,  3.94736842,  4.47368421,  5.        ],\n",
       "         [-5.        , -4.47368421, -3.94736842, -3.42105263,\n",
       "          -2.89473684, -2.36842105, -1.84210526, -1.31578947,\n",
       "          -0.78947368, -0.26315789,  0.26315789,  0.78947368,\n",
       "           1.31578947,  1.84210526,  2.36842105,  2.89473684,\n",
       "           3.42105263,  3.94736842,  4.47368421,  5.        ],\n",
       "         [-5.        , -4.47368421, -3.94736842, -3.42105263,\n",
       "          -2.89473684, -2.36842105, -1.84210526, -1.31578947,\n",
       "          -0.78947368, -0.26315789,  0.26315789,  0.78947368,\n",
       "           1.31578947,  1.84210526,  2.36842105,  2.89473684,\n",
       "           3.42105263,  3.94736842,  4.47368421,  5.        ],\n",
       "         [-5.        , -4.47368421, -3.94736842, -3.42105263,\n",
       "          -2.89473684, -2.36842105, -1.84210526, -1.31578947,\n",
       "          -0.78947368, -0.26315789,  0.26315789,  0.78947368,\n",
       "           1.31578947,  1.84210526,  2.36842105,  2.89473684,\n",
       "           3.42105263,  3.94736842,  4.47368421,  5.        ],\n",
       "         [-5.        , -4.47368421, -3.94736842, -3.42105263,\n",
       "          -2.89473684, -2.36842105, -1.84210526, -1.31578947,\n",
       "          -0.78947368, -0.26315789,  0.26315789,  0.78947368,\n",
       "           1.31578947,  1.84210526,  2.36842105,  2.89473684,\n",
       "           3.42105263,  3.94736842,  4.47368421,  5.        ]]]),\n",
       " array([[9.18000000e+02, 8.86698061e+02, 8.55950139e+02, 8.25756233e+02,\n",
       "         7.96116343e+02, 7.67030471e+02, 7.38498615e+02, 7.10520776e+02,\n",
       "         6.83096953e+02, 6.56227147e+02, 6.29911357e+02, 6.04149584e+02,\n",
       "         5.78941828e+02, 5.54288089e+02, 5.30188366e+02, 5.06642659e+02,\n",
       "         4.83650970e+02, 4.61213296e+02, 4.39329640e+02, 4.18000000e+02],\n",
       "        [6.40673322e+02, 6.14619961e+02, 5.89120618e+02, 5.64175290e+02,\n",
       "         5.39783980e+02, 5.15946685e+02, 4.92663408e+02, 4.69934147e+02,\n",
       "         4.47758903e+02, 4.26137675e+02, 4.05070464e+02, 3.84557270e+02,\n",
       "         3.64598092e+02, 3.45192931e+02, 3.26341787e+02, 3.08044659e+02,\n",
       "         2.90301548e+02, 2.73112453e+02, 2.56477375e+02, 2.40396314e+02],\n",
       "        [4.35845320e+02, 4.14457363e+02, 3.93623422e+02, 3.73343498e+02,\n",
       "         3.53617590e+02, 3.34445699e+02, 3.15827825e+02, 2.97763967e+02,\n",
       "         2.80254126e+02, 2.63298302e+02, 2.46896494e+02, 2.31048703e+02,\n",
       "         2.15754928e+02, 2.01015170e+02, 1.86829429e+02, 1.73197704e+02,\n",
       "         1.60119996e+02, 1.47596305e+02, 1.35626630e+02, 1.24210971e+02],\n",
       "        [2.88783143e+02, 2.71477413e+02, 2.54725700e+02, 2.38528004e+02,\n",
       "         2.22884324e+02, 2.07794661e+02, 1.93259014e+02, 1.79277384e+02,\n",
       "         1.65849771e+02, 1.52976174e+02, 1.40656594e+02, 1.28891031e+02,\n",
       "         1.17679484e+02, 1.07021953e+02, 9.69184399e+01, 8.73689428e+01,\n",
       "         7.83734625e+01, 6.99319987e+01, 6.20445515e+01, 5.47111210e+01],\n",
       "        [1.86595545e+02, 1.72788867e+02, 1.59536207e+02, 1.46837563e+02,\n",
       "         1.34692935e+02, 1.23102324e+02, 1.12065730e+02, 1.01583152e+02,\n",
       "         9.16545914e+01, 8.22800470e+01, 7.34595192e+01, 6.51930080e+01,\n",
       "         5.74805135e+01, 5.03220356e+01, 4.37175743e+01, 3.76671296e+01,\n",
       "         3.21707016e+01, 2.72282901e+01, 2.28398953e+01, 1.90055171e+01],\n",
       "        [1.18232886e+02, 1.07342086e+02, 9.70053023e+01, 8.72225351e+01,\n",
       "         7.79937846e+01, 6.93190507e+01, 6.11983333e+01, 5.36316327e+01,\n",
       "         4.66189486e+01, 4.01602812e+01, 3.42556303e+01, 2.89049961e+01,\n",
       "         2.41083785e+01, 1.98657776e+01, 1.61771932e+01, 1.30426255e+01,\n",
       "         1.04620744e+01, 8.43553994e+00, 6.96302208e+00, 6.04452084e+00],\n",
       "        [7.44871356e+01, 6.59290368e+01, 5.79249545e+01, 5.04748889e+01,\n",
       "         4.35788399e+01, 3.72368076e+01, 3.14487918e+01, 2.62147927e+01,\n",
       "         2.15348102e+01, 1.74088443e+01, 1.38368951e+01, 1.08189624e+01,\n",
       "         8.35504639e+00, 6.44514698e+00, 5.08926420e+00, 4.28739804e+00,\n",
       "         4.03954850e+00, 4.34571558e+00, 5.20589928e+00, 6.62009960e+00],\n",
       "        [4.79918662e+01, 4.11832936e+01, 3.49287375e+01, 2.92281981e+01,\n",
       "         2.40816752e+01, 1.94891691e+01, 1.54506795e+01, 1.19662065e+01,\n",
       "         9.03575019e+00, 6.65931047e+00, 4.83688738e+00, 3.56848090e+00,\n",
       "         2.85409105e+00, 2.69371782e+00, 3.08736121e+00, 4.03502122e+00,\n",
       "         5.53669785e+00, 7.59239110e+00, 1.02021010e+01, 1.33658275e+01],\n",
       "        [3.32222589e+01, 2.75800370e+01, 2.24918317e+01, 1.79576431e+01,\n",
       "         1.39774710e+01, 1.05513156e+01, 7.67917680e+00, 5.36105463e+00,\n",
       "         3.59694907e+00, 2.38686014e+00, 1.73078782e+00, 1.62873213e+00,\n",
       "         2.08069306e+00, 3.08667061e+00, 4.64666477e+00, 6.76067556e+00,\n",
       "         9.42870297e+00, 1.26507470e+01, 1.64268077e+01, 2.07568849e+01],\n",
       "        [2.64951006e+01, 2.14360541e+01, 1.69310242e+01, 1.29800109e+01,\n",
       "         9.58301425e+00, 6.74003422e+00, 4.45107082e+00, 2.71612403e+00,\n",
       "         1.53519387e+00, 9.08280323e-01, 8.35383399e-01, 1.31650310e+00,\n",
       "         2.35163941e+00, 3.94079235e+00, 6.08396191e+00, 8.78114809e+00,\n",
       "         1.20323509e+01, 1.58375703e+01, 2.01968063e+01, 2.51100590e+01],\n",
       "        [2.59687848e+01, 2.09097383e+01, 1.64047084e+01, 1.24536951e+01,\n",
       "         9.05669846e+00, 6.21371843e+00, 3.92475503e+00, 2.18980824e+00,\n",
       "         1.00887808e+00, 3.81964534e-01, 3.09067610e-01, 7.90187307e-01,\n",
       "         1.82532362e+00, 3.41447656e+00, 5.55764612e+00, 8.25483230e+00,\n",
       "         1.15060351e+01, 1.53112545e+01, 1.96704906e+01, 2.45837432e+01],\n",
       "        [3.16433115e+01, 2.60010896e+01, 2.09128843e+01, 1.63786957e+01,\n",
       "         1.23985236e+01, 8.97236823e+00, 6.10022943e+00, 3.78210726e+00,\n",
       "         2.01800170e+00, 8.07912769e-01, 1.51840455e-01, 4.97847622e-02,\n",
       "         5.01745689e-01, 1.50772324e+00, 3.06771741e+00, 5.18172819e+00,\n",
       "         7.84975560e+00, 1.10717996e+01, 1.48478603e+01, 1.91779376e+01],\n",
       "        [4.53602873e+01, 3.85517146e+01, 3.22971586e+01, 2.65966191e+01,\n",
       "         2.14500963e+01, 1.68575901e+01, 1.28191005e+01, 9.33462757e+00,\n",
       "         6.40417124e+00, 4.02773152e+00, 2.20530843e+00, 9.36901957e-01,\n",
       "         2.22512105e-01, 6.21388725e-02, 4.55782261e-01, 1.40344227e+00,\n",
       "         2.90511890e+00, 4.96081215e+00, 7.57052202e+00, 1.07342485e+01],\n",
       "        [7.08029251e+01, 6.22448262e+01, 5.42407440e+01, 4.67906784e+01,\n",
       "         3.98946294e+01, 3.35525970e+01, 2.77645813e+01, 2.25305822e+01,\n",
       "         1.78505997e+01, 1.37246338e+01, 1.01526845e+01, 7.13475188e+00,\n",
       "         4.67083586e+00, 2.76093646e+00, 1.40505368e+00, 6.03187514e-01,\n",
       "         3.55337973e-01, 6.61505053e-01, 1.52168875e+00, 2.93588907e+00],\n",
       "        [1.13496044e+02, 1.02605244e+02, 9.22684602e+01, 8.24856930e+01,\n",
       "         7.32569425e+01, 6.45822085e+01, 5.64614912e+01, 4.88947906e+01,\n",
       "         4.18821065e+01, 3.54234390e+01, 2.95187882e+01, 2.41681540e+01,\n",
       "         1.93715364e+01, 1.51289355e+01, 1.14403511e+01, 8.30578341e+00,\n",
       "         5.72523231e+00, 3.69869783e+00, 2.22617997e+00, 1.30767873e+00],\n",
       "        [1.80806071e+02, 1.66999394e+02, 1.53746733e+02, 1.41048089e+02,\n",
       "         1.28903461e+02, 1.17312851e+02, 1.06276256e+02, 9.57936787e+01,\n",
       "         8.58651177e+01, 7.64905733e+01, 6.76700455e+01, 5.94035343e+01,\n",
       "         5.16910398e+01, 4.45325619e+01, 3.79281006e+01, 3.18776559e+01,\n",
       "         2.63812279e+01, 2.14388165e+01, 1.70504217e+01, 1.32160435e+01],\n",
       "        [2.81941038e+02, 2.64635308e+02, 2.47883595e+02, 2.31685899e+02,\n",
       "         2.16042219e+02, 2.00952556e+02, 1.86416909e+02, 1.72435279e+02,\n",
       "         1.59007666e+02, 1.46134069e+02, 1.33814489e+02, 1.22048925e+02,\n",
       "         1.10837378e+02, 1.00179848e+02, 9.00763346e+01, 8.05268376e+01,\n",
       "         7.15313572e+01, 6.30898934e+01, 5.52024463e+01, 4.78690157e+01],\n",
       "        [4.27950584e+02, 4.06562626e+02, 3.85728685e+02, 3.65448761e+02,\n",
       "         3.45722854e+02, 3.26550963e+02, 3.07933088e+02, 2.89869231e+02,\n",
       "         2.72359390e+02, 2.55403565e+02, 2.39001757e+02, 2.23153966e+02,\n",
       "         2.07860191e+02, 1.93120433e+02, 1.78934692e+02, 1.65302967e+02,\n",
       "         1.52225259e+02, 1.39701568e+02, 1.27731893e+02, 1.16316235e+02],\n",
       "        [6.31725954e+02, 6.05672593e+02, 5.80173249e+02, 5.55227922e+02,\n",
       "         5.30836611e+02, 5.06999317e+02, 4.83716040e+02, 4.60986779e+02,\n",
       "         4.38811535e+02, 4.17190307e+02, 3.96123096e+02, 3.75609902e+02,\n",
       "         3.55650724e+02, 3.36245563e+02, 3.17394418e+02, 2.99097291e+02,\n",
       "         2.81354179e+02, 2.64165085e+02, 2.47530007e+02, 2.31448945e+02],\n",
       "        [9.08000000e+02, 8.76698061e+02, 8.45950139e+02, 8.15756233e+02,\n",
       "         7.86116343e+02, 7.57030471e+02, 7.28498615e+02, 7.00520776e+02,\n",
       "         6.73096953e+02, 6.46227147e+02, 6.19911357e+02, 5.94149584e+02,\n",
       "         5.68941828e+02, 5.44288089e+02, 5.20188366e+02, 4.96642659e+02,\n",
       "         4.73650970e+02, 4.51213296e+02, 4.29329640e+02, 4.08000000e+02]]))"
      ]
     },
     "execution_count": 2,
     "metadata": {},
     "output_type": "execute_result"
    }
   ],
   "source": [
    "import numpy as np\n",
    "from scipy import optimize\n",
    "from scipy.optimize import brute\n",
    "\n",
    "def f(x):\n",
    "    x, y = x\n",
    "    return 0.5*(1 - x)**2 + (y - x**2)**2\n",
    "\n",
    "rngs = [[-5, 5],\n",
    "        [-5, 5]]\n",
    "\n",
    "res = brute(f, ranges=rngs, Ns = 20, full_output=True, finish=None)\n",
    "# res = brute(f, ranges=rngs, Ns = 20, full_output=True, finish=optimize.fmin)\n",
    "# Ns为grid每个维度的点数，默认为20\n",
    "# finish为润色函数，默认为optimize.fmin()，即Nelder-Mead\n",
    "res"
   ]
  },
  {
   "cell_type": "code",
   "execution_count": 43,
   "metadata": {},
   "outputs": [
    {
     "data": {
      "image/png": "[encoded data removed]",
      "text/plain": [
       "<Figure size 432x288 with 1 Axes>"
      ]
     },
     "metadata": {
      "needs_background": "light"
     },
     "output_type": "display_data"
    }
   ],
   "source": [
    "# FIXME:\n",
    "def eggholder(x):\n",
    "    return (-(x[1] + 47) * np.sin(np.sqrt(abs(x[0]/2 + (x[1]  + 47))))\n",
    "            -x[0] * np.sin(np.sqrt(abs(x[0] - (x[1]  + 47)))))\n",
    "\n",
    "bounds = [(-512, 512), (-512, 512)]\n",
    "\n",
    "import matplotlib.pyplot as plt\n",
    "from mpl_toolkits.mplot3d import Axes3D\n",
    "\n",
    "x = np.arange(-512, 513)\n",
    "y = np.arange(-512, 513)\n",
    "xgrid, ygrid = np.meshgrid(x, y)\n",
    "xy = np.stack([xgrid, ygrid])\n",
    "\n",
    "fig = plt.figure()\n",
    "ax = fig.add_subplot(111, projection='3d')\n",
    "ax.view_init(45, -45)\n",
    "ax.plot_surface(xgrid, ygrid, eggholder(xy), cmap='terrain')\n",
    "ax.set_xlabel('x')\n",
    "ax.set_ylabel('y')\n",
    "ax.set_zlabel('eggholder(x, y)')\n",
    "plt.show()"
   ]
  },
  {
   "cell_type": "code",
   "execution_count": 44,
   "metadata": {},
   "outputs": [
    {
     "data": {
      "text/plain": [
       "     fun: -935.3379515604948\n",
       "    funl: array([-935.33795156])\n",
       " message: 'Optimization terminated successfully.'\n",
       "    nfev: 47\n",
       "     nit: 2\n",
       "   nlfev: 42\n",
       "   nlhev: 0\n",
       "   nljev: 10\n",
       " success: True\n",
       "       x: array([439.48097554, 453.97741501])\n",
       "      xl: array([[439.48097554, 453.97741501]])"
      ]
     },
     "execution_count": 44,
     "metadata": {},
     "output_type": "execute_result"
    }
   ],
   "source": [
    "from scipy import optimize\n",
    "results = dict()\n",
    "results['shgo'] = optimize.shgo(eggholder, bounds)\n",
    "results['shgo']"
   ]
  },
  {
   "cell_type": "code",
   "execution_count": 45,
   "metadata": {},
   "outputs": [
    {
     "data": {
      "text/plain": [
       "     fun: -888.949125269823\n",
       " message: ['Maximum number of iteration reached']\n",
       "    nfev: 4043\n",
       "    nhev: 0\n",
       "     nit: 1000\n",
       "    njev: 14\n",
       "  status: 0\n",
       " success: True\n",
       "       x: array([347.32697704, 499.41538614])"
      ]
     },
     "execution_count": 45,
     "metadata": {},
     "output_type": "execute_result"
    }
   ],
   "source": [
    "results['DA'] = optimize.dual_annealing(eggholder, bounds)\n",
    "results['DA']"
   ]
  },
  {
   "cell_type": "code",
   "execution_count": 46,
   "metadata": {},
   "outputs": [
    {
     "data": {
      "text/plain": [
       "     fun: -935.3379515587558\n",
       "     jac: array([-4.5474699e-05, -4.5474699e-05])\n",
       " message: 'Optimization terminated successfully.'\n",
       "    nfev: 801\n",
       "     nit: 25\n",
       " success: True\n",
       "       x: array([439.48089974, 453.97733909])"
      ]
     },
     "execution_count": 46,
     "metadata": {},
     "output_type": "execute_result"
    }
   ],
   "source": [
    "results['DE'] = optimize.differential_evolution(eggholder, bounds)\n",
    "results['DE']"
   ]
  },
  {
   "cell_type": "code",
   "execution_count": 47,
   "metadata": {},
   "outputs": [
    {
     "data": {
      "text/plain": [
       "                        fun: -565.9977809710114\n",
       " lowest_optimization_result:       fun: -565.9977809710114\n",
       " hess_inv: array([[15.33945652, -3.73858151,  0.        ,  0.        ],\n",
       "       [-3.73858151,  2.51049119,  0.        ,  0.        ],\n",
       "       [ 0.        ,  0.        ,  1.        ,  0.        ],\n",
       "       [ 0.        ,  0.        ,  0.        ,  1.        ]])\n",
       "      jac: array([0., 0., 0., 0.])\n",
       "  message: 'Optimization terminated successfully.'\n",
       "     nfev: 60\n",
       "      nit: 10\n",
       "     njev: 12\n",
       "   status: 0\n",
       "  success: True\n",
       "        x: array([-105.87688637,  423.15323396, -511.79720207,  513.00492491])\n",
       "                    message: ['requested number of basinhopping iterations completed successfully']\n",
       "      minimization_failures: 0\n",
       "                       nfev: 4300\n",
       "                        nit: 100\n",
       "                       njev: 860\n",
       "                    success: True\n",
       "                          x: array([-105.87688637,  423.15323396, -511.79720207,  513.00492491])"
      ]
     },
     "execution_count": 47,
     "metadata": {},
     "output_type": "execute_result"
    }
   ],
   "source": [
    "results['BH'] = optimize.basinhopping(eggholder, bounds)\n",
    "results['BH']"
   ]
  },
  {
   "cell_type": "code",
   "execution_count": 48,
   "metadata": {},
   "outputs": [
    {
     "data": {
      "text/plain": [
       "     fun: -959.6406627208498\n",
       "    funl: array([-959.64066272, -959.64066272, -959.64066272, -935.33795156,\n",
       "       -935.33795156, -935.33795156, -935.33795156, -935.33795156,\n",
       "       -935.33795156, -894.57890039, -894.57890039, -894.57890039,\n",
       "       -894.57890039, -894.57890039, -894.57890039, -894.57890039,\n",
       "       -894.57890039, -894.57890039, -894.57890039, -888.94912527,\n",
       "       -888.94912527, -888.94912527, -888.94912527, -888.94912527,\n",
       "       -821.19646107, -821.19646107, -821.19646107, -821.19646107,\n",
       "       -821.19646107, -821.19646107, -821.19646107, -821.19646107,\n",
       "       -821.19646107, -786.52599408, -786.52599408, -786.52599408,\n",
       "       -786.52599408, -753.05015469, -753.05015469, -738.03782981,\n",
       "       -738.03782981, -738.03782981, -738.03782981, -738.03782981,\n",
       "       -738.03782981, -718.16745962, -718.16745962, -718.16745962,\n",
       "       -718.16745962, -718.16745962, -718.16745962, -718.16745962,\n",
       "       -716.67150034, -716.67150034, -716.67150034, -716.67150034,\n",
       "       -716.67150034, -716.67150034, -716.67150034, -716.67150034,\n",
       "       -716.67150034, -716.67150034, -716.67150034, -716.67150034,\n",
       "       -716.67150034, -716.16462286, -716.16462286, -716.16462286,\n",
       "       -716.16462286, -715.98011361, -704.80659592, -704.80659592,\n",
       "       -704.80659592, -704.80659592, -704.80659592, -633.84230224,\n",
       "       -633.84230224, -633.84230224, -633.84230224, -633.84230224,\n",
       "       -633.84230224, -633.84230224, -633.84230224, -633.84230224,\n",
       "       -633.84230224, -629.63368128, -629.63368128, -629.63368128,\n",
       "       -629.63368128, -629.63368128, -629.63368128, -629.63368128,\n",
       "       -604.99863521, -604.99863521, -582.30628005, -582.30628005,\n",
       "       -582.30628005, -582.30628005, -582.30628005, -565.99778097,\n",
       "       -565.99778097, -565.99778097, -565.99778097, -565.99778097,\n",
       "       -565.99778097, -565.99778097, -565.99778097, -565.99778097,\n",
       "       -565.99778097, -565.99778097, -565.99778097, -565.99778097,\n",
       "       -565.99778097, -565.99778097, -565.99778097, -562.1274633 ,\n",
       "       -560.45186217, -560.45186217, -559.78685655, -559.78685655,\n",
       "       -559.78685655, -559.78685655, -559.78685655, -559.78685655,\n",
       "       -559.78685655, -558.5207321 , -558.5207321 , -558.5207321 ,\n",
       "       -558.5207321 , -558.5207321 , -558.5207321 , -558.16639963,\n",
       "       -558.16639963, -558.16639963, -558.14019117, -558.14019117,\n",
       "       -557.85777903, -557.85777903, -557.85777903, -557.85777903,\n",
       "       -557.36868733, -557.36868733, -557.36868733, -557.36868733,\n",
       "       -557.36868733, -540.42629519, -540.42629519, -540.42629519,\n",
       "       -540.42629519, -540.42629519, -512.39026451, -512.39026451,\n",
       "       -512.39026451, -512.39026451, -507.87385942, -507.87385942,\n",
       "       -507.87385942, -507.87385942, -507.87385942, -507.87385942,\n",
       "       -507.87385942, -507.87385942, -507.87385942, -493.9605115 ,\n",
       "       -493.9605115 , -493.9605115 , -493.9605115 , -493.9605115 ,\n",
       "       -493.9605115 , -493.9605115 , -469.72292818, -445.047487  ,\n",
       "       -445.047487  , -445.047487  , -443.49738405, -443.49738405,\n",
       "       -443.49738405, -426.48799655, -426.48799655, -426.48799655,\n",
       "       -426.48799655, -426.48799655, -426.48799655, -426.48799655,\n",
       "       -425.30150588, -425.30150588, -425.30150588, -425.30150588,\n",
       "       -425.30150588, -425.30150588, -422.21078331, -421.15571437,\n",
       "       -421.15571437, -421.15571437, -421.15571437, -421.15571437,\n",
       "       -421.15571437, -421.15571437, -420.13950974, -420.13950974,\n",
       "       -420.13950974, -419.82642263, -419.82642263, -419.82642263,\n",
       "       -419.82642263, -419.31194957, -419.31194957, -419.31194957,\n",
       "       -419.31194957, -410.98477763, -410.98477763, -395.80182463,\n",
       "       -395.80182463, -369.95153896, -362.41355122, -362.41355122,\n",
       "       -362.41355122, -362.41355122, -362.41355122, -343.15559055,\n",
       "       -343.15559055, -343.15559055, -343.15559055, -343.15559055,\n",
       "       -343.15559055, -343.15559055, -343.15559055, -307.44505956,\n",
       "       -307.44505956, -307.44505956, -307.44505956, -307.44505956,\n",
       "       -307.16750814, -307.16750814, -307.16750814, -306.72046784,\n",
       "       -306.72046784, -306.72046784, -306.72046784, -306.72046784,\n",
       "       -306.72046784, -306.06407936, -306.06407936, -306.06407936,\n",
       "       -306.06407936, -302.28160328, -302.28160328, -302.28160328,\n",
       "       -302.28160328, -301.50961093, -301.03271395, -301.03271395,\n",
       "       -293.29583236, -293.29583236, -272.60228595, -270.89525201,\n",
       "       -250.65145465, -250.65145465, -212.13354095, -211.18048744,\n",
       "       -211.18048744, -211.18048744, -211.18048744, -206.69740639,\n",
       "       -206.69740639, -206.69740639, -206.69740639, -206.57193954,\n",
       "       -206.57193954, -206.57193954, -206.57193954, -206.57193954,\n",
       "       -203.18194707, -203.18194707, -202.53912972, -202.53912972,\n",
       "       -202.53202424, -174.37078574, -158.68816766, -158.68816766,\n",
       "       -126.82917996, -126.82917996, -126.42383221, -126.42383221,\n",
       "       -123.79416261, -122.89314473, -111.78879673, -111.78879673,\n",
       "        -86.48023019,  -66.84371733,  -65.91403902,  -65.91403902,\n",
       "        -24.75502547,   -7.05533817])\n",
       " message: 'Optimization terminated successfully.'\n",
       "    nfev: 14679\n",
       "     nit: 5\n",
       "   nlfev: 12631\n",
       "   nlhev: 0\n",
       "   nljev: 3388\n",
       " success: True\n",
       "       x: array([512.        , 404.23180605])\n",
       "      xl: array([[ 5.12000000e+02,  4.04231806e+02],\n",
       "       [ 5.12000000e+02,  4.04231806e+02],\n",
       "       [ 5.12000000e+02,  4.04231802e+02],\n",
       "       [ 4.39480997e+02,  4.53977434e+02],\n",
       "       [ 4.39480994e+02,  4.53977432e+02],\n",
       "       [ 4.39481004e+02,  4.53977445e+02],\n",
       "       [ 4.39481007e+02,  4.53977447e+02],\n",
       "       [ 4.39480993e+02,  4.53977439e+02],\n",
       "       [ 4.39480952e+02,  4.53977392e+02],\n",
       "       [-4.65694154e+02,  3.85716700e+02],\n",
       "       [-4.65694149e+02,  3.85716701e+02],\n",
       "       [-4.65694155e+02,  3.85716703e+02],\n",
       "       [-4.65694149e+02,  3.85716708e+02],\n",
       "       [-4.65694134e+02,  3.85716700e+02],\n",
       "       [-4.65694132e+02,  3.85716694e+02],\n",
       "       [-4.65694137e+02,  3.85716684e+02],\n",
       "       [-4.65694163e+02,  3.85716716e+02],\n",
       "       [-4.65694172e+02,  3.85716713e+02],\n",
       "       [-4.65694123e+02,  3.85716695e+02],\n",
       "       [ 3.47326972e+02,  4.99415397e+02],\n",
       "       [ 3.47326975e+02,  4.99415398e+02],\n",
       "       [ 3.47326983e+02,  4.99415404e+02],\n",
       "       [ 3.47326957e+02,  4.99415387e+02],\n",
       "       [ 3.47326938e+02,  4.99415363e+02],\n",
       "       [-3.13972016e+02,  5.12000000e+02],\n",
       "       [-3.13972017e+02,  5.12000000e+02],\n",
       "       [-3.13972018e+02,  5.12000000e+02],\n",
       "       [-3.13972033e+02,  5.12000000e+02],\n",
       "       [-3.13972060e+02,  5.12000000e+02],\n",
       "       [-3.13972063e+02,  5.12000000e+02],\n",
       "       [-3.13972094e+02,  5.12000000e+02],\n",
       "       [-3.13972070e+02,  5.12000000e+02],\n",
       "       [-3.13971892e+02,  5.12000000e+02],\n",
       "       [-4.56885804e+02, -3.82623372e+02],\n",
       "       [-4.56885806e+02, -3.82623367e+02],\n",
       "       [-4.56885793e+02, -3.82623357e+02],\n",
       "       [-4.56885883e+02, -3.82623460e+02],\n",
       "       [-3.90373927e+02, -4.15090160e+02],\n",
       "       [-3.90373932e+02, -4.15090166e+02],\n",
       "       [-3.60561535e+02, -4.29685152e+02],\n",
       "       [-3.60561531e+02, -4.29685147e+02],\n",
       "       [-3.60561550e+02, -4.29685165e+02],\n",
       "       [-3.60561520e+02, -4.29685135e+02],\n",
       "       [-3.60561556e+02, -4.29685171e+02],\n",
       "       [-3.60561511e+02, -4.29685128e+02],\n",
       "       [ 2.83075914e+02, -4.87125662e+02],\n",
       "       [ 2.83075911e+02, -4.87125664e+02],\n",
       "       [ 2.83075911e+02, -4.87125652e+02],\n",
       "       [ 2.83075923e+02, -4.87125658e+02],\n",
       "       [ 2.83075929e+02, -4.87125659e+02],\n",
       "       [ 2.83075928e+02, -4.87125649e+02],\n",
       "       [ 2.83075940e+02, -4.87125661e+02],\n",
       "       [ 3.99558798e+02, -3.67691057e+02],\n",
       "       [ 3.99558797e+02, -3.67691058e+02],\n",
       "       [ 3.99558800e+02, -3.67691057e+02],\n",
       "       [ 3.99558797e+02, -3.67691055e+02],\n",
       "       [ 3.99558794e+02, -3.67691054e+02],\n",
       "       [ 3.99558797e+02, -3.67691059e+02],\n",
       "       [ 3.99558793e+02, -3.67691058e+02],\n",
       "       [ 3.99558804e+02, -3.67691061e+02],\n",
       "       [ 3.99558807e+02, -3.67691061e+02],\n",
       "       [ 3.99558809e+02, -3.67691062e+02],\n",
       "       [ 3.99558788e+02, -3.67691050e+02],\n",
       "       [ 3.99558787e+02, -3.67691058e+02],\n",
       "       [ 3.99558815e+02, -3.67691061e+02],\n",
       "       [ 4.64689985e+02, -3.01553142e+02],\n",
       "       [ 4.64689988e+02, -3.01553142e+02],\n",
       "       [ 4.64689979e+02, -3.01553137e+02],\n",
       "       [ 4.64689981e+02, -3.01553147e+02],\n",
       "       [ 4.94054055e+02, -2.71821961e+02],\n",
       "       [-2.94668201e+02, -4.62019651e+02],\n",
       "       [-2.94668198e+02, -4.62019653e+02],\n",
       "       [-2.94668209e+02, -4.62019656e+02],\n",
       "       [-2.94668221e+02, -4.62019673e+02],\n",
       "       [-2.94668231e+02, -4.62019675e+02],\n",
       "       [-1.74911287e+02, -5.12000000e+02],\n",
       "       [-1.74911288e+02, -5.12000000e+02],\n",
       "       [-1.74911286e+02, -5.12000000e+02],\n",
       "       [-1.74911285e+02, -5.12000000e+02],\n",
       "       [-1.74911291e+02, -5.12000000e+02],\n",
       "       [-1.74911299e+02, -5.12000000e+02],\n",
       "       [-1.74911302e+02, -5.12000000e+02],\n",
       "       [-1.74911309e+02, -5.12000000e+02],\n",
       "       [-1.74911314e+02, -5.12000000e+02],\n",
       "       [-1.74911317e+02, -5.12000000e+02],\n",
       "       [ 4.18560555e+02,  1.71043054e+02],\n",
       "       [ 4.18560555e+02,  1.71043055e+02],\n",
       "       [ 4.18560553e+02,  1.71043053e+02],\n",
       "       [ 4.18560554e+02,  1.71043056e+02],\n",
       "       [ 4.18560553e+02,  1.71043055e+02],\n",
       "       [ 4.18560554e+02,  1.71043048e+02],\n",
       "       [ 4.18560572e+02,  1.71043064e+02],\n",
       "       [-5.12000000e+02,  2.77441005e+02],\n",
       "       [-5.12000000e+02,  2.77441066e+02],\n",
       "       [ 3.24991896e+02,  2.16047565e+02],\n",
       "       [ 3.24991901e+02,  2.16047570e+02],\n",
       "       [ 3.24991900e+02,  2.16047570e+02],\n",
       "       [ 3.24991876e+02,  2.16047551e+02],\n",
       "       [ 3.24991873e+02,  2.16047543e+02],\n",
       "       [-1.05876886e+02,  4.23153236e+02],\n",
       "       [-1.05876893e+02,  4.23153238e+02],\n",
       "       [-1.05876883e+02,  4.23153236e+02],\n",
       "       [-1.05876896e+02,  4.23153237e+02],\n",
       "       [-1.05876890e+02,  4.23153241e+02],\n",
       "       [-1.05876895e+02,  4.23153241e+02],\n",
       "       [-1.05876899e+02,  4.23153238e+02],\n",
       "       [-1.05876899e+02,  4.23153239e+02],\n",
       "       [-1.05876880e+02,  4.23153238e+02],\n",
       "       [-1.05876884e+02,  4.23153226e+02],\n",
       "       [-1.05876906e+02,  4.23153242e+02],\n",
       "       [-1.05876909e+02,  4.23153238e+02],\n",
       "       [-1.05876906e+02,  4.23153230e+02],\n",
       "       [-1.05876865e+02,  4.23153238e+02],\n",
       "       [-1.05876911e+02,  4.23153232e+02],\n",
       "       [-1.05876920e+02,  4.23153237e+02],\n",
       "       [ 2.84953700e+02,  2.35474495e+02],\n",
       "       [ 2.81633473e+02,  2.37089019e+02],\n",
       "       [ 2.81633450e+02,  2.37088996e+02],\n",
       "       [-2.42979257e+02,  2.74380327e+02],\n",
       "       [-2.42979246e+02,  2.74380323e+02],\n",
       "       [-2.42979249e+02,  2.74380319e+02],\n",
       "       [-2.42979243e+02,  2.74380326e+02],\n",
       "       [-2.42979255e+02,  2.74380337e+02],\n",
       "       [-2.42979276e+02,  2.74380333e+02],\n",
       "       [-2.42979229e+02,  2.74380320e+02],\n",
       "       [-3.33446935e+02,  1.81415712e+02],\n",
       "       [-3.33446935e+02,  1.81415713e+02],\n",
       "       [-3.33446936e+02,  1.81415708e+02],\n",
       "       [-3.33446933e+02,  1.81415707e+02],\n",
       "       [-3.33446927e+02,  1.81415706e+02],\n",
       "       [-3.33446937e+02,  1.81415719e+02],\n",
       "       [-3.72461198e+02,  1.41698280e+02],\n",
       "       [-3.72461192e+02,  1.41698277e+02],\n",
       "       [-3.72461191e+02,  1.41698277e+02],\n",
       "       [-3.75716351e+02,  1.38391055e+02],\n",
       "       [-3.75716348e+02,  1.38391053e+02],\n",
       "       [-4.14815698e+02,  9.87301346e+01],\n",
       "       [-4.14815691e+02,  9.87301322e+01],\n",
       "       [-4.14815681e+02,  9.87301298e+01],\n",
       "       [-4.14815711e+02,  9.87301415e+01],\n",
       "       [-5.06258240e+02,  6.31311006e+00],\n",
       "       [-5.06258246e+02,  6.31310887e+00],\n",
       "       [-5.06258235e+02,  6.31311734e+00],\n",
       "       [-5.06258244e+02,  6.31309641e+00],\n",
       "       [-5.06258322e+02,  6.31302271e+00],\n",
       "       [ 2.42037700e+02,  2.56378972e+02],\n",
       "       [ 2.42037698e+02,  2.56378968e+02],\n",
       "       [ 2.42037700e+02,  2.56378968e+02],\n",
       "       [ 2.42037690e+02,  2.56378969e+02],\n",
       "       [ 2.42037717e+02,  2.56378990e+02],\n",
       "       [ 5.12000000e+02,  5.72256125e+01],\n",
       "       [ 5.12000000e+02,  5.72256144e+01],\n",
       "       [ 5.12000000e+02,  5.72256235e+01],\n",
       "       [ 5.12000000e+02,  5.72255346e+01],\n",
       "       [-4.08719805e+02, -1.56101167e+02],\n",
       "       [-4.08719803e+02, -1.56101166e+02],\n",
       "       [-4.08719809e+02, -1.56101167e+02],\n",
       "       [-4.08719801e+02, -1.56101161e+02],\n",
       "       [-4.08719815e+02, -1.56101177e+02],\n",
       "       [-4.08719801e+02, -1.56101172e+02],\n",
       "       [-4.08719826e+02, -1.56101173e+02],\n",
       "       [-4.08719819e+02, -1.56101189e+02],\n",
       "       [-4.08719774e+02, -1.56101136e+02],\n",
       "       [ 1.50232097e+02,  3.01313776e+02],\n",
       "       [ 1.50232098e+02,  3.01313779e+02],\n",
       "       [ 1.50232105e+02,  3.01313777e+02],\n",
       "       [ 1.50232099e+02,  3.01313767e+02],\n",
       "       [ 1.50232105e+02,  3.01313764e+02],\n",
       "       [ 1.50232137e+02,  3.01313800e+02],\n",
       "       [ 1.50232146e+02,  3.01313798e+02],\n",
       "       [-5.12000000e+02, -2.72143093e+02],\n",
       "       [-2.86573334e+02, -2.12084181e+02],\n",
       "       [-2.86573352e+02, -2.12084203e+02],\n",
       "       [-2.86573363e+02, -2.12084212e+02],\n",
       "       [ 4.42181567e+02, -2.42164916e+01],\n",
       "       [ 4.42181554e+02, -2.42165030e+01],\n",
       "       [ 4.42181583e+02, -2.42164795e+01],\n",
       "       [ 9.10092170e+01, -3.91283766e+02],\n",
       "       [ 9.10092192e+01, -3.91283765e+02],\n",
       "       [ 9.10092154e+01, -3.91283767e+02],\n",
       "       [ 9.10092127e+01, -3.91283768e+02],\n",
       "       [ 9.10092271e+01, -3.91283761e+02],\n",
       "       [ 9.10092342e+01, -3.91283768e+02],\n",
       "       [ 9.10092371e+01, -3.91283759e+02],\n",
       "       [ 1.81036294e+01,  3.65965524e+02],\n",
       "       [ 1.81036290e+01,  3.65965526e+02],\n",
       "       [ 1.81036174e+01,  3.65965522e+02],\n",
       "       [ 1.81036188e+01,  3.65965520e+02],\n",
       "       [ 1.81036473e+01,  3.65965518e+02],\n",
       "       [ 1.81036151e+01,  3.65965541e+02],\n",
       "       [ 5.12000000e+02, -2.06328414e+02],\n",
       "       [ 2.02896633e+02, -2.69380421e+02],\n",
       "       [ 2.02896636e+02, -2.69380427e+02],\n",
       "       [ 2.02896641e+02, -2.69380427e+02],\n",
       "       [ 2.02896642e+02, -2.69380423e+02],\n",
       "       [ 2.02896633e+02, -2.69380429e+02],\n",
       "       [ 2.02896652e+02, -2.69380418e+02],\n",
       "       [ 2.02896628e+02, -2.69380439e+02],\n",
       "       [ 2.67375782e+02, -2.02898955e+02],\n",
       "       [ 2.67375782e+02, -2.02898954e+02],\n",
       "       [ 2.67375793e+02, -2.02898959e+02],\n",
       "       [ 2.96570806e+02, -1.73083270e+02],\n",
       "       [ 2.96570801e+02, -1.73083265e+02],\n",
       "       [ 2.96570806e+02, -1.73083273e+02],\n",
       "       [ 2.96570817e+02, -1.73083274e+02],\n",
       "       [ 3.61666238e+02, -1.06964929e+02],\n",
       "       [ 3.61666238e+02, -1.06964929e+02],\n",
       "       [ 3.61666245e+02, -1.06964917e+02],\n",
       "       [ 3.61666269e+02, -1.06964907e+02],\n",
       "       [-2.19406139e+02, -2.44060214e+02],\n",
       "       [-2.19406117e+02, -2.44060194e+02],\n",
       "       [-1.89433422e+02, -2.58480870e+02],\n",
       "       [-1.89433451e+02, -2.58480898e+02],\n",
       "       [-3.69976457e+02, -4.16976457e+02],\n",
       "       [-1.23727608e+02, -2.90318395e+02],\n",
       "       [-1.23727604e+02, -2.90318399e+02],\n",
       "       [-1.23727609e+02, -2.90318386e+02],\n",
       "       [-1.23727599e+02, -2.90318376e+02],\n",
       "       [-1.23727624e+02, -2.90318409e+02],\n",
       "       [ 2.76856560e+02,  2.89119931e+01],\n",
       "       [ 2.76856560e+02,  2.89119923e+01],\n",
       "       [ 2.76856561e+02,  2.89119944e+01],\n",
       "       [ 2.76856561e+02,  2.89119965e+01],\n",
       "       [ 2.76856560e+02,  2.89119918e+01],\n",
       "       [ 2.76856554e+02,  2.89119883e+01],\n",
       "       [ 2.76856554e+02,  2.89119932e+01],\n",
       "       [ 2.76856566e+02,  2.89119981e+01],\n",
       "       [-3.13057524e+02, -5.84530189e+01],\n",
       "       [-3.13057545e+02, -5.84530342e+01],\n",
       "       [-3.13057538e+02, -5.84530468e+01],\n",
       "       [-3.13057584e+02, -5.84530857e+01],\n",
       "       [-3.13057462e+02, -5.84529707e+01],\n",
       "       [ 1.95560723e+02,  5.12000000e+02],\n",
       "       [ 1.95560684e+02,  5.12000000e+02],\n",
       "       [ 1.95560892e+02,  5.12000000e+02],\n",
       "       [-7.61459473e+01,  1.91155151e+02],\n",
       "       [-7.61459446e+01,  1.91155154e+02],\n",
       "       [-7.61459414e+01,  1.91155157e+02],\n",
       "       [-7.61459532e+01,  1.91155149e+02],\n",
       "       [-7.61459388e+01,  1.91155143e+02],\n",
       "       [-7.61459769e+01,  1.91155145e+02],\n",
       "       [-1.56578735e+01, -3.42776544e+02],\n",
       "       [-1.56578827e+01, -3.42776554e+02],\n",
       "       [-1.56578583e+01, -3.42776563e+02],\n",
       "       [-1.56578936e+01, -3.42776530e+02],\n",
       "       [-1.62838551e+02,  9.61303323e+01],\n",
       "       [-1.62838552e+02,  9.61303311e+01],\n",
       "       [-1.62838554e+02,  9.61303306e+01],\n",
       "       [-1.62838543e+02,  9.61303319e+01],\n",
       "       [-2.04610896e+02,  5.28389933e+01],\n",
       "       [-2.43441595e+02,  1.30635704e+01],\n",
       "       [-2.43441589e+02,  1.30635690e+01],\n",
       "       [ 1.80823308e+02,  7.16576088e+01],\n",
       "       [ 1.80823323e+02,  7.16576233e+01],\n",
       "       [ 1.40180647e+02,  9.06886999e+01],\n",
       "       [ 1.36829930e+02,  9.22725785e+01],\n",
       "       [ 9.72733458e+01,  1.11099567e+02],\n",
       "       [ 9.72733543e+01,  1.11099571e+02],\n",
       "       [ 5.12000000e+02,  2.66749222e+02],\n",
       "       [-1.71139309e+02, -9.61191003e+01],\n",
       "       [-1.71139313e+02, -9.61191052e+01],\n",
       "       [-1.71139314e+02, -9.61191032e+01],\n",
       "       [-1.71139322e+02, -9.61191079e+01],\n",
       "       [ 6.12904819e+01, -1.98768316e+02],\n",
       "       [ 6.12904816e+01, -1.98768316e+02],\n",
       "       [ 6.12904823e+01, -1.98768314e+02],\n",
       "       [ 6.12904814e+01, -1.98768318e+02],\n",
       "       [ 1.32258113e+01,  1.51328424e+02],\n",
       "       [ 1.32258088e+01,  1.51328424e+02],\n",
       "       [ 1.32258073e+01,  1.51328431e+02],\n",
       "       [ 1.32258005e+01,  1.51328425e+02],\n",
       "       [ 1.32258372e+01,  1.51328410e+02],\n",
       "       [ 1.22829023e+02, -1.30640079e+02],\n",
       "       [ 1.22829021e+02, -1.30640080e+02],\n",
       "       [ 1.51596026e+02, -1.00610822e+02],\n",
       "       [ 1.51596021e+02, -1.00610825e+02],\n",
       "       [ 2.07646122e+02, -4.28732759e+01],\n",
       "       [-1.01289993e+02, -1.25767102e+02],\n",
       "       [-7.08861882e+01, -1.39660682e+02],\n",
       "       [-7.08861868e+01, -1.39660682e+02],\n",
       "       [-1.08178490e+01, -1.67621018e+02],\n",
       "       [-1.08178466e+01, -1.67621020e+02],\n",
       "       [-4.64509238e+01,  3.81248671e+01],\n",
       "       [-4.64509211e+01,  3.81248680e+01],\n",
       "       [-8.60784039e+01, -6.42281804e+00],\n",
       "       [-1.23460757e+02, -4.55713067e+01],\n",
       "       [ 9.14096495e+01, -1.84374489e+01],\n",
       "       [ 9.14096464e+01, -1.84374484e+01],\n",
       "       [ 4.45354443e+01, -7.68183499e-02],\n",
       "       [ 8.45694649e+00,  1.56509180e+01],\n",
       "       [ 3.16518952e+01, -8.52271687e+01],\n",
       "       [ 3.16518928e+01, -8.52271705e+01],\n",
       "       [-1.97289540e+01, -3.94970415e+01],\n",
       "       [-5.12000000e+02,  2.11852866e+02]])"
      ]
     },
     "execution_count": 48,
     "metadata": {},
     "output_type": "execute_result"
    }
   ],
   "source": [
    "results['shgo_sobol'] = optimize.shgo(eggholder, bounds, n=200, iters=5,sampling_method='sobol')\n",
    "results['shgo_sobol']"
   ]
  },
  {
   "cell_type": "markdown",
   "metadata": {},
   "source": [
    "\n",
    "![](https://cdn.jsdelivr.net/gh/acryan54/images@main/pic/202207221543903.png)"
   ]
  },
  {
   "cell_type": "markdown",
   "metadata": {},
   "source": [
    "#### CASE4 有约束，局部优化\n",
    "\n",
    "- 'COBYLA': 支持不等式约束\n",
    "- **'SLSQP'**: 支持等式、不等式约束(可选给出jacobi矩阵)\n",
    "\n",
    "![](https://cdn.jsdelivr.net/gh/acryan54/images@main/pic/202207221610921.png)\n",
    "\n",
    "注1：'ineq'的'fun'需要$\\geq 0$\n",
    "\n",
    "注2：等式约束可以用Lagrange乘数法转化为无约束问题"
   ]
  },
  {
   "cell_type": "markdown",
   "metadata": {},
   "source": [
    "![](https://cdn.jsdelivr.net/gh/acryan54/images@main/pic/202207221639936.png)\n"
   ]
  },
  {
   "cell_type": "code",
   "execution_count": 41,
   "metadata": {},
   "outputs": [
    {
     "name": "stdout",
     "output_type": "stream",
     "text": [
      "Optimization terminated successfully    (Exit mode 0)\n",
      "            Current function value: 0.34271757499503896\n",
      "            Iterations: 4\n",
      "            Function evaluations: 13\n",
      "            Gradient evaluations: 4\n"
     ]
    },
    {
     "data": {
      "text/plain": [
       "     fun: 0.34271757499503896\n",
       "     jac: array([-0.82675983, -0.41372783])\n",
       " message: 'Optimization terminated successfully'\n",
       "    nfev: 13\n",
       "     nit: 4\n",
       "    njev: 4\n",
       "  status: 0\n",
       " success: True\n",
       "       x: array([0.41494475, 0.1701105 ])"
      ]
     },
     "execution_count": 41,
     "metadata": {},
     "output_type": "execute_result"
    }
   ],
   "source": [
    "from scipy.optimize import minimize\n",
    "import numpy as np\n",
    "\n",
    "def rosen(x):\n",
    "     \"\"\"The Rosenbrock function\"\"\"\n",
    "     return sum(100.0*(x[1:]-x[:-1]**2.0)**2.0 + (1-x[:-1])**2.0)\n",
    "\n",
    "# 约束项\n",
    "# 变量范围约束\n",
    "from scipy.optimize import Bounds\n",
    "bounds = Bounds([0, -0.5], [1.0, 2.0])\n",
    "# 不等式约束\n",
    "ineq_cons = {'type': 'ineq',\n",
    "              'fun' : lambda x: np.array([1 - x[0] - 2*x[1],\n",
    "                                          1 - x[0]**2 - x[1],\n",
    "                                          1 - x[0]**2 + x[1]]),\n",
    "# jac 是fun的梯度矩阵\n",
    "              'jac' : lambda x: np.array([[-1.0, -2.0],\n",
    "                                          [-2*x[0], -1.0],\n",
    "                                          [-2*x[0], 1.0]])}\n",
    "\n",
    "eq_cons = {'type': 'eq',\n",
    "            'fun' : lambda x: np.array([2*x[0] + x[1] - 1]),\n",
    "            'jac' : lambda x: np.array([2.0, 1.0])}\n",
    "\n",
    "# 初始值\n",
    "x0 = np.array([0.5, 0])\n",
    "res = minimize(rosen, x0, \n",
    "                constraints=[eq_cons, ineq_cons],\n",
    "                options={'ftol': 1e-9, 'disp': True},\n",
    "                bounds=bounds)\n",
    "res"
   ]
  }
 ],
 "metadata": {
  "interpreter": {
   "hash": "aa43cd2ccc1ff393b971fd4a3432410e7b10bb4b6c743baaacc4a3f13fd072bf"
  },
  "kernelspec": {
   "display_name": "Python 3.7.0 ('base')",
   "language": "python",
   "name": "python3"
  },
  "language_info": {
   "codemirror_mode": {
    "name": "ipython",
    "version": 3
   },
   "file_extension": ".py",
   "mimetype": "text/x-python",
   "name": "python",
   "nbconvert_exporter": "python",
   "pygments_lexer": "ipython3",
   "version": "3.7.13"
  },
  "orig_nbformat": 4
 },
 "nbformat": 4,
 "nbformat_minor": 2
}
