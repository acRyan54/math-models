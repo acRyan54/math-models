{
 "cells": [
  {
   "cell_type": "markdown",
   "id": "c94c5dc2",
   "metadata": {},
   "source": [
    "<h1 style=\"color: lightblue; text-align: center; font-weight: bold\">非线性规划与模拟退火</h1>\n",
    "\n",
    "主要参考:\n",
    "\n",
    "[scipy.optimize.minimize — SciPy v1.8.1 Manual](https://docs.scipy.org/doc/scipy/reference/generated/scipy.optimize.minimize.html#scipy.optimize.minimize)\n",
    "\n",
    "[Optimization (scipy.optimize) — SciPy v1.8.1 Manual](https://docs.scipy.org/doc/scipy/tutorial/optimize.html)\n",
    "\n",
    "[Disciplined Convex Programming — CVXPY 1.2 documentation](https://www.cvxpy.org/tutorial/dcp/index.html)\n",
    "\n",
    "[Advanced Features — CVXPY 1.2 documentation](https://www.cvxpy.org/tutorial/advanced/index.html#choosing-a-solver)\n",
    "\n",
    "\n",
    "<br><br>\n",
    "\n",
    "## 非线性规划\n",
    "\n",
    "### 一般形式\n",
    "\n",
    "$$\n",
    "\\begin{aligned}\n",
    "&\\min \\quad f(x),\\\\\n",
    "&s.t. \\quad\n",
    "\\begin{cases}\n",
    "g_i(x) \\leq 0, i = 1, 2, \\cdots, m,\\\\\n",
    "h_j(x) = 0, j = 1, 2, \\cdots, l.\n",
    "\\end{cases}\n",
    "\\end{aligned}\n",
    "$$"
   ]
  },
  {
   "attachments": {},
   "cell_type": "markdown",
   "id": "1cc806df",
   "metadata": {},
   "source": [
    "---\n",
    "\n",
    "### $\\bigstar$使用scipy.optimize求解\n",
    "\n",
    "例1【书上例6.4，P206】\n",
    "$$\n",
    "\\begin{aligned}\n",
    "&\\min \\quad \\frac{2+x_1}{1+x_2}-3x_1+4x_3,\\\\\n",
    "&s.t. \\quad\n",
    "0.1\\leq x_i\\leq 0.9,\\quad i=1,2,3\n",
    "\\end{aligned}\n",
    "$$"
   ]
  },
  {
   "cell_type": "code",
   "execution_count": 5,
   "id": "93b7512c",
   "metadata": {},
   "outputs": [
    {
     "data": {
      "text/plain": [
       "      fun: -0.7736842105263159\n",
       " hess_inv: <3x3 LbfgsInvHessProduct with dtype=float64>\n",
       "      jac: array([-2.47368422, -0.80332409,  4.        ])\n",
       "  message: 'CONVERGENCE: NORM_OF_PROJECTED_GRADIENT_<=_PGTOL'\n",
       "     nfev: 8\n",
       "      nit: 1\n",
       "     njev: 2\n",
       "   status: 0\n",
       "  success: True\n",
       "        x: array([0.9, 0.9, 0.1])"
      ]
     },
     "execution_count": 5,
     "metadata": {},
     "output_type": "execute_result"
    }
   ],
   "source": [
    "import numpy as np\n",
    "from scipy import optimize\n",
    "\n",
    "def obj(x): # 目标函数\n",
    "    x1, x2, x3 = x\n",
    "    return (2+x1)/(1+x2) - 3*x1 + 4*x3\n",
    "\n",
    "bnds = list(zip([0.1]*3, [0.9]*3)) # 生成bounds约束的几种写法\n",
    "# bnds = np.tile([0.1, 0.9], (3, 1))\n",
    "# bnds = np.array([0.1, 0.9]*3).reshape((3, 2))\n",
    "\n",
    "res = optimize.minimize(obj, np.ones(3), bounds=bnds) # 第2个参数为初值\n",
    "# 这里用到method='L-BFGS-B'\n",
    "res"
   ]
  },
  {
   "cell_type": "markdown",
   "id": "1f1f546a",
   "metadata": {},
   "source": [
    "\n",
    "<h2 style=\"color: pink; text-align: center; font-weight: bold\">optimize.minimize()方法</h2>\n",
    "\n",
    "![](https://cdn.jsdelivr.net/gh/acryan54/images@main/pic/202207231355830.png)\n",
    "\n",
    "![](https://cdn.jsdelivr.net/gh/acryan54/images@main/pic/202207221543903.png)\n",
    "\n",
    "- method: str or callable, optional; If not given, chosen to be one of 'BFGS', 'L-BFGS-B', 'SLSQP', depending on whether or not the problem has constraints or bounds.\n",
    "\n",
    "- bounds: 写成list, tuple, ndarray都可以,每项(min, max)表示各个变量的范围,None表示无界\n",
    "\n",
    "- constraints: {Constraint, dict} or List of {Constraint, dict}\n",
    "\n",
    "- 如果能计算jacobi矩阵,hessian矩阵,可以写上去提高精度. 在constraints里面也可以加上jacobi \n",
    "\n",
    "<br>\n",
    "\n",
    "\n",
    "constraints的标准格式:\n",
    "\n",
    "![](https://cdn.jsdelivr.net/gh/acryan54/images@main/pic/202207231404699.png)\n",
    "\n",
    "注意: 'ineq'所对应的表达式是**非负的**$\\geq 0$\n",
    "\n",
    "<br>\n",
    " "
   ]
  },
  {
   "attachments": {},
   "cell_type": "markdown",
   "id": "2a67a600",
   "metadata": {},
   "source": [
    "例2 【书上例6.5，P206】\n",
    "$$\n",
    "\\begin{aligned}\n",
    "&\\max \\quad z = x_1^2 + x_2^2 +3x_3^2+4x_4^2+2x_5^2-8x_1-2x_2-3x_3-x_4-2x_5,\\\\\n",
    "&s.t. \\quad\n",
    "\\begin{cases}\n",
    "x_1 + x_2 + x_3+x_4+x_5 \\leq 400,\\\\\n",
    "x_1 + 2x_2 + 2x_3+x_4+6x_5 \\leq 800,\\\\\n",
    "2x_1 +x_2 +6x_3 \\leq 200,\\\\\n",
    "x_3 + x_4 +5x_5\\leq 200,\\\\\n",
    "0 \\leq x_i \\leq 99,\\quad i=1,2,\\cdots,5.\n",
    "\\end{cases}\n",
    "\\end{aligned}\n",
    "$$"
   ]
  },
  {
   "cell_type": "code",
   "execution_count": 6,
   "id": "7a0161ca",
   "metadata": {},
   "outputs": [
    {
     "data": {
      "text/plain": [
       "     fun: 51629.92999503741\n",
       "     jac: array([ -93.        , -196.        ,    3.        , -791.        ,\n",
       "        -78.79980469])\n",
       " message: 'Optimization terminated successfully'\n",
       "    nfev: 15\n",
       "     nit: 2\n",
       "    njev: 2\n",
       "  status: 0\n",
       " success: True\n",
       "       x: array([5.05000000e+01, 9.90000000e+01, 1.85343542e-09, 9.90000000e+01,\n",
       "       2.02000000e+01])"
      ]
     },
     "execution_count": 6,
     "metadata": {},
     "output_type": "execute_result"
    }
   ],
   "source": [
    "import numpy as np\n",
    "from scipy import optimize\n",
    "\n",
    "def obj(x):\n",
    "    c1 = np.array([1, 1, 3, 4, 2])\n",
    "    c2 = np.array([-8, -2, -3, -1, -2])\n",
    "    return -(c1 @ x**2 + c2 @ x) # 记得加负号\n",
    "def g1(x):\n",
    "    return b - A @ x # 非负\n",
    "\n",
    "\n",
    "A = np.array([[1, 1, 1, 1, 1],\n",
    "              [1, 2, 2, 1, 6],\n",
    "              [2, 1, 6, 0, 0],\n",
    "              [0, 0, 1, 1, 5]])\n",
    "b = np.array([400, 800, 200, 200])\n",
    "bnds = np.tile([0, 99], (5, 1))\n",
    "cons = {'type': 'ineq',\n",
    "        'fun': g1} # 保证'fun'>=0\n",
    "res = optimize.minimize(obj, np.ones(5)*(1000), constraints=cons, bounds=bnds) \n",
    "# 只能求出局部极值，要多尝试几个初值\n",
    "# 事实上这不是一个凸规划，局部最优解不等于全局最优解\n",
    "# 这里用到method='SLSQP'\n",
    "res.fun *= -1\n",
    "res"
   ]
  },
  {
   "cell_type": "markdown",
   "id": "a46a184e",
   "metadata": {},
   "source": [
    "<h2 style=\"color: pink; text-align: center; font-weight: bold\">optimize中的全局优化方法</h2>\n"
   ]
  },
  {
   "cell_type": "code",
   "execution_count": 2,
   "id": "f96d1d61",
   "metadata": {},
   "outputs": [
    {
     "data": {
      "image/png": "[encoded data removed]",
      "text/plain": [
       "<Figure size 432x288 with 1 Axes>"
      ]
     },
     "metadata": {
      "needs_background": "light"
     },
     "output_type": "display_data"
    }
   ],
   "source": [
    "import numpy as np\n",
    "import matplotlib.pyplot as plt\n",
    "from scipy import optimize\n",
    "\n",
    "\n",
    "def eggholder(x):\n",
    "    return (-(x[1] + 47) * np.sin(np.sqrt(abs(x[0]/2 + (x[1] + 47))))\n",
    "            - x[0] * np.sin(np.sqrt(abs(x[0] - (x[1] + 47)))))\n",
    "\n",
    "\n",
    "bounds = [(-512, 512), (-512, 512)]\n",
    "\n",
    "x = np.arange(-512, 513)\n",
    "y = np.arange(-512, 513)\n",
    "xgrid, ygrid = np.meshgrid(x, y)\n",
    "xy = np.stack([xgrid, ygrid]) # 直接在axis=0堆起来，xy[0]=x,xy[1]=y\n",
    "\n",
    "fig = plt.figure()\n",
    "ax = fig.add_subplot(111, projection='3d')\n",
    "ax.view_init(45, -45)\n",
    "ax.plot_surface(xgrid, ygrid, eggholder(xy), cmap='terrain')\n",
    "ax.set_xlabel('x')\n",
    "ax.set_ylabel('y')\n",
    "ax.set_zlabel('eggholder(x, y)')\n",
    "plt.show()\n"
   ]
  },
  {
   "cell_type": "code",
   "execution_count": 115,
   "id": "32d844c8",
   "metadata": {},
   "outputs": [],
   "source": [
    "results = dict()\n",
    "results['brute'] = optimize.brute(eggholder, bounds, Ns=20, full_output=True)\n",
    "results['shgo'] = optimize.shgo(eggholder, bounds)\n",
    "results['DA'] = optimize.dual_annealing(eggholder, bounds)\n",
    "results['DE'] = optimize.differential_evolution(eggholder, bounds)\n",
    "results['BH'] = optimize.basinhopping(eggholder, bounds)\n",
    "results['shgo_sobol'] = optimize.shgo(eggholder, bounds, n=200, iters=5,sampling_method='sobol')\n",
    "\n",
    "# results['brute'] # 暴力算法\n",
    "# results['shgo'] # 单纯同调全局优化\n",
    "# results['DA'] # 模拟退火\n",
    "# results['DE'] # 差分进化\n",
    "# results['BH'] # 盆地跳跃\n",
    "# results['shgo_sobol'] # 可以返回计算出的局部极小值"
   ]
  },
  {
   "attachments": {},
   "cell_type": "markdown",
   "id": "853f40ab",
   "metadata": {},
   "source": [
    "---\n",
    "\n",
    "### $\\bigstar$使用cvxpy求解\n",
    "\n",
    "例3【书上例6.7，P208】\n",
    "$$\n",
    "\\begin{aligned}\n",
    "&\\min \\quad z = x_1^2 + x_2^2 +3x_3^2+4x_4^2+2x_5^2-8x_1-2x_2-3x_3-x_4-2x_5,\\\\\n",
    "&s.t. \\quad\n",
    "\\begin{cases}\n",
    "0\\leq x_i\\leq 99,\\quad 且x_i为整数（i=1,\\cdots ,5),\\\\\n",
    "x_1 + x_2+x_3+x_4+x_5\\leq 400,\\\\\n",
    "x_1 + 2x_2 +2x_3+x_4+6x_5\\leq 800,\\\\\n",
    "2x_1+x_2 +6x_3 \\leq 200,\\\\\n",
    "x_3 + x_4 +5x_5\\leq 200,\n",
    "\\end{cases}\n",
    "\\end{aligned}\n",
    "$$"
   ]
  },
  {
   "cell_type": "code",
   "execution_count": 25,
   "id": "a9d3693c",
   "metadata": {
    "scrolled": true
   },
   "outputs": [
    {
     "name": "stdout",
     "output_type": "stream",
     "text": [
      "0.0\n",
      "[3. 1. 1. 1. 1.]\n"
     ]
    }
   ],
   "source": [
    "import numpy as np\n",
    "import cvxpy as cp \n",
    "\n",
    "c1 = np.array([1, 1, 3, 4, 2])\n",
    "c2 = np.array([-8, -2, -3, -1, -2])\n",
    "A = np.array([[1, 1, 1, 1, 1],\n",
    "              [1, 2, 2, 1, 6],\n",
    "              [2, 1, 6, 0, 0],\n",
    "              [0, 0, 1, 1, 5]])\n",
    "b = np.array([400, 800, 200, 200])\n",
    "\n",
    "\n",
    "x = cp.Variable(5, integer=True)\n",
    "z = cp.Variable(pos=True)\n",
    "cons = [A @ x <= b, 0 <= x, x <= 99, z >= c1 @ x**2 + c2 @ x]\n",
    "# obj = cp.Minimize(c1 @ x**2 + c2 @ x) # pyscipopt的接口要求目标函数中不能包含非线性项\n",
    "obj = cp.Minimize(z) # pyscipopt的接口要求目标函数中不能包含非线性项\n",
    "                                        \n",
    "# x = cp.Variable(3, integer=True) # 更改题目: 如果x只有3个变量是整数呢? \n",
    "# y = cp.Variable(2)\n",
    "# obj = cp.Minimize(c1 @ cp.hstack((x,y))**2 + c2 @ cp.hstack((x,y)))\n",
    "# cons = [A @ cp.hstack((x,y)) <= b, 0 <= cp.hstack((x,y)), cp.hstack((x,y)) <= 99]\n",
    "\n",
    "\n",
    "prob = cp.Problem(obj, cons)\n",
    "# prob.solve()\n",
    "# prob.solve(solver='GLPK_MI') # 无法求解\n",
    "prob.solve(solver='ECOS_BB') # 解可能有错\n",
    "# prob.solve(solver='SCIP') # 注意格式（pyscipopt的接口要求目标函数中不能包含非线性项）\n",
    "\n",
    "print(prob.value, x.value, sep='\\n')"
   ]
  },
  {
   "cell_type": "code",
   "execution_count": 31,
   "id": "16275f10",
   "metadata": {},
   "outputs": [
    {
     "ename": "DCPError",
     "evalue": "Problem does not follow DCP rules. Specifically:\nThe objective is not DCP. Its following subexpressions are not:\nabs(var1417) @ abs(var1418)",
     "output_type": "error",
     "traceback": [
      "\u001b[1;31m---------------------------------------------------------------------------\u001b[0m",
      "\u001b[1;31mDCPError\u001b[0m                                  Traceback (most recent call last)",
      "\u001b[1;32m~\\AppData\\Local\\Temp\\ipykernel_24664\\880647345.py\u001b[0m in \u001b[0;36m<module>\u001b[1;34m\u001b[0m\n\u001b[0;32m     10\u001b[0m \u001b[0mprob\u001b[0m \u001b[1;33m=\u001b[0m \u001b[0mcp\u001b[0m\u001b[1;33m.\u001b[0m\u001b[0mProblem\u001b[0m\u001b[1;33m(\u001b[0m\u001b[0mobj\u001b[0m\u001b[1;33m,\u001b[0m \u001b[0mcons\u001b[0m\u001b[1;33m)\u001b[0m\u001b[1;33m\u001b[0m\u001b[1;33m\u001b[0m\u001b[0m\n\u001b[0;32m     11\u001b[0m \u001b[1;31m# prob.solve(solver='SCIP')\u001b[0m\u001b[1;33m\u001b[0m\u001b[1;33m\u001b[0m\u001b[1;33m\u001b[0m\u001b[0m\n\u001b[1;32m---> 12\u001b[1;33m \u001b[0mprob\u001b[0m\u001b[1;33m.\u001b[0m\u001b[0msolve\u001b[0m\u001b[1;33m(\u001b[0m\u001b[0msolver\u001b[0m\u001b[1;33m=\u001b[0m\u001b[1;34m'SCIP'\u001b[0m\u001b[1;33m)\u001b[0m\u001b[1;33m\u001b[0m\u001b[1;33m\u001b[0m\u001b[0m\n\u001b[0m\u001b[0;32m     13\u001b[0m \u001b[1;33m\u001b[0m\u001b[0m\n\u001b[0;32m     14\u001b[0m \u001b[0mprint\u001b[0m\u001b[1;33m(\u001b[0m\u001b[0mprob\u001b[0m\u001b[1;33m.\u001b[0m\u001b[0mvalue\u001b[0m\u001b[1;33m,\u001b[0m \u001b[0mx\u001b[0m\u001b[1;33m.\u001b[0m\u001b[0mvalue\u001b[0m\u001b[1;33m,\u001b[0m \u001b[0msep\u001b[0m\u001b[1;33m=\u001b[0m\u001b[1;34m'\\n'\u001b[0m\u001b[1;33m)\u001b[0m\u001b[1;33m\u001b[0m\u001b[1;33m\u001b[0m\u001b[0m\n",
      "\u001b[1;32mD:\\Softwares\\anaconda3\\lib\\site-packages\\cvxpy\\problems\\problem.py\u001b[0m in \u001b[0;36msolve\u001b[1;34m(self, *args, **kwargs)\u001b[0m\n\u001b[0;32m    479\u001b[0m         \u001b[1;32melse\u001b[0m\u001b[1;33m:\u001b[0m\u001b[1;33m\u001b[0m\u001b[1;33m\u001b[0m\u001b[0m\n\u001b[0;32m    480\u001b[0m             \u001b[0msolve_func\u001b[0m \u001b[1;33m=\u001b[0m \u001b[0mProblem\u001b[0m\u001b[1;33m.\u001b[0m\u001b[0m_solve\u001b[0m\u001b[1;33m\u001b[0m\u001b[1;33m\u001b[0m\u001b[0m\n\u001b[1;32m--> 481\u001b[1;33m         \u001b[1;32mreturn\u001b[0m \u001b[0msolve_func\u001b[0m\u001b[1;33m(\u001b[0m\u001b[0mself\u001b[0m\u001b[1;33m,\u001b[0m \u001b[1;33m*\u001b[0m\u001b[0margs\u001b[0m\u001b[1;33m,\u001b[0m \u001b[1;33m**\u001b[0m\u001b[0mkwargs\u001b[0m\u001b[1;33m)\u001b[0m\u001b[1;33m\u001b[0m\u001b[1;33m\u001b[0m\u001b[0m\n\u001b[0m\u001b[0;32m    482\u001b[0m \u001b[1;33m\u001b[0m\u001b[0m\n\u001b[0;32m    483\u001b[0m     \u001b[1;33m@\u001b[0m\u001b[0mclassmethod\u001b[0m\u001b[1;33m\u001b[0m\u001b[1;33m\u001b[0m\u001b[0m\n",
      "\u001b[1;32mD:\\Softwares\\anaconda3\\lib\\site-packages\\cvxpy\\problems\\problem.py\u001b[0m in \u001b[0;36m_solve\u001b[1;34m(self, solver, warm_start, verbose, gp, qcp, requires_grad, enforce_dpp, ignore_dpp, **kwargs)\u001b[0m\n\u001b[0;32m   1006\u001b[0m \u001b[1;33m\u001b[0m\u001b[0m\n\u001b[0;32m   1007\u001b[0m         data, solving_chain, inverse_data = self.get_problem_data(\n\u001b[1;32m-> 1008\u001b[1;33m             solver, gp, enforce_dpp, ignore_dpp, verbose)\n\u001b[0m\u001b[0;32m   1009\u001b[0m \u001b[1;33m\u001b[0m\u001b[0m\n\u001b[0;32m   1010\u001b[0m         \u001b[1;32mif\u001b[0m \u001b[0mverbose\u001b[0m\u001b[1;33m:\u001b[0m\u001b[1;33m\u001b[0m\u001b[1;33m\u001b[0m\u001b[0m\n",
      "\u001b[1;32mD:\\Softwares\\anaconda3\\lib\\site-packages\\cvxpy\\problems\\problem.py\u001b[0m in \u001b[0;36mget_problem_data\u001b[1;34m(self, solver, gp, enforce_dpp, ignore_dpp, verbose)\u001b[0m\n\u001b[0;32m    608\u001b[0m                 \u001b[0msolver\u001b[0m\u001b[1;33m=\u001b[0m\u001b[0msolver\u001b[0m\u001b[1;33m,\u001b[0m \u001b[0mgp\u001b[0m\u001b[1;33m=\u001b[0m\u001b[0mgp\u001b[0m\u001b[1;33m,\u001b[0m\u001b[1;33m\u001b[0m\u001b[1;33m\u001b[0m\u001b[0m\n\u001b[0;32m    609\u001b[0m                 \u001b[0menforce_dpp\u001b[0m\u001b[1;33m=\u001b[0m\u001b[0menforce_dpp\u001b[0m\u001b[1;33m,\u001b[0m\u001b[1;33m\u001b[0m\u001b[1;33m\u001b[0m\u001b[0m\n\u001b[1;32m--> 610\u001b[1;33m                 ignore_dpp=ignore_dpp)\n\u001b[0m\u001b[0;32m    611\u001b[0m             \u001b[0mself\u001b[0m\u001b[1;33m.\u001b[0m\u001b[0m_cache\u001b[0m\u001b[1;33m.\u001b[0m\u001b[0mkey\u001b[0m \u001b[1;33m=\u001b[0m \u001b[0mkey\u001b[0m\u001b[1;33m\u001b[0m\u001b[1;33m\u001b[0m\u001b[0m\n\u001b[0;32m    612\u001b[0m             \u001b[0mself\u001b[0m\u001b[1;33m.\u001b[0m\u001b[0m_cache\u001b[0m\u001b[1;33m.\u001b[0m\u001b[0msolving_chain\u001b[0m \u001b[1;33m=\u001b[0m \u001b[0msolving_chain\u001b[0m\u001b[1;33m\u001b[0m\u001b[1;33m\u001b[0m\u001b[0m\n",
      "\u001b[1;32mD:\\Softwares\\anaconda3\\lib\\site-packages\\cvxpy\\problems\\problem.py\u001b[0m in \u001b[0;36m_construct_chain\u001b[1;34m(self, solver, gp, enforce_dpp, ignore_dpp)\u001b[0m\n\u001b[0;32m    845\u001b[0m         return construct_solving_chain(self, candidate_solvers, gp=gp,\n\u001b[0;32m    846\u001b[0m                                        \u001b[0menforce_dpp\u001b[0m\u001b[1;33m=\u001b[0m\u001b[0menforce_dpp\u001b[0m\u001b[1;33m,\u001b[0m\u001b[1;33m\u001b[0m\u001b[1;33m\u001b[0m\u001b[0m\n\u001b[1;32m--> 847\u001b[1;33m                                        ignore_dpp=ignore_dpp)\n\u001b[0m\u001b[0;32m    848\u001b[0m \u001b[1;33m\u001b[0m\u001b[0m\n\u001b[0;32m    849\u001b[0m     \u001b[1;33m@\u001b[0m\u001b[0mstaticmethod\u001b[0m\u001b[1;33m\u001b[0m\u001b[1;33m\u001b[0m\u001b[0m\n",
      "\u001b[1;32mD:\\Softwares\\anaconda3\\lib\\site-packages\\cvxpy\\reductions\\solvers\\solving_chain.py\u001b[0m in \u001b[0;36mconstruct_solving_chain\u001b[1;34m(problem, candidates, gp, enforce_dpp, ignore_dpp)\u001b[0m\n\u001b[0;32m    160\u001b[0m     \u001b[1;32mif\u001b[0m \u001b[0mlen\u001b[0m\u001b[1;33m(\u001b[0m\u001b[0mproblem\u001b[0m\u001b[1;33m.\u001b[0m\u001b[0mvariables\u001b[0m\u001b[1;33m(\u001b[0m\u001b[1;33m)\u001b[0m\u001b[1;33m)\u001b[0m \u001b[1;33m==\u001b[0m \u001b[1;36m0\u001b[0m\u001b[1;33m:\u001b[0m\u001b[1;33m\u001b[0m\u001b[1;33m\u001b[0m\u001b[0m\n\u001b[0;32m    161\u001b[0m         \u001b[1;32mreturn\u001b[0m \u001b[0mSolvingChain\u001b[0m\u001b[1;33m(\u001b[0m\u001b[0mreductions\u001b[0m\u001b[1;33m=\u001b[0m\u001b[1;33m[\u001b[0m\u001b[0mConstantSolver\u001b[0m\u001b[1;33m(\u001b[0m\u001b[1;33m)\u001b[0m\u001b[1;33m]\u001b[0m\u001b[1;33m)\u001b[0m\u001b[1;33m\u001b[0m\u001b[1;33m\u001b[0m\u001b[0m\n\u001b[1;32m--> 162\u001b[1;33m     \u001b[0mreductions\u001b[0m \u001b[1;33m=\u001b[0m \u001b[0m_reductions_for_problem_class\u001b[0m\u001b[1;33m(\u001b[0m\u001b[0mproblem\u001b[0m\u001b[1;33m,\u001b[0m \u001b[0mcandidates\u001b[0m\u001b[1;33m,\u001b[0m \u001b[0mgp\u001b[0m\u001b[1;33m)\u001b[0m\u001b[1;33m\u001b[0m\u001b[1;33m\u001b[0m\u001b[0m\n\u001b[0m\u001b[0;32m    163\u001b[0m \u001b[1;33m\u001b[0m\u001b[0m\n\u001b[0;32m    164\u001b[0m     \u001b[1;31m# Process DPP status of the problem.\u001b[0m\u001b[1;33m\u001b[0m\u001b[1;33m\u001b[0m\u001b[1;33m\u001b[0m\u001b[0m\n",
      "\u001b[1;32mD:\\Softwares\\anaconda3\\lib\\site-packages\\cvxpy\\reductions\\solvers\\solving_chain.py\u001b[0m in \u001b[0;36m_reductions_for_problem_class\u001b[1;34m(problem, candidates, gp)\u001b[0m\n\u001b[0;32m     93\u001b[0m                        \"Consider calling solve() with `qcp=True`.\")\n\u001b[0;32m     94\u001b[0m         raise DCPError(\n\u001b[1;32m---> 95\u001b[1;33m             \"Problem does not follow DCP rules. Specifically:\\n\" + append)\n\u001b[0m\u001b[0;32m     96\u001b[0m     \u001b[1;32melif\u001b[0m \u001b[0mgp\u001b[0m \u001b[1;32mand\u001b[0m \u001b[1;32mnot\u001b[0m \u001b[0mproblem\u001b[0m\u001b[1;33m.\u001b[0m\u001b[0mis_dgp\u001b[0m\u001b[1;33m(\u001b[0m\u001b[1;33m)\u001b[0m\u001b[1;33m:\u001b[0m\u001b[1;33m\u001b[0m\u001b[1;33m\u001b[0m\u001b[0m\n\u001b[0;32m     97\u001b[0m         \u001b[0mappend\u001b[0m \u001b[1;33m=\u001b[0m \u001b[0mbuild_non_disciplined_error_msg\u001b[0m\u001b[1;33m(\u001b[0m\u001b[0mproblem\u001b[0m\u001b[1;33m,\u001b[0m \u001b[1;34m'DGP'\u001b[0m\u001b[1;33m)\u001b[0m\u001b[1;33m\u001b[0m\u001b[1;33m\u001b[0m\u001b[0m\n",
      "\u001b[1;31mDCPError\u001b[0m: Problem does not follow DCP rules. Specifically:\nThe objective is not DCP. Its following subexpressions are not:\nabs(var1417) @ abs(var1418)"
     ]
    }
   ],
   "source": [
    "# DEBUG: 似乎用scip也不能\n",
    "import numpy as np\n",
    "import cvxpy as cp\n",
    "\n",
    "x = cp.Variable(integer=True)\n",
    "y = cp.Variable(integer=True)\n",
    "# z = cp.Variable(integer=True)\n",
    "cons = [0 <= x, x <= 5, 0 <= y, y <= 5, 2*x+y <= 8]\n",
    "obj = cp.Maximize(cp.abs(x) * cp.abs(y))\n",
    "prob = cp.Problem(obj, cons)\n",
    "# prob.solve(solver='SCIP')\n",
    "prob.solve(solver='SCIP')\n",
    "\n",
    "print(prob.value, x.value, sep='\\n')"
   ]
  },
  {
   "cell_type": "code",
   "execution_count": 36,
   "id": "ff6a1202",
   "metadata": {},
   "outputs": [
    {
     "name": "stdout",
     "output_type": "stream",
     "text": [
      "2.0\n",
      "4.0\n",
      "8.0\n"
     ]
    }
   ],
   "source": [
    "from pyscipopt import Model\n",
    "\n",
    "md = Model()\n",
    "x = md.addVar('x', lb=0, ub=5, vtype='I')\n",
    "y = md.addVar('y', lb=0, ub=5, vtype='I')\n",
    "z = md.addVar('z')\n",
    "md.setObjective(z, sense='maximize')\n",
    "md.addCons(2*x + y <= 8)\n",
    "md.addCons(x * y == z)\n",
    "\n",
    "md.optimize()\n",
    "sol = md.getBestSol()\n",
    "print(sol[x], sol[y], sol[z], sep='\\n')"
   ]
  },
  {
   "cell_type": "code",
   "execution_count": null,
   "id": "16a54e2a",
   "metadata": {},
   "outputs": [
    {
     "data": {
      "text/plain": [
       "['CVXOPT', 'ECOS', 'ECOS_BB', 'GLPK', 'GLPK_MI', 'OSQP', 'SCIPY', 'SCS']"
      ]
     },
     "execution_count": 8,
     "metadata": {},
     "output_type": "execute_result"
    }
   ],
   "source": [
    "cp.installed_solvers() # 查看已安装的求解器类型"
   ]
  },
  {
   "cell_type": "markdown",
   "id": "5820a43a",
   "metadata": {},
   "source": [
    "<h2 style=\"color: pink; text-align: center; font-weight: bold\">使用cvxpy的注意事项与求解器</h2>\n",
    "\n",
    "- 整数规划 & 混合整数规划\n",
    "\n",
    "The preferred open source mixed-integer solvers in CVXPY are GLPK_MI, CBC and SCIP. \n",
    "\n",
    "SCIP supports nonlinear models, but **GLPK_MI** and CBC do not.\n",
    "\n",
    "CVXPY comes with **ECOS_BB** – an open source mixed-integer nonlinear solver – by default. However ECOS_BB will not be called automatically; you must explicitly call prob.solve(solver='ECOS_BB') if you want to use it (changed in CVXPY 1.1.6). This policy stems from the fact that there are recurring correctness issues with ECOS_BB. If you rely on this solver for some application then you need to be aware of the increased risks that come with using it. If you need to use an open-source mixed-integer nonlinear solver from CVXPY, then we recommend you install SCIP.\n",
    "\n",
    "- 默认求解器\n",
    "\n",
    "By default CVXPY calls the solver most specialized to the problem type. For example, **ECOS** is called for SOCPs. **SCS** can handle all problems (except mixed-integer programs). If the problem is a QP, CVXPY will use **OSQP**.\n",
    "\n",
    "LP线性规划 QP二次规划 SOCP二阶锥规划 SDP半正定规划 EXP POW MIP混合整数规划\n",
    "\n",
    "![](https://cdn.jsdelivr.net/gh/acryan54/images@main/pic/202207230228877.png)"
   ]
  },
  {
   "cell_type": "markdown",
   "id": "35d7cc27",
   "metadata": {},
   "source": [
    "例4【补充例题】\n",
    "\n",
    "$$\n",
    "\\begin{aligned}\n",
    "&\\min \\quad z = 0.5x_1^2 + x_2^2 -x_1x_2-2x_1-6x_2,\\\\\n",
    "&s.t. \\quad\n",
    "\\begin{cases}\n",
    "x_1+x_2 \\leq 2,\\\\\n",
    "-x_1+2x_2\\leq 2,\\\\\n",
    "2x_1+x_2\\leq 3,\\\\\n",
    "x_1 \\geq 0.\n",
    "\\end{cases}\n",
    "\\end{aligned}\n",
    "$$"
   ]
  },
  {
   "cell_type": "code",
   "execution_count": 118,
   "id": "0025208a",
   "metadata": {},
   "outputs": [
    {
     "name": "stdout",
     "output_type": "stream",
     "text": [
      "-8.222222222222223\n",
      "[0.66666667 1.33333333]\n"
     ]
    }
   ],
   "source": [
    "import numpy as np\n",
    "import cvxpy as cp\n",
    "\n",
    "H = np.array([[0.5, -0.5],\n",
    "              [-0.5, 1]]) # 正定\n",
    "g = np.array([-2, -6])\n",
    "A = np.array([[1, 1],\n",
    "              [-1, 2],\n",
    "              [2, 1]])\n",
    "b = np.array([2, 2, 3])\n",
    "\n",
    "x = cp.Variable(2)\n",
    "obj = cp.Minimize(cp.quad_form(x, H) + g @ x)\n",
    "# obj = cp.Minimize(x @ H @ x + g @ x) # 不满足DCP规则\n",
    "cons = [A @ x <= b, x[0] >= 0]\n",
    "prob = cp.Problem(obj, cons)\n",
    "prob.solve()\n",
    "\n",
    "print(prob.value, x.value, sep='\\n')"
   ]
  },
  {
   "cell_type": "markdown",
   "id": "58797230",
   "metadata": {},
   "source": [
    "<h2 style=\"color: pink; text-align: center; font-weight: bold\">DCP规则:是否为凸规划?</h2>\n",
    "\n",
    "![](https://cdn.jsdelivr.net/gh/acryan54/images@main/pic/202207231325663.png)\n",
    "\n",
    "![](https://cdn.jsdelivr.net/gh/acryan54/images@main/pic/202207231325221.png)"
   ]
  },
  {
   "cell_type": "code",
   "execution_count": 77,
   "id": "b13b7616",
   "metadata": {},
   "outputs": [
    {
     "data": {
      "text/plain": [
       "True"
      ]
     },
     "execution_count": 77,
     "metadata": {},
     "output_type": "execute_result"
    }
   ],
   "source": [
    "# 举一些例子: \n",
    "\n",
    "import numpy as np\n",
    "import cvxpy as cp\n",
    "\n",
    "x = cp.Variable()\n",
    "# x = cp.Variable(neg=True)\n",
    "a = cp.Parameter(nonneg=True)\n",
    "\n",
    "# x**3 # 凸\n",
    "# cp.sqrt(1 + x**2).curvature # 拟凸\n",
    "# cp.norm2(cp.hstack([1, x])).curvature # 凸\n",
    "\n",
    "# cp.sqrt(x).curvature # 凹\n",
    "# x.is_affine()\n",
    "# x.is_convex()\n",
    "# x.is_concave()\n",
    "# a.is_constant()\n",
    "# a.is_affine()"
   ]
  },
  {
   "cell_type": "code",
   "execution_count": 148,
   "id": "07576384",
   "metadata": {},
   "outputs": [
    {
     "name": "stdout",
     "output_type": "stream",
     "text": [
      "0.5857864372505059\n",
      "[0.29289322 0.29289322]\n"
     ]
    }
   ],
   "source": [
    "# min |x1| + |x2| + .. + |xn| 也可以不需要换元就转化成标准的凸规划问题\n",
    "# x在以(1,1)为圆心半径为1的圆内\n",
    "import numpy as np\n",
    "import cvxpy as cp\n",
    "x = cp.Variable(2)\n",
    "cons = [cp.norm(x - 1, 2) <= 1, x >= 0]\n",
    "\n",
    "obj = cp.Minimize(cp.norm(x, 1)) # 方法1: 用1-norm(convex)来表示绝对值就能保证DCP了\n",
    "# obj = cp.Minimize(cp.sum(cp.abs(x))) # 方法2: 先对每个元素求abs(convex),然后求和(affine)\n",
    "\n",
    "prob = cp.Problem(obj, cons)\n",
    "prob.solve()\n",
    "\n",
    "print(prob.value, x.value, sep='\\n')\n",
    "# prob.is_dcp()"
   ]
  },
  {
   "cell_type": "code",
   "execution_count": 121,
   "id": "02b2b02d",
   "metadata": {},
   "outputs": [],
   "source": [
    "x = cp.Variable(2)\n",
    "H = np.array([[0.5, -0.5],\n",
    "              [-0.5, 1]])\n",
    "# 直接查看expression的类型,或者通过.curvature调用\n",
    "# (x @ H)\n",
    "# (H @ x)\n",
    "# (x @ H @ x)\n",
    "# (cp.quad_form(x, H))"
   ]
  },
  {
   "cell_type": "markdown",
   "id": "25123bf1",
   "metadata": {},
   "source": [
    "回到例2 【书上例6.5，P206】\n",
    "$$\n",
    "\\begin{aligned}\n",
    "&\\max \\quad z = x_1^2 + x_2^2 +3x_3^2+4x_4^2+2x_5^2-8x_1-2x_2-3x_3-x_4-2x_5,\\\\\n",
    "&s.t. \\quad\n",
    "\\begin{cases}\n",
    "x_1 + x_2 + x_3+x_4+x_5 \\leq 400,\\\\\n",
    "x_1 + 2x_2 + 2x_3+x_4+6x_5 \\leq 800,\\\\\n",
    "2x_1 +x_2 +6x_3 \\leq 200,\\\\\n",
    "x_3 + x_4 +5x_5\\leq 200,\\\\\n",
    "0 \\leq x_i \\leq 99,\\quad i=1,2,\\cdots,5.\n",
    "\\end{cases}\n",
    "\\end{aligned}\n",
    "$$"
   ]
  },
  {
   "cell_type": "code",
   "execution_count": 9,
   "id": "fd5a2377",
   "metadata": {},
   "outputs": [
    {
     "ename": "DCPError",
     "evalue": "Problem does not follow DCP rules. Specifically:\nThe objective is not DCP, even though each sub-expression is.\nYou are trying to maximize a function that is convex.",
     "output_type": "error",
     "traceback": [
      "\u001b[1;31m---------------------------------------------------------------------------\u001b[0m",
      "\u001b[1;31mDCPError\u001b[0m                                  Traceback (most recent call last)",
      "\u001b[1;32m<ipython-input-9-b18ec040ad81>\u001b[0m in \u001b[0;36m<module>\u001b[1;34m()\u001b[0m\n\u001b[0;32m     14\u001b[0m \u001b[0mcons\u001b[0m \u001b[1;33m=\u001b[0m \u001b[1;33m[\u001b[0m\u001b[0mA\u001b[0m \u001b[1;33m@\u001b[0m \u001b[0mx\u001b[0m \u001b[1;33m<=\u001b[0m \u001b[0mb\u001b[0m\u001b[1;33m,\u001b[0m \u001b[1;36m0\u001b[0m \u001b[1;33m<=\u001b[0m \u001b[0mx\u001b[0m\u001b[1;33m,\u001b[0m \u001b[0mx\u001b[0m \u001b[1;33m<=\u001b[0m \u001b[1;36m99\u001b[0m\u001b[1;33m]\u001b[0m\u001b[1;33m\u001b[0m\u001b[0m\n\u001b[0;32m     15\u001b[0m \u001b[0mprob\u001b[0m \u001b[1;33m=\u001b[0m \u001b[0mcp\u001b[0m\u001b[1;33m.\u001b[0m\u001b[0mProblem\u001b[0m\u001b[1;33m(\u001b[0m\u001b[0mobj\u001b[0m\u001b[1;33m,\u001b[0m \u001b[0mcons\u001b[0m\u001b[1;33m)\u001b[0m\u001b[1;33m\u001b[0m\u001b[0m\n\u001b[1;32m---> 16\u001b[1;33m \u001b[0mprob\u001b[0m\u001b[1;33m.\u001b[0m\u001b[0msolve\u001b[0m\u001b[1;33m(\u001b[0m\u001b[1;33m)\u001b[0m\u001b[1;33m\u001b[0m\u001b[0m\n\u001b[0m\u001b[0;32m     17\u001b[0m \u001b[1;33m\u001b[0m\u001b[0m\n\u001b[0;32m     18\u001b[0m \u001b[0mprint\u001b[0m\u001b[1;33m(\u001b[0m\u001b[0mprob\u001b[0m\u001b[1;33m.\u001b[0m\u001b[0mvalue\u001b[0m\u001b[1;33m,\u001b[0m \u001b[0mx\u001b[0m\u001b[1;33m.\u001b[0m\u001b[0mvalue\u001b[0m\u001b[1;33m,\u001b[0m \u001b[0msep\u001b[0m\u001b[1;33m=\u001b[0m\u001b[1;34m'\\n'\u001b[0m\u001b[1;33m)\u001b[0m\u001b[1;33m\u001b[0m\u001b[0m\n",
      "\u001b[1;32mD:\\Softwares\\anaconda3\\lib\\site-packages\\cvxpy\\problems\\problem.py\u001b[0m in \u001b[0;36msolve\u001b[1;34m(self, *args, **kwargs)\u001b[0m\n\u001b[0;32m    479\u001b[0m         \u001b[1;32melse\u001b[0m\u001b[1;33m:\u001b[0m\u001b[1;33m\u001b[0m\u001b[0m\n\u001b[0;32m    480\u001b[0m             \u001b[0msolve_func\u001b[0m \u001b[1;33m=\u001b[0m \u001b[0mProblem\u001b[0m\u001b[1;33m.\u001b[0m\u001b[0m_solve\u001b[0m\u001b[1;33m\u001b[0m\u001b[0m\n\u001b[1;32m--> 481\u001b[1;33m         \u001b[1;32mreturn\u001b[0m \u001b[0msolve_func\u001b[0m\u001b[1;33m(\u001b[0m\u001b[0mself\u001b[0m\u001b[1;33m,\u001b[0m \u001b[1;33m*\u001b[0m\u001b[0margs\u001b[0m\u001b[1;33m,\u001b[0m \u001b[1;33m**\u001b[0m\u001b[0mkwargs\u001b[0m\u001b[1;33m)\u001b[0m\u001b[1;33m\u001b[0m\u001b[0m\n\u001b[0m\u001b[0;32m    482\u001b[0m \u001b[1;33m\u001b[0m\u001b[0m\n\u001b[0;32m    483\u001b[0m     \u001b[1;33m@\u001b[0m\u001b[0mclassmethod\u001b[0m\u001b[1;33m\u001b[0m\u001b[0m\n",
      "\u001b[1;32mD:\\Softwares\\anaconda3\\lib\\site-packages\\cvxpy\\problems\\problem.py\u001b[0m in \u001b[0;36m_solve\u001b[1;34m(self, solver, warm_start, verbose, gp, qcp, requires_grad, enforce_dpp, ignore_dpp, **kwargs)\u001b[0m\n\u001b[0;32m   1006\u001b[0m \u001b[1;33m\u001b[0m\u001b[0m\n\u001b[0;32m   1007\u001b[0m         data, solving_chain, inverse_data = self.get_problem_data(\n\u001b[1;32m-> 1008\u001b[1;33m             solver, gp, enforce_dpp, ignore_dpp, verbose)\n\u001b[0m\u001b[0;32m   1009\u001b[0m \u001b[1;33m\u001b[0m\u001b[0m\n\u001b[0;32m   1010\u001b[0m         \u001b[1;32mif\u001b[0m \u001b[0mverbose\u001b[0m\u001b[1;33m:\u001b[0m\u001b[1;33m\u001b[0m\u001b[0m\n",
      "\u001b[1;32mD:\\Softwares\\anaconda3\\lib\\site-packages\\cvxpy\\problems\\problem.py\u001b[0m in \u001b[0;36mget_problem_data\u001b[1;34m(self, solver, gp, enforce_dpp, ignore_dpp, verbose)\u001b[0m\n\u001b[0;32m    608\u001b[0m                 \u001b[0msolver\u001b[0m\u001b[1;33m=\u001b[0m\u001b[0msolver\u001b[0m\u001b[1;33m,\u001b[0m \u001b[0mgp\u001b[0m\u001b[1;33m=\u001b[0m\u001b[0mgp\u001b[0m\u001b[1;33m,\u001b[0m\u001b[1;33m\u001b[0m\u001b[0m\n\u001b[0;32m    609\u001b[0m                 \u001b[0menforce_dpp\u001b[0m\u001b[1;33m=\u001b[0m\u001b[0menforce_dpp\u001b[0m\u001b[1;33m,\u001b[0m\u001b[1;33m\u001b[0m\u001b[0m\n\u001b[1;32m--> 610\u001b[1;33m                 ignore_dpp=ignore_dpp)\n\u001b[0m\u001b[0;32m    611\u001b[0m             \u001b[0mself\u001b[0m\u001b[1;33m.\u001b[0m\u001b[0m_cache\u001b[0m\u001b[1;33m.\u001b[0m\u001b[0mkey\u001b[0m \u001b[1;33m=\u001b[0m \u001b[0mkey\u001b[0m\u001b[1;33m\u001b[0m\u001b[0m\n\u001b[0;32m    612\u001b[0m             \u001b[0mself\u001b[0m\u001b[1;33m.\u001b[0m\u001b[0m_cache\u001b[0m\u001b[1;33m.\u001b[0m\u001b[0msolving_chain\u001b[0m \u001b[1;33m=\u001b[0m \u001b[0msolving_chain\u001b[0m\u001b[1;33m\u001b[0m\u001b[0m\n",
      "\u001b[1;32mD:\\Softwares\\anaconda3\\lib\\site-packages\\cvxpy\\problems\\problem.py\u001b[0m in \u001b[0;36m_construct_chain\u001b[1;34m(self, solver, gp, enforce_dpp, ignore_dpp)\u001b[0m\n\u001b[0;32m    845\u001b[0m         return construct_solving_chain(self, candidate_solvers, gp=gp,\n\u001b[0;32m    846\u001b[0m                                        \u001b[0menforce_dpp\u001b[0m\u001b[1;33m=\u001b[0m\u001b[0menforce_dpp\u001b[0m\u001b[1;33m,\u001b[0m\u001b[1;33m\u001b[0m\u001b[0m\n\u001b[1;32m--> 847\u001b[1;33m                                        ignore_dpp=ignore_dpp)\n\u001b[0m\u001b[0;32m    848\u001b[0m \u001b[1;33m\u001b[0m\u001b[0m\n\u001b[0;32m    849\u001b[0m     \u001b[1;33m@\u001b[0m\u001b[0mstaticmethod\u001b[0m\u001b[1;33m\u001b[0m\u001b[0m\n",
      "\u001b[1;32mD:\\Softwares\\anaconda3\\lib\\site-packages\\cvxpy\\reductions\\solvers\\solving_chain.py\u001b[0m in \u001b[0;36mconstruct_solving_chain\u001b[1;34m(problem, candidates, gp, enforce_dpp, ignore_dpp)\u001b[0m\n\u001b[0;32m    160\u001b[0m     \u001b[1;32mif\u001b[0m \u001b[0mlen\u001b[0m\u001b[1;33m(\u001b[0m\u001b[0mproblem\u001b[0m\u001b[1;33m.\u001b[0m\u001b[0mvariables\u001b[0m\u001b[1;33m(\u001b[0m\u001b[1;33m)\u001b[0m\u001b[1;33m)\u001b[0m \u001b[1;33m==\u001b[0m \u001b[1;36m0\u001b[0m\u001b[1;33m:\u001b[0m\u001b[1;33m\u001b[0m\u001b[0m\n\u001b[0;32m    161\u001b[0m         \u001b[1;32mreturn\u001b[0m \u001b[0mSolvingChain\u001b[0m\u001b[1;33m(\u001b[0m\u001b[0mreductions\u001b[0m\u001b[1;33m=\u001b[0m\u001b[1;33m[\u001b[0m\u001b[0mConstantSolver\u001b[0m\u001b[1;33m(\u001b[0m\u001b[1;33m)\u001b[0m\u001b[1;33m]\u001b[0m\u001b[1;33m)\u001b[0m\u001b[1;33m\u001b[0m\u001b[0m\n\u001b[1;32m--> 162\u001b[1;33m     \u001b[0mreductions\u001b[0m \u001b[1;33m=\u001b[0m \u001b[0m_reductions_for_problem_class\u001b[0m\u001b[1;33m(\u001b[0m\u001b[0mproblem\u001b[0m\u001b[1;33m,\u001b[0m \u001b[0mcandidates\u001b[0m\u001b[1;33m,\u001b[0m \u001b[0mgp\u001b[0m\u001b[1;33m)\u001b[0m\u001b[1;33m\u001b[0m\u001b[0m\n\u001b[0m\u001b[0;32m    163\u001b[0m \u001b[1;33m\u001b[0m\u001b[0m\n\u001b[0;32m    164\u001b[0m     \u001b[1;31m# Process DPP status of the problem.\u001b[0m\u001b[1;33m\u001b[0m\u001b[1;33m\u001b[0m\u001b[0m\n",
      "\u001b[1;32mD:\\Softwares\\anaconda3\\lib\\site-packages\\cvxpy\\reductions\\solvers\\solving_chain.py\u001b[0m in \u001b[0;36m_reductions_for_problem_class\u001b[1;34m(problem, candidates, gp)\u001b[0m\n\u001b[0;32m     93\u001b[0m                        \"Consider calling solve() with `qcp=True`.\")\n\u001b[0;32m     94\u001b[0m         raise DCPError(\n\u001b[1;32m---> 95\u001b[1;33m             \"Problem does not follow DCP rules. Specifically:\\n\" + append)\n\u001b[0m\u001b[0;32m     96\u001b[0m     \u001b[1;32melif\u001b[0m \u001b[0mgp\u001b[0m \u001b[1;32mand\u001b[0m \u001b[1;32mnot\u001b[0m \u001b[0mproblem\u001b[0m\u001b[1;33m.\u001b[0m\u001b[0mis_dgp\u001b[0m\u001b[1;33m(\u001b[0m\u001b[1;33m)\u001b[0m\u001b[1;33m:\u001b[0m\u001b[1;33m\u001b[0m\u001b[0m\n\u001b[0;32m     97\u001b[0m         \u001b[0mappend\u001b[0m \u001b[1;33m=\u001b[0m \u001b[0mbuild_non_disciplined_error_msg\u001b[0m\u001b[1;33m(\u001b[0m\u001b[0mproblem\u001b[0m\u001b[1;33m,\u001b[0m \u001b[1;34m'DGP'\u001b[0m\u001b[1;33m)\u001b[0m\u001b[1;33m\u001b[0m\u001b[0m\n",
      "\u001b[1;31mDCPError\u001b[0m: Problem does not follow DCP rules. Specifically:\nThe objective is not DCP, even though each sub-expression is.\nYou are trying to maximize a function that is convex."
     ]
    }
   ],
   "source": [
    "import numpy as np\n",
    "import cvxpy as cp \n",
    "\n",
    "c1 = np.array([1, 1, 3, 4, 2])\n",
    "c2 = np.array([-8, -2, -3, -1, -2])\n",
    "A = np.array([[1, 1, 1, 1, 1],\n",
    "              [1, 2, 2, 1, 6],\n",
    "              [2, 1, 6, 0, 0],\n",
    "              [0, 0, 1, 1, 5]])\n",
    "b = np.array([400, 800, 200, 200])\n",
    "\n",
    "x = cp.Variable(5)\n",
    "obj = cp.Maximize(c1 @ x**2 + c2 @ x) # 问题出在min\n",
    "cons = [A @ x <= b, 0 <= x, x <= 99]\n",
    "prob = cp.Problem(obj, cons)\n",
    "prob.solve()\n",
    "\n",
    "print(prob.value, x.value, sep='\\n')\n",
    "\n",
    "# 问题出在哪?为什么不满足DCP规则?"
   ]
  },
  {
   "attachments": {},
   "cell_type": "markdown",
   "id": "415efe01",
   "metadata": {},
   "source": [
    "---\n",
    "\n",
    "## 模拟退火算法\n",
    "\n",
    "【书上例17.1，P474】\n",
    "\n",
    "已知100个目标的经度、纬度如表17.1所示。我方有一个基地，经度和纬度为（70,40）。假设我方飞机的速度为1000公里/小时。我方派一架飞机从基地出发，侦察完所有目标，再返回原来的基地。在每一目标点的侦察时间不计，求该架飞机所花费的时间（假设我方飞机巡航时间可以充分长）。"
   ]
  },
  {
   "cell_type": "code",
   "execution_count": 4,
   "id": "583c6b2a",
   "metadata": {},
   "outputs": [
    {
     "name": "stderr",
     "output_type": "stream",
     "text": [
      "D:\\Softwares\\anaconda3\\lib\\site-packages\\ipykernel_launcher.py:19: RuntimeWarning: invalid value encountered in arccos\n"
     ]
    },
    {
     "name": "stdout",
     "output_type": "stream",
     "text": [
      "[  0  63   6  98  20  69  32  96  59  26  38  73  46  21  52  22  76  81\n",
      "  31  42  83  36  94   5  82  48 100  85   7  75  50  65   2  66  28   4\n",
      "  95   1  23  27  61  45  18  29  93  74  77  97  41  71  49   9  16  10\n",
      "  43  40  11  58  60  78  91  24  89  39  88  17  79  84   3  25  33  57\n",
      "  30  90  54  99  12  55  80  44  37  92  15  34  70  13  35  19  62  64\n",
      "  47  68  56  14  86  53  51  72  87  67   8 101]\n",
      "257582.82104964345\n",
      "[  0  61   5  38  66  28  44  64   1  74  63  24  86  83  49   2  33  32\n",
      "  65  84  18  36  55  51  37  71  99   4  12  35  54  73  14  91  62  53\n",
      "  29  13  11  95  26  87   9  58  60  57  39  48  23   6  90  89  45  67\n",
      "  21  93  82   8  50  25  40  43  47  75  72  69  97  59  10  30  56  85\n",
      "  27  20  81  79  42  22  41   7  15  80  52  17  19  96  88  70  46  94\n",
      "  16  98 100  92  77   3  78  31  68  34  76 101]\n",
      "37830.933310797096\n"
     ]
    },
    {
     "data": {
      "image/png": "[encoded data removed]",
      "text/plain": [
       "<Figure size 432x288 with 1 Axes>"
      ]
     },
     "metadata": {
      "needs_background": "light"
     },
     "output_type": "display_data"
    },
    {
     "name": "stdout",
     "output_type": "stream",
     "text": [
      "[[5.37121e+01 1.53046e+01 5.11758e+01 3.22000e-02 4.63253e+01 2.82753e+01\n",
      "  3.03313e+01 6.93480e+00]\n",
      " [5.65432e+01 2.14188e+01 1.08198e+01 1.62529e+01 2.27891e+01 2.31045e+01\n",
      "  1.01584e+01 1.24819e+01]\n",
      " [2.01050e+01 1.54562e+01 1.94510e+00 2.05700e-01 2.64951e+01 2.21221e+01\n",
      "  3.14847e+01 8.96400e+00]\n",
      " [2.62418e+01 1.81760e+01 4.40356e+01 1.35401e+01 2.89836e+01 2.59879e+01\n",
      "  3.84722e+01 2.01731e+01]\n",
      " [2.82694e+01 2.90011e+01 3.21910e+01 5.86990e+00 3.64863e+01 2.97284e+01\n",
      "  9.71800e-01 2.81477e+01]\n",
      " [8.95860e+00 2.46635e+01 1.65618e+01 2.36143e+01 1.05597e+01 1.51178e+01\n",
      "  5.02111e+01 1.02944e+01]\n",
      " [8.15190e+00 9.53250e+00 2.21075e+01 1.85569e+01 1.21500e-01 1.88726e+01\n",
      "  4.82077e+01 1.68889e+01]\n",
      " [3.19499e+01 1.76309e+01 7.73200e-01 4.65600e-01 4.74134e+01 2.37783e+01\n",
      "  4.18671e+01 3.56670e+00]\n",
      " [4.35474e+01 3.90610e+00 5.33524e+01 2.67256e+01 3.08165e+01 1.34595e+01\n",
      "  2.77133e+01 5.07060e+00]\n",
      " [2.39222e+01 7.63060e+00 5.19612e+01 2.28511e+01 1.27938e+01 1.57307e+01\n",
      "  4.95680e+00 8.36690e+00]\n",
      " [2.15051e+01 2.40909e+01 1.52548e+01 2.72111e+01 6.20700e+00 5.14420e+00\n",
      "  4.92430e+01 1.67044e+01]\n",
      " [1.71168e+01 2.00354e+01 3.41688e+01 2.27571e+01 9.44020e+00 3.92000e+00\n",
      "  1.15812e+01 1.45677e+01]\n",
      " [5.21181e+01 4.08800e-01 9.55590e+00 1.14219e+01 2.44509e+01 6.56340e+00\n",
      "  2.67213e+01 2.85667e+01]\n",
      " [3.75848e+01 1.68474e+01 3.56619e+01 9.93330e+00 2.44654e+01 3.16440e+00\n",
      "  7.77500e-01 6.95760e+00]\n",
      " [1.44703e+01 1.36368e+01 1.98660e+01 1.51224e+01 3.16160e+00 4.24280e+00\n",
      "  1.85245e+01 1.43598e+01]\n",
      " [5.86849e+01 2.71485e+01 3.95168e+01 1.69371e+01 5.65089e+01 1.37090e+01\n",
      "  5.25211e+01 1.57957e+01]\n",
      " [3.84300e+01 8.46480e+00 5.18181e+01 2.30159e+01 8.99830e+00 2.36440e+01\n",
      "  5.01156e+01 2.37816e+01]\n",
      " [1.37909e+01 1.95100e+00 3.40574e+01 2.33960e+01 2.30624e+01 8.43190e+00\n",
      "  1.99857e+01 5.79020e+00]\n",
      " [4.08801e+01 1.42978e+01 5.88289e+01 1.45229e+01 1.86635e+01 6.74360e+00\n",
      "  5.28423e+01 2.72880e+01]\n",
      " [3.99494e+01 2.95114e+01 4.75099e+01 2.40664e+01 1.01121e+01 2.72662e+01\n",
      "  2.87812e+01 2.76659e+01]\n",
      " [8.08310e+00 2.76705e+01 9.15560e+00 1.41304e+01 5.37989e+01 2.19900e-01\n",
      "  3.36490e+01 3.98000e-01]\n",
      " [1.34960e+00 1.68359e+01 4.99816e+01 6.08280e+00 1.93635e+01 1.76622e+01\n",
      "  3.69545e+01 2.30265e+01]\n",
      " [1.57320e+01 1.95697e+01 1.15118e+01 1.73884e+01 4.40398e+01 1.62635e+01\n",
      "  3.97139e+01 2.84203e+01]\n",
      " [6.99090e+00 2.31804e+01 3.83392e+01 1.99950e+01 2.46543e+01 1.96057e+01\n",
      "  3.69980e+01 2.43992e+01]\n",
      " [4.15910e+00 3.18530e+00 4.01400e+01 2.03030e+01 2.39876e+01 9.40300e+00\n",
      "  4.11084e+01 2.77149e+01]]\n"
     ]
    }
   ],
   "source": [
    "# 旅行商问题\n",
    "import numpy as np\n",
    "from numpy import radians, arccos, cos, sin, exp\n",
    "import matplotlib.pyplot as plt\n",
    "\n",
    "\n",
    "a = np.loadtxt(\"Pdata17_1.txt\") # 这样读入会自动按空格分割，生成ndarray\n",
    "\n",
    "# with open(\"Pdata17_1.txt\", 'r') as f: # 这样只会读入为字符串\n",
    "#     a = f.read()\n",
    "\n",
    "x = a[:, ::2].flatten()\n",
    "y = a[:, 1::2].flatten()\n",
    "d1 = np.array([70, 40]) # 起点\n",
    "xy = np.vstack([d1, np.column_stack([x, y]), d1])\n",
    "N = xy.shape[0] # N = 102\n",
    "t = radians(xy) # 转化为弧度\n",
    "d = np.array([[6370 * arccos(cos(t[i,0]-t[j,0])*cos(t[i,1])*cos(t[j,1]) + sin(t[i,1])*sin(t[j,1]))\n",
    "               for j in range(N)] for i in range(N)]).real\n",
    "# 生成邻接矩阵(对称矩阵)\n",
    "\n",
    "\"\"\"\n",
    "预处理: Monte Carlo方法: 先初步筛选, 给出一些可行的解\n",
    "\"\"\"\n",
    "path = np.arange(N) # 保存路径  0,1,...,101\n",
    "L = np.inf # 保存最小值答案\n",
    "for _ in range(1000): # 设定随机1000次操作(可以改成其他值)\n",
    "    path0 = np.arange(1, N-1)\n",
    "    np.random.shuffle(path0)\n",
    "    path0 = np.hstack([0, path0, N-1]) # 打乱path中间的N-2项生成path0\n",
    "    L0 = d[path[0], path0[1]]\n",
    "    for i in range(1, N-1):\n",
    "        L0 += d[path[i], path[i+1]] # 求总路程\n",
    "    if L0 < L: # 更新\n",
    "        path = path0\n",
    "        L = L0\n",
    "print(path, L, sep='\\n')\n",
    "\n",
    "\"\"\"\n",
    "模拟退火法(关键在于'概率'的运用,以及退火的流程)\n",
    "\"\"\"\n",
    "e = 0.1**30 # 终止温度\n",
    "M = 50000 # 循环次数上限\n",
    "alpha = 0.999 # 降温系数\n",
    "T = 1 # 起始温度\n",
    "for _ in range(M):\n",
    "    rnd = np.random.randint(1, 101, size=2)\n",
    "    rnd.sort()\n",
    "    u = rnd[0]\n",
    "    v = rnd[1] # 生成1,2,...,100中的两个随机数, u < v\n",
    "    df = (d[path[u-1], path[v]] + d[path[u], path[v+1]]\n",
    "          - d[path[u-1], path[u]] - d[path[v], path[v+1]])\n",
    "    if df < 0:\n",
    "        path = np.hstack([path[:u], # 0,1,...,u-1\n",
    "                          path[v:u-1:-1], # v,v-1,...,u+1,u\n",
    "                          path[v+1:]]) #v+1,...,101\n",
    "        L = L + df\n",
    "    elif exp(-df/T) >= np.random.rand(1): # 0-1随机数\n",
    "        path = np.hstack([path[:u],\n",
    "                          path[v:u-1:-1],\n",
    "                          path[v+1:]])\n",
    "        L = L + df\n",
    "    T = T * alpha # 退火\n",
    "    if T < e: break # 温度小于终止温度则退出,否则继续\n",
    "print(path, L, sep='\\n') # 输出巡航路径及路径长度\n",
    "\n",
    "\n",
    "xx = xy[path, 0]\n",
    "yy = xy[path, 1]\n",
    "plt.plot(xx, yy, '-*')\n",
    "plt.show()  #画巡航路径"
   ]
  }
 ],
 "metadata": {
  "kernelspec": {
   "display_name": "Python 3 (ipykernel)",
   "language": "python",
   "name": "python3"
  },
  "language_info": {
   "codemirror_mode": {
    "name": "ipython",
    "version": 3
   },
   "file_extension": ".py",
   "mimetype": "text/x-python",
   "name": "python",
   "nbconvert_exporter": "python",
   "pygments_lexer": "ipython3",
   "version": "3.7.13"
  }
 },
 "nbformat": 4,
 "nbformat_minor": 5
}
